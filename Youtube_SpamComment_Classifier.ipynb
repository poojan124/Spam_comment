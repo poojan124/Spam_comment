{
 "cells": [
  {
   "cell_type": "code",
   "execution_count": 1,
   "metadata": {
    "collapsed": false,
    "deletable": true,
    "editable": true
   },
   "outputs": [
    {
     "name": "stderr",
     "output_type": "stream",
     "text": [
      "c:\\python35\\lib\\site-packages\\sklearn\\cross_validation.py:44: DeprecationWarning: This module was deprecated in version 0.18 in favor of the model_selection module into which all the refactored classes and functions are moved. Also note that the interface of the new CV iterators are different from that of this module. This module will be removed in 0.20.\n",
      "  \"This module will be removed in 0.20.\", DeprecationWarning)\n"
     ]
    }
   ],
   "source": [
    "import pandas as pd\n",
    "import numpy as np\n",
    "from sklearn.cross_validation import train_test_split\n",
    "from bs4 import BeautifulSoup\n",
    "import warnings\n"
   ]
  },
  {
   "cell_type": "code",
   "execution_count": 9,
   "metadata": {
    "collapsed": false,
    "deletable": true,
    "editable": true
   },
   "outputs": [
    {
     "name": "stdout",
     "output_type": "stream",
     "text": [
      "(1956, 5)\n"
     ]
    },
    {
     "data": {
      "text/html": [
       "<div>\n",
       "<style>\n",
       "    .dataframe thead tr:only-child th {\n",
       "        text-align: right;\n",
       "    }\n",
       "\n",
       "    .dataframe thead th {\n",
       "        text-align: left;\n",
       "    }\n",
       "\n",
       "    .dataframe tbody tr th {\n",
       "        vertical-align: top;\n",
       "    }\n",
       "</style>\n",
       "<table border=\"1\" class=\"dataframe\">\n",
       "  <thead>\n",
       "    <tr style=\"text-align: right;\">\n",
       "      <th></th>\n",
       "      <th>COMMENT_ID</th>\n",
       "      <th>AUTHOR</th>\n",
       "      <th>DATE</th>\n",
       "      <th>CONTENT</th>\n",
       "      <th>CLASS</th>\n",
       "    </tr>\n",
       "  </thead>\n",
       "  <tbody>\n",
       "    <tr>\n",
       "      <th>0</th>\n",
       "      <td>LZQPQhLyRh80UYxNuaDWhIGQYNQ96IuCg-AYWqNPjpU</td>\n",
       "      <td>Julius NM</td>\n",
       "      <td>2013-11-07T06:20:48</td>\n",
       "      <td>Huh, anyway check out this you[tube] channel: ...</td>\n",
       "      <td>1</td>\n",
       "    </tr>\n",
       "    <tr>\n",
       "      <th>1</th>\n",
       "      <td>LZQPQhLyRh_C2cTtd9MvFRJedxydaVW-2sNg5Diuo4A</td>\n",
       "      <td>adam riyati</td>\n",
       "      <td>2013-11-07T12:37:15</td>\n",
       "      <td>Hey guys check out my new channel and our firs...</td>\n",
       "      <td>1</td>\n",
       "    </tr>\n",
       "    <tr>\n",
       "      <th>2</th>\n",
       "      <td>LZQPQhLyRh9MSZYnf8djyk0gEF9BHDPYrrK-qCczIY8</td>\n",
       "      <td>Evgeny Murashkin</td>\n",
       "      <td>2013-11-08T17:34:21</td>\n",
       "      <td>just for test I have to say murdev.com</td>\n",
       "      <td>1</td>\n",
       "    </tr>\n",
       "    <tr>\n",
       "      <th>3</th>\n",
       "      <td>z13jhp0bxqncu512g22wvzkasxmvvzjaz04</td>\n",
       "      <td>ElNino Melendez</td>\n",
       "      <td>2013-11-09T08:28:43</td>\n",
       "      <td>me shaking my sexy ass on my channel enjoy ^_^ ﻿</td>\n",
       "      <td>1</td>\n",
       "    </tr>\n",
       "    <tr>\n",
       "      <th>4</th>\n",
       "      <td>z13fwbwp1oujthgqj04chlngpvzmtt3r3dw</td>\n",
       "      <td>GsMega</td>\n",
       "      <td>2013-11-10T16:05:38</td>\n",
       "      <td>watch?v=vtaRGgvGtWQ   Check this out .﻿</td>\n",
       "      <td>1</td>\n",
       "    </tr>\n",
       "  </tbody>\n",
       "</table>\n",
       "</div>"
      ],
      "text/plain": [
       "                                    COMMENT_ID            AUTHOR  \\\n",
       "0  LZQPQhLyRh80UYxNuaDWhIGQYNQ96IuCg-AYWqNPjpU         Julius NM   \n",
       "1  LZQPQhLyRh_C2cTtd9MvFRJedxydaVW-2sNg5Diuo4A       adam riyati   \n",
       "2  LZQPQhLyRh9MSZYnf8djyk0gEF9BHDPYrrK-qCczIY8  Evgeny Murashkin   \n",
       "3          z13jhp0bxqncu512g22wvzkasxmvvzjaz04   ElNino Melendez   \n",
       "4          z13fwbwp1oujthgqj04chlngpvzmtt3r3dw            GsMega   \n",
       "\n",
       "                  DATE                                            CONTENT  \\\n",
       "0  2013-11-07T06:20:48  Huh, anyway check out this you[tube] channel: ...   \n",
       "1  2013-11-07T12:37:15  Hey guys check out my new channel and our firs...   \n",
       "2  2013-11-08T17:34:21             just for test I have to say murdev.com   \n",
       "3  2013-11-09T08:28:43   me shaking my sexy ass on my channel enjoy ^_^ ﻿   \n",
       "4  2013-11-10T16:05:38            watch?v=vtaRGgvGtWQ   Check this out .﻿   \n",
       "\n",
       "   CLASS  \n",
       "0      1  \n",
       "1      1  \n",
       "2      1  \n",
       "3      1  \n",
       "4      1  "
      ]
     },
     "execution_count": 9,
     "metadata": {},
     "output_type": "execute_result"
    }
   ],
   "source": [
    "files = ['Youtube01-Psy.csv','Youtube02-KatyPerry.csv','Youtube03-LMFAO.csv','Youtube04-Eminem.csv','Youtube05-Shakira.csv']\n",
    "frames = [pd.read_csv(f) for f in files]\n",
    "data = pd.concat(frames,axis=0,ignore_index=True)\n",
    "print(data.shape)\n",
    "data.head()"
   ]
  },
  {
   "cell_type": "code",
   "execution_count": 10,
   "metadata": {
    "collapsed": false,
    "deletable": true,
    "editable": true
   },
   "outputs": [
    {
     "name": "stdout",
     "output_type": "stream",
     "text": [
      "(1956, 2)\n"
     ]
    },
    {
     "data": {
      "text/html": [
       "<div>\n",
       "<style>\n",
       "    .dataframe thead tr:only-child th {\n",
       "        text-align: right;\n",
       "    }\n",
       "\n",
       "    .dataframe thead th {\n",
       "        text-align: left;\n",
       "    }\n",
       "\n",
       "    .dataframe tbody tr th {\n",
       "        vertical-align: top;\n",
       "    }\n",
       "</style>\n",
       "<table border=\"1\" class=\"dataframe\">\n",
       "  <thead>\n",
       "    <tr style=\"text-align: right;\">\n",
       "      <th></th>\n",
       "      <th>CONTENT</th>\n",
       "      <th>CLASS</th>\n",
       "    </tr>\n",
       "  </thead>\n",
       "  <tbody>\n",
       "    <tr>\n",
       "      <th>0</th>\n",
       "      <td>Huh, anyway check out this you[tube] channel: ...</td>\n",
       "      <td>1</td>\n",
       "    </tr>\n",
       "    <tr>\n",
       "      <th>1</th>\n",
       "      <td>Hey guys check out my new channel and our firs...</td>\n",
       "      <td>1</td>\n",
       "    </tr>\n",
       "    <tr>\n",
       "      <th>2</th>\n",
       "      <td>just for test I have to say murdev.com</td>\n",
       "      <td>1</td>\n",
       "    </tr>\n",
       "    <tr>\n",
       "      <th>3</th>\n",
       "      <td>me shaking my sexy ass on my channel enjoy ^_^ ﻿</td>\n",
       "      <td>1</td>\n",
       "    </tr>\n",
       "    <tr>\n",
       "      <th>4</th>\n",
       "      <td>watch?v=vtaRGgvGtWQ   Check this out .﻿</td>\n",
       "      <td>1</td>\n",
       "    </tr>\n",
       "    <tr>\n",
       "      <th>5</th>\n",
       "      <td>Hey, check out my new website!! This site is a...</td>\n",
       "      <td>1</td>\n",
       "    </tr>\n",
       "    <tr>\n",
       "      <th>6</th>\n",
       "      <td>Subscribe to my channel ﻿</td>\n",
       "      <td>1</td>\n",
       "    </tr>\n",
       "    <tr>\n",
       "      <th>7</th>\n",
       "      <td>i turned it on mute as soon is i came on i jus...</td>\n",
       "      <td>0</td>\n",
       "    </tr>\n",
       "    <tr>\n",
       "      <th>8</th>\n",
       "      <td>You should check my channel for Funny VIDEOS!!﻿</td>\n",
       "      <td>1</td>\n",
       "    </tr>\n",
       "    <tr>\n",
       "      <th>9</th>\n",
       "      <td>and u should.d check my channel and tell me wh...</td>\n",
       "      <td>1</td>\n",
       "    </tr>\n",
       "  </tbody>\n",
       "</table>\n",
       "</div>"
      ],
      "text/plain": [
       "                                             CONTENT  CLASS\n",
       "0  Huh, anyway check out this you[tube] channel: ...      1\n",
       "1  Hey guys check out my new channel and our firs...      1\n",
       "2             just for test I have to say murdev.com      1\n",
       "3   me shaking my sexy ass on my channel enjoy ^_^ ﻿      1\n",
       "4            watch?v=vtaRGgvGtWQ   Check this out .﻿      1\n",
       "5  Hey, check out my new website!! This site is a...      1\n",
       "6                          Subscribe to my channel ﻿      1\n",
       "7  i turned it on mute as soon is i came on i jus...      0\n",
       "8    You should check my channel for Funny VIDEOS!!﻿      1\n",
       "9  and u should.d check my channel and tell me wh...      1"
      ]
     },
     "execution_count": 10,
     "metadata": {},
     "output_type": "execute_result"
    }
   ],
   "source": [
    "data = data.drop(['COMMENT_ID','AUTHOR','DATE'],axis=1)\n",
    "print(data.shape)\n",
    "data.head(n=10)"
   ]
  },
  {
   "cell_type": "code",
   "execution_count": 11,
   "metadata": {
    "collapsed": false,
    "deletable": true,
    "editable": true,
    "scrolled": true
   },
   "outputs": [],
   "source": [
    "warnings.filterwarnings(\"ignore\", category=UserWarning, module='bs4')\n",
    "data['CONTENT'] = data['CONTENT'].apply(lambda x: BeautifulSoup(x,'html.parser').get_text())"
   ]
  },
  {
   "cell_type": "code",
   "execution_count": 12,
   "metadata": {
    "collapsed": false,
    "deletable": true,
    "editable": true
   },
   "outputs": [
    {
     "name": "stdout",
     "output_type": "stream",
     "text": [
      "(1956, 2)\n",
      "569\n",
      "-->1\n",
      "-->Hey guys, I was working last night on this project, it's a music streamer  like spotify, but it allows you to download the files to listen to when  you're offline. Opening it as a free beta, feel free to try it out :) download: https://mega.co.nz/#!ehVjzKyA!5bGKg2iWPHZOHWAEUesrWnegqG_lABcO7Rw9WFX8hAo﻿\n",
      "\n",
      "702\n",
      "-->1\n",
      "-->Hey guys, I'm a human.But I don't want to be a human, I want to be a sexy fucking giraffe.I already have the money for the surgery to elongate my spinal core, the surgery to change my skin pigment, and everything else! Like this post so others can root me on in my dream!!!!Im fucking with you, I make music, check out my first song! #giraffebruuh﻿\n",
      "\n"
     ]
    }
   ],
   "source": [
    "print(data.shape)\n",
    "for idx,x in data.iterrows():\n",
    "    if x['CONTENT'].find('Hey guys,')!=-1:\n",
    "        print(str(idx),end='\\n')\n",
    "        print(\"-->\" + str(x['CLASS']),end=\"\\n\")\n",
    "        print(\"-->\" + x['CONTENT'],end=\"\\n\\n\")"
   ]
  },
  {
   "cell_type": "code",
   "execution_count": 13,
   "metadata": {
    "collapsed": false,
    "deletable": true,
    "editable": true
   },
   "outputs": [
    {
     "data": {
      "text/html": [
       "<div>\n",
       "<style>\n",
       "    .dataframe thead tr:only-child th {\n",
       "        text-align: right;\n",
       "    }\n",
       "\n",
       "    .dataframe thead th {\n",
       "        text-align: left;\n",
       "    }\n",
       "\n",
       "    .dataframe tbody tr th {\n",
       "        vertical-align: top;\n",
       "    }\n",
       "</style>\n",
       "<table border=\"1\" class=\"dataframe\">\n",
       "  <thead>\n",
       "    <tr style=\"text-align: right;\">\n",
       "      <th></th>\n",
       "      <th>CONTENT</th>\n",
       "      <th>CLASS</th>\n",
       "    </tr>\n",
       "  </thead>\n",
       "  <tbody>\n",
       "    <tr>\n",
       "      <th>0</th>\n",
       "      <td>Huh anyway check out this youtube channel koby...</td>\n",
       "      <td>1</td>\n",
       "    </tr>\n",
       "    <tr>\n",
       "      <th>1</th>\n",
       "      <td>Hey guys check out my new channel and our firs...</td>\n",
       "      <td>1</td>\n",
       "    </tr>\n",
       "    <tr>\n",
       "      <th>2</th>\n",
       "      <td>just for test I have to say murdevcom</td>\n",
       "      <td>1</td>\n",
       "    </tr>\n",
       "    <tr>\n",
       "      <th>3</th>\n",
       "      <td>me shaking my sexy ass on my channel enjoy  ﻿</td>\n",
       "      <td>1</td>\n",
       "    </tr>\n",
       "    <tr>\n",
       "      <th>4</th>\n",
       "      <td>watchvvtaRGgvGtWQ   Check this out ﻿</td>\n",
       "      <td>1</td>\n",
       "    </tr>\n",
       "  </tbody>\n",
       "</table>\n",
       "</div>"
      ],
      "text/plain": [
       "                                             CONTENT  CLASS\n",
       "0  Huh anyway check out this youtube channel koby...      1\n",
       "1  Hey guys check out my new channel and our firs...      1\n",
       "2              just for test I have to say murdevcom      1\n",
       "3      me shaking my sexy ass on my channel enjoy  ﻿      1\n",
       "4               watchvvtaRGgvGtWQ   Check this out ﻿      1"
      ]
     },
     "execution_count": 13,
     "metadata": {},
     "output_type": "execute_result"
    }
   ],
   "source": [
    "import re,string\n",
    "data['CONTENT'] = data['CONTENT'].apply(lambda x: re.sub('[%s]' % re.escape(string.punctuation), '', x))\n",
    "data.head()"
   ]
  },
  {
   "cell_type": "code",
   "execution_count": 14,
   "metadata": {
    "collapsed": false,
    "deletable": true,
    "editable": true
   },
   "outputs": [
    {
     "data": {
      "text/html": [
       "<div>\n",
       "<style>\n",
       "    .dataframe thead tr:only-child th {\n",
       "        text-align: right;\n",
       "    }\n",
       "\n",
       "    .dataframe thead th {\n",
       "        text-align: left;\n",
       "    }\n",
       "\n",
       "    .dataframe tbody tr th {\n",
       "        vertical-align: top;\n",
       "    }\n",
       "</style>\n",
       "<table border=\"1\" class=\"dataframe\">\n",
       "  <thead>\n",
       "    <tr style=\"text-align: right;\">\n",
       "      <th></th>\n",
       "      <th>CONTENT</th>\n",
       "    </tr>\n",
       "    <tr>\n",
       "      <th>CLASS</th>\n",
       "      <th></th>\n",
       "    </tr>\n",
       "  </thead>\n",
       "  <tbody>\n",
       "    <tr>\n",
       "      <th>0</th>\n",
       "      <td>951</td>\n",
       "    </tr>\n",
       "    <tr>\n",
       "      <th>1</th>\n",
       "      <td>1005</td>\n",
       "    </tr>\n",
       "  </tbody>\n",
       "</table>\n",
       "</div>"
      ],
      "text/plain": [
       "       CONTENT\n",
       "CLASS         \n",
       "0          951\n",
       "1         1005"
      ]
     },
     "execution_count": 14,
     "metadata": {},
     "output_type": "execute_result"
    }
   ],
   "source": [
    "data.groupby('CLASS').count()"
   ]
  },
  {
   "cell_type": "code",
   "execution_count": 16,
   "metadata": {
    "collapsed": false,
    "deletable": true,
    "editable": true
   },
   "outputs": [],
   "source": [
    "from nltk.corpus import stopwords\n",
    "from nltk.tokenize import word_tokenize\n",
    "\n",
    "# -*- coding: utf-8 -*-\n",
    "def isEnglish(s):\n",
    "    try:\n",
    "        s.encode(encoding='utf-8').decode('ascii')\n",
    "    except UnicodeDecodeError:\n",
    "        return False\n",
    "    else:\n",
    "        return True\n",
    "words = set(stopwords.words('english'))\n",
    "def stop_rem(s):\n",
    "    new_s = ''\n",
    "    word_list = word_tokenize(s)\n",
    "    for w in word_list :\n",
    "        if w.lower() not in words and isEnglish(w):\n",
    "            new_s = new_s + w.lower() + ' '\n",
    "    return new_s\n",
    "data['CONTENT'] = data['CONTENT'].apply(lambda x: stop_rem(x))"
   ]
  },
  {
   "cell_type": "code",
   "execution_count": 17,
   "metadata": {
    "collapsed": false,
    "deletable": true,
    "editable": true
   },
   "outputs": [
    {
     "data": {
      "text/html": [
       "<div>\n",
       "<style>\n",
       "    .dataframe thead tr:only-child th {\n",
       "        text-align: right;\n",
       "    }\n",
       "\n",
       "    .dataframe thead th {\n",
       "        text-align: left;\n",
       "    }\n",
       "\n",
       "    .dataframe tbody tr th {\n",
       "        vertical-align: top;\n",
       "    }\n",
       "</style>\n",
       "<table border=\"1\" class=\"dataframe\">\n",
       "  <thead>\n",
       "    <tr style=\"text-align: right;\">\n",
       "      <th></th>\n",
       "      <th>CONTENT</th>\n",
       "      <th>CLASS</th>\n",
       "    </tr>\n",
       "  </thead>\n",
       "  <tbody>\n",
       "    <tr>\n",
       "      <th>0</th>\n",
       "      <td>huh anyway check youtube channel kobyoshi02</td>\n",
       "      <td>1</td>\n",
       "    </tr>\n",
       "    <tr>\n",
       "      <th>1</th>\n",
       "      <td>hey guys check new channel first vid us monkey...</td>\n",
       "      <td>1</td>\n",
       "    </tr>\n",
       "    <tr>\n",
       "      <th>2</th>\n",
       "      <td>test say murdevcom</td>\n",
       "      <td>1</td>\n",
       "    </tr>\n",
       "    <tr>\n",
       "      <th>3</th>\n",
       "      <td>shaking sexy ass channel enjoy</td>\n",
       "      <td>1</td>\n",
       "    </tr>\n",
       "    <tr>\n",
       "      <th>4</th>\n",
       "      <td>watchvvtarggvgtwq check</td>\n",
       "      <td>1</td>\n",
       "    </tr>\n",
       "  </tbody>\n",
       "</table>\n",
       "</div>"
      ],
      "text/plain": [
       "                                             CONTENT  CLASS\n",
       "0       huh anyway check youtube channel kobyoshi02       1\n",
       "1  hey guys check new channel first vid us monkey...      1\n",
       "2                                test say murdevcom       1\n",
       "3                    shaking sexy ass channel enjoy       1\n",
       "4                           watchvvtarggvgtwq check       1"
      ]
     },
     "execution_count": 17,
     "metadata": {},
     "output_type": "execute_result"
    }
   ],
   "source": [
    "data.head()"
   ]
  },
  {
   "cell_type": "code",
   "execution_count": 34,
   "metadata": {
    "collapsed": false,
    "deletable": true,
    "editable": true
   },
   "outputs": [
    {
     "name": "stdout",
     "output_type": "stream",
     "text": [
      "15624\n",
      "Counter({'check': 559, 'video': 294, 'like': 234, 'please': 231, 'song': 231, 'subscribe': 209, 'love': 189, 'channel': 173, 'im': 157, 'music': 144, 'new': 122, '_link_feature_': 118, 'guys': 114, 'get': 97, 'dont': 92, 'make': 87, 'hey': 86, 'money': 86, 'views': 84, 'people': 84, 'youtube': 82, 'best': 78, 'katy': 75, 'comment': 73, 'know': 71, 'would': 67, 'videos': 66, 'see': 65, 'good': 64, 'thank': 63, 'u': 62, 'really': 60, 'one': 58, '2': 58, 'thanks': 57, 'go': 57, 'us': 55, 'time': 53, 'old': 53, 'could': 53, 'help': 52, 'much': 52, 'everyone': 51, 'world': 50, 'called': 49, 'visit': 49, 'eminem': 49, 'want': 48, 'thumbs': 47, 'billion': 46, 'perry': 45, 'give': 45, 'free': 43, 'songs': 43, 'mixtape': 41, 'still': 41, 'today': 40, 'share': 40, 'watch': 40, 'way': 39, 'chance': 39, 'playlist': 38, 'take': 38, 'website': 37, '1': 37, 'home': 36, 'working': 36, 'rapper': 36, 'moneygqcom': 36, 'making': 36, 'online': 35, 'watching': 34, 'year': 34, 'back': 34, 'nice': 33, 'zonepacom': 33, 'shakira': 33, 'first': 33, 'come': 33, 'also': 32, 'na': 32, 'think': 32, 'covers': 32, 'awesome': 32, 'hi': 31, 'month': 31, 'subscribers': 31, 'got': 31, 'start': 31, 'years': 31, 'follow': 30, 'pray': 30, 'look': 30, 'rihanna': 29, 'appreciate': 29, '3': 29, 'life': 29, 'dream': 28, 'per': 28, 'hear': 27, 'rap': 27, 'getting': 27, '3000': 27, 'real': 26, 'extraordinary': 26, 'read': 26, 'click': 26, 'comments': 25, 'great': 25, 'even': 25, 'ever': 24, 'need': 24, 'listen': 24, 'made': 24, 'cool': 24, 'ill': 24, 'million': 24, 'beautiful': 24, 'started': 24, 'waka': 23, 'day': 23, 'many': 22, 'hello': 22, 'every': 21, '2015': 21, 'party': 21, 'sorry': 21, 'wow': 20, 'hate': 20, 'live': 20, 'wont': 20, 'remix': 20, 'dance': 20, 'everyday': 20, 'right': 20, 'plz': 20, 'girl': 20, 'wan': 19, 'facebook': 19, 'heard': 19, 'reading': 19, 'funny': 19, 'going': 19, 'anyone': 19, '5': 19, 'support': 19, 'never': 18, 'roar': 18, 'guy': 18, 'shit': 18, 'mean': 18, 'sub': 18, 'page': 18, 'spam': 18, 'hope': 17, 'fans': 17, 'paid': 17, 'style': 17, 'work': 17, 'ive': 17, 'gangnam': 17, 'vote': 17, 'lot': 17, 'fucking': 16, 'cant': 16, 'hard': 16, 'psy': 16, 'mother': 16, 'hit': 16, '100': 16, 'god': 16, 'believe': 16, 'singer': 16, 'cover': 16, 'leave': 16, 'part': 16, 'youre': 15, '4': 15, 'rock': 15, 'reach': 15, 'nothing': 15, 'omg': 15, 'hot': 15, 'maybe': 14, 'view': 14, 'regret': 14, 'better': 14, 'likes': 14, 'link': 14, 'simple': 14, 'probably': 14, 'tell': 14, 'megan': 14, 'lol': 14, 'stop': 14, 'type': 14, 'name': 14, 'rand': 13, 'little': 13, 'theres': 13, '15': 13, 'gets': 13, 'person': 13, 'girls': 13, 'trying': 13, 'queen': 13, 'amazing': 13, 'successful': 13, 'makes': 13, 'gon': 13, 'young': 13, 'big': 13, 'almost': 12, 'others': 12, 'seconds': 12, 'voice': 12, 'isnt': 12, 'thing': 12, 'miss': 12, 'remember': 12, 'twitter': 12, 'google': 12, 'boy': 12, 'sexy': 12, '7': 12, 'lie': 12, 'found': 12, 'lyrics': 12, 'dope': 12, 'fuck': 12, 'moment': 12, 'enjoy': 12, 'put': 12, 'attention': 11, 'next': 11, 'improve': 11, 'join': 11, 'advertise': 11, 'gift': 11, 'crazy': 11, 'came': 11, 'tiger': 11, 'download': 11, 'friends': 11, 'thats': 11, 'shes': 11, 'ago': 11, 'soon': 11, 'true': 11, 'understand': 11, 'popular': 11, 'always': 10, '4netjobscom': 10, 'post': 10, 'win': 10, 'keep': 10, 'someone': 10, 'perfect': 10, 'birthday': 10, 'lots': 10, 'site': 10, 'lets': 10, 'vincent': 10, 'wanted': 10, 'actually': 10, 'top': 10, 'com': 10, 'play': 10, 'musician': 10, 'comes': 10, 'artist': 10, 'original': 10, 'already': 10, 'coming': 10, 'holy': 9, 'women': 9, 'phenomenallyricshere': 9, 'yall': 9, 'favorite': 9, 'l': 9, 'buy': 9, 'done': 9, 'social': 9, 'press': 9, 'doesnt': 9, 'football': 9, 'earth': 9, 'charlie': 9, 'latest': 9, 'africa': 9, 'say': 9, 'something': 9, 'firepacom': 9, 'mixtapecheck': 9, 'feel': 9, 'man': 9, '4000': 9, 'b': 9, 'pour': 9, 'sing': 9, 'promise': 9, 'miley': 9, 'lmfao': 9, 'bad': 9, 'youll': 8, 'find': 8, 'thumb': 8, 'must': 8, 'left': 8, 'pretty': 8, 'loves': 8, 'watched': 8, 'whole': 8, 'well': 8, 'cup': 8, '10': 8, 'looks': 8, 'around': 8, 'record': 8, 'skills': 8, 'half': 8, 'happy': 8, 'become': 8, 'may': 8, 'things': 8, 'fast': 8, 'decent': 8, 'media': 8, 'earn': 8, 'search': 8, 'subs': 8, 'fox': 8, 'n': 8, '25': 8, 'cyrus': 8, 'lake': 8, 'away': 8, 'mind': 8, 'appreciated': 8, 'fan': 8, 'stupid': 8, 'subscription': 8, 'track': 8, 'viewed': 8, 'white': 7, 'advertisements': 7, 'itunes': 7, 'least': 7, 'bless': 7, 'book': 7, 'super': 7, 'cards': 7, 'dreaming': 7, 'second': 7, 'cute': 7, 'famous': 7, 'didnt': 7, '17': 7, 'pop': 7, 'paul': 7, 'school': 7, 'boys': 7, 'last': 7, 'step': 7, 'easily': 7, 'months': 7, 'fighting': 7, 'far': 7, 'kind': 7, 'hes': 7, 'game': 7, 'takes': 7, 'piano': 7, 'else': 7, 'yo': 7, '6': 7, 'fb': 7, 'minutes': 7, 'without': 7, 'days': 7, 'might': 7, 'button': 7, '200': 7, 'forward': 7, 'listening': 7, 'fight': 6, 'imagine': 6, 'friend': 6, 'vids': 6, 'industry': 6, 'small': 6, 'try': 6, 'baby': 6, 'saw': 6, 'millions': 6, 'house': 6, 'sign': 6, 'peace': 6, 'bieber': 6, 'vines': 6, 'dante': 6, 'sad': 6, 'soccer': 6, 'completely': 6, 'water': 6, '5000': 6, 'ft': 6, 'app': 6, 'loved': 6, 'riled': 6, 'experience': 6, 'ass': 6, 'past': 6, 'opinion': 6, 'absolutely': 6, 'official': 6, 'sure': 6, 'let': 6, 'took': 6, 'special': 6, 'donate': 6, 'monthly': 6, 'everything': 6, 'constructive': 6, 'face': 6, 'mom': 6, 'checking': 6, 'drop': 6, 'instagram': 6, 'em': 6, 'daily': 6, 'following': 6, '2014': 6, 'hair': 6, 'goal': 6, 'shuffling': 6, '8': 6, 'constitution': 6, 'sites': 6, 'men': 6, 'range': 6, 'wish': 6, 'adam': 6, '2013': 6, 'stuff': 6, 'feedback': 5, 'korean': 5, 'prove': 5, '16': 5, 'fame': 5, 'mv': 5, 'end': 5, 'wide': 5, 'band': 5, 'christ': 5, 'version': 5, 'stand': 5, 'jobs': 5, 'high': 5, 'black': 5, 'yeah': 5, 'plus': 5, 'account': 5, 'la': 5, 'ur': 5, 'since': 5, 'means': 5, 'canal': 5, 'word': 5, 'laugh': 5, 'criticism': 5, 'close': 5, 'spamming': 5, 'immediately': 5, 'whos': 5, 'fun': 5, 'weird': 5, 'producer': 5, 'register': 5, '4th': 5, 'e': 5, 'dick': 5, 'currently': 5, 'said': 5, 'hiring': 5, 'begin': 5, 'message': 5, 'katty': 5, '35': 5, 'dollars': 5, 'single': 5, 'vid': 5, 'knows': 5, 'card': 5, 'mess': 5, 'case': 5, 'kid': 5, 'youd': 5, 'nearly': 5, 'saying': 5, 'named': 5, 'job': 5, 'thousands': 5, 'suscribe': 5, 'reason': 5, 'nation': 5, 'robot': 5, 'beats': 5, 'family': 5, '50': 5, 'haha': 5, 'place': 5, 'mes': 5, 'tube': 5, 'singing': 5, 'posts': 5, 'da': 5, 'prior': 5, 'youtuber': 5, 'times': 5, 'uk': 5, 'sounds': 5, 'youtubers': 5, 'upto': 5, 'facebooktwitter': 5, 'quite': 5, 'album': 5, 'news': 5, 'easy': 5, 'hour': 5, 'bit': 5, 'pass': 5, 'forget': 5, 'shuffle': 5, 'write': 5, 'comfort': 5, 'used': 5, 'jungle': 5, 'pay': 5, 'dress': 4, 'country': 4, 'makeup': 4, 'oh': 4, 'enough': 4, 'damn': 4, 'rapping': 4, 'seriously': 4, 'anthem': 4, 'mine': 4, '0': 4, 'looking': 4, 'gorgeous': 4, 'exposure': 4, 'potential': 4, 'iphone': 4, 'whats': 4, 'hell': 4, 'change': 4, 'liked': 4, 'choice': 4, 'r': 4, '14': 4, 'instrumental': 4, 'songwriter': 4, 'seen': 4, 'clip': 4, 'wasting': 4, 'picture': 4, 'welcome': 4, 'hits': 4, 'amazon': 4, 'kids': 4, 'favour': 4, 'yesterday': 4, 'helping': 4, 'pleas': 4, 'jesus': 4, '2billion': 4, 'sound': 4, '20': 4, 'king': 4, 'wouldnt': 4, 'master': 4, 'african': 4, 'bonus': 4, 'company': 4, 'code': 4, 'planet': 4, 'network': 4, 'uploading': 4, 'shake': 4, '500': 4, 'head': 4, 'reviews': 4, 'add': 4, 'minute': 4, 'internet': 4, 'hahahahah': 4, 'cause': 4, 'ask': 4, 'needed': 4, 'amount': 4, 'tried': 4, 'lost': 4, 'animal': 4, 'agree': 4, 'gay': 4, 'lyrical': 4, 'gaming': 4, 'minecraft': 4, 'two': 4, 'mi': 4, '1000000000': 4, 'pls': 4, 'secret': 4, 'surgery': 4, 'justin': 4, 'told': 4, 'female': 4, 'champion': 4, 'web': 4, 'self': 4, 'subscribed': 4, 'apps': 4, 'epic': 4, 'favourite': 4, 'fear': 4, 'different': 4, 'use': 4, 'apple': 4, 'sharing': 4, 'upload': 4, 'spare': 4, 'talent': 4, 'photo': 4, 'coffee': 4, 'columbus': 4, 'sneakiestg': 4, 'works': 4, 'income': 4, 'spread': 4, '19': 4, 'h': 4, 'english': 4, 'dislike': 4, 'living': 4, 'vanstone': 4, 'piece': 4, 'alone': 4, 'wants': 4, 'taylor': 4, 'memory': 4, 'space': 4, 'id': 4, 'town': 4, 'passed': 4, 'dreams': 4, 'son': 4, 'idiots': 4, 'christmas': 4, 'loving': 4, 'spending': 3, 'possible': 3, 'feeling': 3, '365': 3, 'wallet': 3, 'subscribing': 3, 'honestly': 3, 'swift': 3, 'team': 3, 'skip': 3, 'huge': 3, 'savior': 3, 'annoying': 3, 'eminems': 3, 'juno': 3, 'complete': 3, 'store': 3, 'bring': 3, 'ways': 3, 'surveys': 3, 'content': 3, 'wave': 3, 'oppa': 3, 'power': 3, 'cmon': 3, 'chillpal': 3, 'tv': 3, 'thought': 3, 'et': 3, 'wasnt': 3, 'feed': 3, 'guitar': 3, 'matters': 3, 'pro': 3, 'show': 3, 'morning': 3, 'glad': 3, 'v': 3, 'sucks': 3, 'model': 3, 'clothes': 3, 'illuminati': 3, 'extra': 3, 'smart': 3, 'sooooo': 3, 'highly': 3, 'lyric': 3, 'elephant': 3, 'closer': 3, 'bass': 3, 'happen': 3, '30': 3, 'guysi': 3, 'yet': 3, 'hours': 3, 'rocks': 3, 'simply': 3, 'katycats': 3, 'enter': 3, 'movement': 3, 'speech': 3, 'verses': 3, 'sister': 3, 'student': 3, 'equipment': 3, 'dubstep': 3, 'waste': 3, 'truethank': 3, 'meet': 3, 'business': 3, 'born': 3, 'catchy': 3, 'suck': 3, 'piss': 3, 'ociramma': 3, 'swagfriends': 3, 'act': 3, 'animals': 3, 'meaning': 3, 'brand': 3, 'finally': 3, 'mississippi': 3, 'population': 3, 'active': 3, 'bored': 3, 'uploaded': 3, '32gb': 3, 'realized': 3, 'dumb': 3, 'number': 3, 'dancing': 3, 'privacy': 3, 'fashion': 3, 'reminds': 3, 'turned': 3, 'secrets': 3, 'human': 3, 'truly': 3, 'anybody': 3, 'kld3y': 3, 'shame': 3, 'spent': 3, 'min': 3, 'freedom': 3, 'whitney': 3, 'tax': 3, 'including': 3, 'protect': 3, 'bookmakers': 3, 'tomorrow': 3, 'gives': 3, 'dad': 3, 'camera': 3, 'c': 3, 'die': 3, 'stuck': 3, 'woman': 3, 'unique': 3, 'xd': 3, 'checked': 3, 'belgium': 3, 'quality': 3, 'evil': 3, 'stars': 3, 'deserve': 3, 'history': 3, 'email': 3, 'okay': 3, 'american': 3, 'ones': 3, '666': 3, 'hilarious': 3, 'bitch': 3, 'order': 3, 'words': 3, 'beauty': 3, 'shares': 3, 'toilet': 3, 'dedicated': 3, 'passionate': 3, 'learn': 3, 'sit': 3, 'limit': 3, 'bennett': 3, 'tumor': 3, 'brings': 3, 'call': 3, 'houronly': 3, 'wake': 3, 'together': 3, 'finish': 3, 'korea': 3, '87': 3, 'long': 3, 'talented': 3, 'lexis': 3, '600': 3, 'lauren': 3, 'dj': 3, 'smile': 3, '9': 3, 'singers': 3, 'chanel': 3, 'later': 3, 'liking': 3, 'soo': 3, 'senator': 3, 'care': 3, '11': 3, 'project': 3, 'open': 3, 'mix': 3, 'replay': 3, '60': 3, 'paranormal': 3, 'kinda': 3, 'w': 3, 'edm': 3, 'alive': 3, 'insane': 3, 'talk': 3, 'innocent': 3, 'beat': 3, 'truth': 3, 'games': 3, 'melody': 3, 'acting': 3, 'sick': 3, 'stay': 3, 'night': 3, 'jackson': 3, 'meh': 3, 'anymore': 3, 'guess': 3, 'fifa': 3, 'hood': 3, 'adfly': 3, 'taking': 3, 'anything': 3, 'swear': 3, 'hand': 3, 'age': 3, 'learned': 3, 'another': 3, 'katys': 3, 'fire': 3, 'speaks': 3, 'honest': 3, 'password': 3, '1000000': 3, 'newest': 3, 'goals': 3, 'bout': 3, 'un': 3, 'everybody': 3, '8bit': 3, 'ladies': 3, 'loss': 3, 'gave': 3, 'deazy99': 3, 'hiphop': 2, 'tsu': 2, 'rate': 2, 'postponing': 2, 'johnny': 2, 'filibuster': 2, 'del': 2, 'drugs': 2, 'opportunity': 2, 'android': 2, 'discount': 2, 'male': 2, 'ytma': 2, 'muslims': 2, 'nokia': 2, 'collection': 2, 'sins': 2, 'sony': 2, 'shared': 2, 'shout': 2, 'ex': 2, 'ps4': 2, 'within': 2, 'society': 2, 'creator': 2, 'ig': 2, 'usually': 2, 'wrote': 2, 'info': 2, 'ching': 2, 'hay': 2, 'brother': 2, 'warning': 2, 'car': 2, 'sucking': 2, 'haters': 2, 'public': 2, 'memories': 2, 'instead': 2, 'bringing': 2, '2010': 2, 'daneja': 2, 'invest': 2, 'uncle': 2, 'brazil': 2, 'src': 2, 'sky': 2, 'farrell': 2, 'congress': 2, 'tracks': 2, 'northland': 2, 'heaven': 2, 'rapid': 2, 'worth': 2, 'mee': 2, 'tan': 2, 'inspire': 2, 'protest': 2, 'four': 2, 'december': 2, 'greatest': 2, '18': 2, 'soundsofsunday': 2, 'styletextdecorationnoneborder0padding0margin0': 2, 'behold': 2, 'hairstyles': 2, 'price390': 2, 'tvcmcadavidweebly': 2, 'hating': 2, 'commenting': 2, 'exactly': 2, 'animator': 2, 'especially': 2, 'pictures': 2, 'kill': 2, 'research': 2, 'rihana': 2, 'kitten': 2, 'sex': 2, 'perrys': 2, '23': 2, 'visiting': 2, 'adele': 2, 'promote': 2, 'swag': 2, 'survive': 2, 'axiomatic': 2, 'bands': 2, 'kitty': 2, 'full': 2, 'cook': 2, 'profile': 2, 'island': 2, 'teenage': 2, 'greatly': 2, 'comprehend': 2, 'boyfriend': 2, 'tryna': 2, 'chorenn': 2, 'roll': 2, 'fave': 2, 'trash': 2, 'transformation': 2, 'j': 2, 'cypher': 2, 'keyboards': 2, 'worldwide': 2, 'less': 2, 'spirits': 2, 'beware': 2, 'watchin': 2, 'garbage': 2, 'five': 2, 'fiddle': 2, 'shitty': 2, 'amendment': 2, 'companions': 2, 'risk': 2, 'summer': 2, 'x': 2, 'keithlinscotts': 2, '5s': 2, 'raw': 2, 'multiple': 2, 'copied': 2, '13': 2, 'shot': 2, '3m': 2, 'hack': 2, 'notorious': 2, 'remeber': 2, 'running': 2, 'hyuck': 2, 'bottom': 2, 'mute': 2, '46': 2, 'psn': 2, 'answer': 2, 'buys': 2, 'weve': 2, 'dot': 2, 'abusive': 2, 'designs': 2, '25000': 2, 'oldchattk': 2, 'cry': 2, 'ouf': 2, 'celebrity': 2, 'virgins': 2, 'hip': 2, 'viewers': 2, 'muzik': 2, 'ebayaimg': 2, 'brothers': 2, 'continue': 2, 'moderock': 2, 'jim': 2, 'dragons': 2, 'whatever': 2, 'october': 2, 'incredible': 2, 'upcoming': 2, 'giving': 2, 'reflective': 2, 'behind': 2, 'victorious': 2, 'foward': 2, 'information': 2, 'whose': 2, 'mileycelebnewscouk': 2, 'drake': 2, 'independent': 2, 'mates': 2, 'listenersupported': 2, 'peaceful': 2, 'killed': 2, 'survival': 2, 'certain': 2, 'cuz': 2, '1337': 2, '2nd': 2, 'renewal': 2, 'interested': 2, 'death': 2, 'mabey': 2, 'rights': 2, 'musiclyrics': 2, 'cares': 2, 'lana': 2, 'praying': 2, 'salt': 2, 'says': 2, 'jelly': 2, 'sleep': 2, 'scale': 2, 'tonight': 2, 'il': 2, 'advance': 2, 'suffering': 2, 'hoppa': 2, 'audio': 2, 'lively': 2, 'utter': 2, 'trust': 2, 'hollywood': 2, 'peoples': 2, 'fly': 2, 'patriot': 2, 'difference': 2, 'pink': 2, 'wife': 2, 'xoxo': 2, 'hacked': 2, '1manband': 2, 'codes': 2, 'delightful': 2, 'amazed': 2, 'pepelexa': 2, 'talking': 2, 'nobody': 2, 'verse': 2, 'beating': 2, 'dribbleproshot': 2, 'posting': 2, 'contact': 2, 'gun': 2, 'parody': 2, 'curse': 2, 'keeps': 2, 'core': 2, 'decided': 2, 'supermariologan': 2, 'goes': 2, 'community': 2, 'poor': 2, 'publishing': 2, 'harbor': 2, 'week': 2, 'dis': 2, 'group': 2, 'betfair': 2, 'tops': 2, 'salon': 2, 'channels': 2, 'commit': 2, 'knowledge': 2, 'zombie': 2, 'ignore': 2, 'wrecking': 2, 'written': 2, 'decio': 2, 'fuego': 2, 'alot': 2, 'gta': 2, 'lovers': 2, 'heart': 2, 'pisses': 2, 'brain': 2, 's4': 2, 'wtf': 2, 'michael': 2, 'concert': 2, 'fantastic': 2, 'martin': 2, 'alcoholic': 2, 'splashes': 2, 'fbyou': 2, '1000': 2, 'thanx': 2, 'kpopcitynet': 2, 'hoppler': 2, 'senators': 2, 'lil': 2, 'firework': 2, 'contest': 2, 'partying': 2, 'ideas': 2, 'feandra': 2, 'drums': 2, 'lova': 2, 'leads': 2, 'ebay': 2, 'monkey': 2, 'eating': 2, 'versace': 2, 'ends': 2, 'performance': 2, 'desire': 2, 'niko': 2, 'targetself': 2, 'nonsense': 2, 'went': 2, 'blows': 2, 'countless': 2, 'ipad': 2, 'largest': 2, 'sec': 2, 'movie': 2, 'exact': 2, 'count': 2, 'spourmo': 2, 'gotten': 2, 'competition': 2, 'encouraging': 2, 'feminist': 2, 'spanish': 2, 'rey': 2, 'hahah': 2, 'dear': 2, '17yr': 2, 'event': 2, 'arive': 2, 'line': 2, 'shuffles': 2, 'monster': 2, 'href': 2, 'expensive': 2, 'criminals': 2, 'types': 2, 'lame': 2, 'ad': 2, 'child': 2, 'lovely': 2, '5million': 2, 'technique': 2, 'round': 2, 'stil': 2, 'gained': 2, 'macklemore': 2, 'deals': 2, 'wagers': 2, 'french': 2, 'ball': 2, 'sasaroo': 2, 'hop': 2, 'signed': 2, 'ema': 2, 'penis': 2, 'sty': 2, 'speaking': 2, 'viral': 2, '105': 2, 'build': 2, 'britishs': 2, 'auditioning': 2, 'knew': 2, 'random': 2, 'seems': 2, 'humanity': 2, 'train': 2, 'fyi': 2, 'wood': 2, 'oreo': 2, 'sooo': 2, 'quid': 2, 'wind': 2, 'racist': 2, 'facebookpasshack2013blogspotcom': 2, '21': 2, 'founded': 2, 'bigger': 2, 'access': 2, 'namepicture': 2, 'entertainment': 2, 'able': 2, 'killtheclockhd': 2, 'recording': 2, 'wear': 2, 'idol': 2, 'saturday': 2, 'por': 2, 'future': 2, 'macbook': 2, 'subscriber': 2, 'nails': 2, 'deep': 2, 'trailer': 2, 'astauand': 2, 'metal': 2, 'ahhh': 2, 'mtv': 2, 'spying': 2, 'singlewave': 2, 'ambition': 2, '2004': 2, 'vous': 2, 'abomination': 2, 'dudes': 2, 'dislikes': 2, 'useless': 2, 'reply': 2, 'missing': 2, 'broken': 2, 'arrowgance': 2, 'relate': 2, 'viewer': 2, 'clean': 2, 'tips': 2, 'acoustic': 2, 'skin': 2, 'remixes': 2, 'crap': 2, 'forever': 2, 'response': 2, 'rage': 2, 'fablife': 2, 'virus': 2, 'andrew': 2, 'leeched': 2, 'disguise': 2, 'americans': 2, 'elevator': 2, 'worthless': 2, 'ok': 2, 'smoking': 2, 'forgot': 2, 'claster': 2, 'blast': 2, 'notice': 2, 'ploosnar': 2, 'onedont': 2, 'beutiful': 2, 'south': 2, 'finding': 2, 'known': 2, 'bilion': 2, 'shakifans': 2, 'gone': 2, 'growing': 2, '2011': 2, 'chinese': 2, 'definitely': 2, 'trop': 2, 'huh': 2, 'ya': 2, 'wazzasoft': 2, 'believing': 2, 'featuring': 2, 'push': 2, 'straight': 2, 'passion': 2, 'ready': 2, 'willing': 2, 'p': 2, 'joking': 2, 'wellcome': 2, '200k': 2, 'three': 2, 'nsa': 2, 'player': 2, 'section': 2, 'wrong': 2, 'syndrome': 2, 'senate': 2, 'brought': 2, 'drunk': 2, 'freaking': 2, 'floor': 2, 'resort': 2, 'plane': 2, 'box': 2, 'sell': 2, 'youtubesi': 2, 'released': 2, 'discrimination': 2, 'galaxy': 2, 'ice': 2, 'silly': 2, 'wonder': 2, 'rappers': 2, 'dude': 2, 'fuckin': 2, 'animation': 2, 'reiltas': 2, 'tshirts': 2, 'practically': 1, 'imma': 1, 'figure': 1, '666002018': 1, 'flowim': 1, 'install': 1, 'winooze': 1, 'meghan': 1, 'management': 1, 'brinkman': 1, 'niceesabrosura': 1, 'trelod': 1, 'arrogant': 1, '753': 1, 'usa': 1, 'mighty': 1, 'cardsbut': 1, 'heshe': 1, 'motivate': 1, 'hw': 1, '1billion': 1, 'whistleblower': 1, 'lifes': 1, 'gangnamstyle': 1, 'throw': 1, 'extremely': 1, 'saints': 1, 'worries': 1, 'jdp': 1, 'thisthe': 1, 'comedy': 1, 'hurt': 1, 'kingston': 1, 'pouring': 1, 'joanna': 1, 'brave': 1, 'yes': 1, '5th': 1, 'jyp': 1, 'roared': 1, 'ayyy': 1, 'kpop': 1, 'onece': 1, 'crescendoing': 1, 'bitcoins': 1, 'moon': 1, 'disorder': 1, 'wobblers': 1, 'enormously': 1, 'underground': 1, 'though': 1, 'filming': 1, 'legit': 1, 'fantasy': 1, 'congrats': 1, 'supathe': 1, 'iniestas': 1, 'earning': 1, 'fragile': 1, '0058': 1, 'wery': 1, 'magnificent': 1, 'progressive': 1, 'poprock': 1, 'bighit': 1, 'spoderman': 1, 'happiness': 1, 'bots': 1, 'lile': 1, 'cruz': 1, 'awful': 1, 'spot': 1, 'youtubedaaaaaaaaaaannng': 1, 'detective': 1, 'ybuwyn': 1, '2124821694': 1, 'likethis': 1, 'gim': 1, 'celebration': 1, 'iv': 1, 'patriarchs': 1, 'cd': 1, 'irl': 1, 'longer': 1, 'funnytortspics': 1, 'chhanel': 1, 'losing': 1, 'views0': 1, 'insanely': 1, 'los': 1, 'connected': 1, 'joke': 1, 'constrictor': 1, 'george': 1, 'recentley': 1, 'filled': 1, 'defuse': 1, 'discusss': 1, 'somehow': 1, 'tapes': 1, 'gmailcom': 1, 'fgw': 1, 'strategizes': 1, 'recently': 1, 'fool': 1, '682': 1, '27': 1, 'mio': 1, 'questions': 1, 'democracy': 1, 'eminmem': 1, '50k': 1, 'leopard': 1, 'falls': 1, 'alfred': 1, '2017': 1, 'worked': 1, 'billions': 1, '2000000000': 1, 'justing': 1, 'trolling': 1, 'couldnt': 1, 'joining': 1, 'situationbut': 1, 'historical': 1, 'kluivert': 1, 'somewhere': 1, 'unlocked': 1, 'harry': 1, 'wat': 1, 'mizuxe': 1, 'enterthen': 1, 'officialpsy': 1, 'excellent': 1, 'memorized': 1, 'ovbiously': 1, 'vma': 1, 'thumsb': 1, 'vaahidmustafic': 1, 'drews': 1, 'narrow': 1, 'pure': 1, 'ambitious': 1, 'statement': 1, 'hatersfor': 1, 'populatoin': 1, 'registr': 1, 'rugby': 1, 'generate': 1, 'form': 1, 'failready': 1, 'playerto': 1, 'awesomeshe': 1, 'slimy': 1, 'rather': 1, 'fact': 1, 'barsto': 1, '12': 1, 'window': 1, 'rollin': 1, 'pc': 1, 'toy': 1, 'comic': 1, 'mission': 1, 'empowering': 1, 'efforts': 1, 'meat': 1, 'cudi': 1, 'wil': 1, 'bangers': 1, 'fears': 1, 'spinal': 1, 'murder': 1, 'thingyou': 1, 'slut': 1, 'fangirlsminecraft': 1, 'votre': 1, 'insidious': 1, 'ummm': 1, 'subscribesoon': 1, 'justice': 1, 'arguementsconsole': 1, 'alvar': 1, 'conhece': 1, 'across': 1, 'the1fantasy': 1, 'elongate': 1, 'brutally': 1, 'fredom': 1, 'ta': 1, 'apologies': 1, '025': 1, 'illegal': 1, 'parede': 1, 'block': 1, 'energy': 1, 'thankful': 1, 'chacking': 1, 'shallow': 1, 'jawan': 1, 'transport': 1, 'yea': 1, 'wavefire': 1, 'commentsoh': 1, 'frndzzl': 1, 'followers': 1, 'numbers': 1, '1bi': 1, 'beibs': 1, 'flixter': 1, '60inch': 1, 'yuliya': 1, 'raise': 1, 'selecting': 1, 'nut': 1, 'minaj': 1, 'titled': 1, 'twin': 1, 'foxbecause': 1, 'filling': 1, 'ww': 1, 'mmph': 1, 'cri': 1, 'cope': 1, 'pointers': 1, 'promo': 1, 'untanlted': 1, 'roughly': 1, 'visor': 1, 'ii': 1, 'cking': 1, 'surpassing': 1, 'system': 1, 'greatthis': 1, 'mindblowing': 1, 'homies': 1, 'passioni': 1, 'happenedi': 1, 'asia': 1, 'lneadw26bfst76vhkjl8pxaey6vmnlvmriudtsfk6vyali': 1, 'pimpmyviews': 1, 'nature': 1, 'scientific': 1, 'lights': 1, 'angels': 1, 'forty': 1, 'statistics': 1, 'youtubethis': 1, 'dakota': 1, 'haki': 1, 'inaccurate': 1, 'dang': 1, 'tony': 1, 'sinned': 1, 'cs': 1, 'providers': 1, 'dealing': 1, 'sinpad': 1, 'lacked': 1, 'squeezes': 1, 'guaschi': 1, '700000000': 1, 'treating': 1, 'rip': 1, 'millonget': 1, 'thisany': 1, 'thatd': 1, 'diys': 1, 'ghost': 1, 'repair': 1, 'spotify': 1, 'follower': 1, 'milions': 1, 'crown': 1, 'scare': 1, 'shop': 1, 'pic': 1, 'musicim': 1, 'approve': 1, 'direction': 1, 'sam': 1, 'peach': 1, 'yay': 1, 'rule': 1, 'confusing': 1, 'burned': 1, 'wafence': 1, '1884034783': 1, 'prod': 1, '3meilleur': 1, 'vibes': 1, '0687119038': 1, 'chrck': 1, 'protective': 1, 'violence': 1, 'deciocabelo': 1, 'shaki': 1, 'aloidia': 1, 'nirvanatrust': 1, 'billon': 1, 'crazycelebnewseupn': 1, 'facts': 1, 'responsible': 1, 'effect': 1, 'idiocy': 1, 'scriptdocumentwritea': 1, 'skypekik': 1, 'boyi': 1, 'boaconic': 1, 'promos': 1, 'root': 1, 'whatuknow': 1, 'mah': 1, 'enlace': 1, 'grave': 1, 'woozy': 1, 'dopethats': 1, 'compared': 1, 'meaty': 1, 'focuses': 1, 'dominate': 1, 'cock': 1, 'notes': 1, 'learning': 1, 'bocilile': 1, 'billie': 1, 'sense': 1, 'dead2me': 1, 'ima': 1, 'googlbxrosr': 1, 'shaeel': 1, '2124923004': 1, 'strength': 1, 'unit': 1, 'samsung': 1, 'disclose': 1, 'fathers': 1, 'doe': 1, 'bones': 1, 'glozzom': 1, 'unequaled': 1, 'shmelev': 1, 'enabled': 1, 'giraffei': 1, 'hopme': 1, 'eight': 1, 'patrik': 1, 'bitly14gkvdo': 1, 'swim': 1, 'crabby': 1, 'member': 1, 'suit': 1, 'untitled': 1, 'withing': 1, 'increible': 1, 'platform': 1, 'ilove': 1, 'review': 1, 'conveying': 1, 'eyes': 1, 'delete': 1, 'celebrate': 1, 'comvote': 1, 'career': 1, 'weekend': 1, 'boa': 1, '857482940': 1, 'realtionship': 1, 'herd': 1, 'katycat': 1, 'koreans': 1, 'behavior': 1, 'meu': 1, 'critisism': 1, 'mobile': 1, 'naperone': 1, 'dedication': 1, 'entertainers': 1, 'bengal': 1, 'weight': 1, '55200mm': 1, 'tuto': 1, 'ballad': 1, '700': 1, 'professionally': 1, 'disposable': 1, 'bucket': 1, 'explains': 1, 'uncovered': 1, 'samurman': 1, 'dog': 1, 'class': 1, 'reasons': 1, 'mockingbird': 1, 'quadrillion': 1, 'asking': 1, 'collaborators': 1, 'lasting': 1, 'wiry': 1, 'wilsubscribe': 1, 'murdevcom': 1, 'heartbreaking': 1, 'towered': 1, 'wright': 1, 'nvmthe': 1, 'mini': 1, 'asian': 1, 'aiiima': 1, 'volume': 1, '41': 1, 'co': 1, 'nguyen': 1, 'partydrunk': 1, 'sneeze': 1, 'current': 1, 'children': 1, 'inspired': 1, 'berzerk': 1, 'chanell': 1, 'increase': 1, 'respond': 1, 'pause': 1, 'curled': 1, 'flight': 1, 'viewsand': 1, 'jack': 1, 'plifal': 1, '1min': 1, 'cge': 1, 'loli': 1, 'commment': 1, 'chubby': 1, 'youtu': 1, 'sucscribe': 1, 'plzzz': 1, 'shirtplease': 1, 'irish': 1, 'facebookpage': 1, 'walk': 1, 'noodile': 1, 'cutie': 1, 'bigelow': 1, 'shorogyt': 1, 'loool': 1, 'disabled': 1, 'serving': 1, '357': 1, 'videoes': 1, 'awards': 1, 'unspooked': 1, 'bite': 1, 'drum': 1, 'omniscient': 1, 'wiews': 1, '9nlmemakemoneywithoutinvestment1': 1, 'allot': 1, 'hermann': 1, 'spongebob': 1, 'fruits': 1, '250': 1, 'higher': 1, 'johackle': 1, 'baba': 1, 'available': 1, 'retrieve': 1, 'dreamim': 1, 'bady': 1, 'frigea': 1, 'toximble': 1, 'attacks': 1, 'entertains': 1, 'mins': 1, 'helpless': 1, 'addfollow': 1, 'hahaa': 1, 'fashions': 1, 'abusue': 1, 'remixer': 1, 'wited': 1, '870000000': 1, 'beta': 1, 'aunt': 1, 'eye': 1, '31st': 1, 'lneadw26bfvkahxpkenm25fywkyxthsupri6juqsznug': 1, 'spelled': 1, 'burder': 1, 'guasch': 1, 'lover': 1, 'cold': 1, 'mtvema': 1, 'portugal': 1, 'colour': 1, 'funnier': 1, 'igblastcom': 1, 'yboiveth': 1, 'martyrs': 1, 'xoxoleah': 1, 'alex': 1, '969210': 1, 'theories': 1, 'problem': 1, 'tha': 1, 'lucas': 1, 'nowplaying': 1, 'ithat': 1, 'moves': 1, 'spousal': 1, 'leader': 1, 'cheating': 1, 'damnnnnnnnn': 1, 'screw': 1, 'point': 1, 'lovatype': 1, 'festival': 1, 'cece': 1, '3000000': 1, 'greetings': 1, 'anderson': 1, 'gordon': 1, 'low': 1, 'admirable': 1, 'chap': 1, 'kashoo': 1, 'molly': 1, 'bitlymakemoneywithoutadroid': 1, 'millionsof': 1, 'phones': 1, 'itht': 1, 'reinforce': 1, 'educated': 1, 'perpetrated': 1, 'sinar': 1, 'channelbecause': 1, 'fullest': 1, 'strong': 1, 'maroon': 1, 'lhudygirlamaya': 1, 'videosso': 1, 'warcraft': 1, 'couldve': 1, 'lad': 1, 'skinny': 1, 'crank': 1, 'ehi': 1, 'subscribee': 1, 'jbs': 1, 'delicate': 1, 'suscribite': 1, 'africans': 1, '1k': 1, 'yg': 1, '4gb': 1, 'inspiration': 1, 'asinine': 1, 'irritating': 1, 'celeb': 1, 'modgone': 1, 'gangman': 1, 'mum': 1, 'succumbs': 1, 'writingrecordingmixingperforming': 1, 'noxu': 1, 'trusted': 1, 'husky': 1, 'daniels': 1, '500m': 1, 'drink': 1, 'pitbull': 1, 'fresh': 1, 'girly': 1, 'becomes': 1, 'zip': 1, 'muchd': 1, 'tutorials': 1, '2x109': 1, 'numberless': 1, 'afford': 1, 'importantly': 1, 'chainise': 1, 'addition': 1, 'apostles': 1, 'czfcxsn0jnq': 1, 'agreeable': 1, 'vouchers': 1, 'jellyfish': 1, 'chubbz': 1, 'sm': 1, 'alright': 1, 'refers': 1, 'gabriel': 1, 'oil': 1, 'flaming': 1, 'xx': 1, 'loops': 1, 'ol': 1, 'roaaarrr': 1, 'target': 1, 'gorlingoltz': 1, 'username': 1, 'honesty': 1, 'plan': 1, 'capitalized': 1, 'invented': 1, 'one0': 1, 'mice': 1, 'dated': 1, 'walmart': 1, 'horrible': 1, 'sore': 1, 'expecting': 1, 'seal': 1, 'stopis': 1, 'nikki': 1, 'clear': 1, 'radio': 1, 'quick': 1, 'christians': 1, 'searching': 1, 'lool': 1, 'superstar': 1, 'egoistic': 1, 'derives': 1, 'swoquix': 1, 'officiates': 1, 'cents': 1, 'fit': 1, 'categories': 1, 'fictional': 1, 'gen': 1, 'hwang': 1, 'rewards': 1, 'jesses': 1, 'msg': 1, 'yahoo': 1, 'browser': 1, 'qerrassa': 1, 'paper': 1, 'lv': 1, 'amy': 1, 'apparently': 1, 'shock': 1, 'ps': 1, 'lamest': 1, 'mammoth': 1, 'dissertation': 1, 'valuable': 1, 'stole': 1, 'mgtow': 1, 'songvideo': 1, 'vnecks': 1, 'feelin': 1, 'luxuriant': 1, 'nude': 1, 'tweet': 1, 'lose': 1, 'gangsta': 1, 'aspiring': 1, 'recovery': 1, 'helps': 1, 'reminiscent': 1, 'votekatyperry': 1, 'esteem': 1, 'bang': 1, 'df': 1, 'sones': 1, 'gold': 1, 'blog': 1, 'inch': 1, 'older': 1, 'sun': 1, 'banging': 1, 'mayby': 1, 'jail': 1, 'rocklolwho': 1, 'pivot': 1, 'lulerain': 1, 'boygirl': 1, 'redeemer': 1, 'ep': 1, 'spraytan': 1, 'jovaphile': 1, 'accidental': 1, 'expectations': 1, 'streets': 1, 'price360': 1, 'equals': 1, 'trayvon': 1, 'presequel': 1, 'smaller': 1, 'undesirable': 1, 'tells': 1, 'static': 1, 'ohand': 1, '911': 1, 'pen': 1, 'musicwell': 1, 'obsessed': 1, 'sirius': 1, 'allways': 1, 'pleasealso': 1, 'justien': 1, 'righteousness': 1, 'ha': 1, 'drones': 1, 'france': 1, 'allows': 1, '20082010': 1, 'steven': 1, 'iam': 1, 'aid': 1, 'vevo': 1, 'inspirational': 1, 'australia': 1, 'inscreva': 1, 'sup': 1, 'pander26skype': 1, 'either': 1, 'pleaase': 1, 'idaho': 1, 'musicif': 1, 'translate': 1, 'purry': 1, 'omgim': 1, 'yetbut': 1, 'important': 1, 'poster': 1, 'motivating': 1, 'lneadw26bftotoufj0z3vfflfnaxykwzsivqhimxenotorious': 1, 'thundering': 1, 'editor': 1, 'loyal': 1, 'gogopo': 1, 'intel': 1, 'ganga': 1, 'useful': 1, 'breaks': 1, 'idea': 1, 'bumps': 1, 'fee': 1, 'cease': 1, 'authority': 1, 'deathly': 1, 'alternate': 1, 'admit': 1, 'soldiers': 1, 'gs': 1, 'eggmode': 1, 'addicting': 1, 'ding': 1, 'feature': 1, 'katyperryvevo': 1, 'eager': 1, 'freestyles': 1, 'nuketown': 1, 'affiliated': 1, 'idiotic': 1, 'neighbor': 1, 'dragonsand': 1, 'incmediaorg': 1, 'invito': 1, 'kollektivet': 1, 'ourself': 1, 'vena': 1, 'cap': 1, '7k': 1, 'dollar': 1, 'achieve': 1, '90s': 1, 'hearing': 1, 'billsand': 1, 'sometimes': 1, 'conquerors': 1, 'recaps': 1, 'faded': 1, 'vi': 1, 'apprecitate': 1, 'senses': 1, 'deserves': 1, 'idols': 1, 'impossible': 1, 'asked': 1, 'celebrated': 1, 'selection': 1, 'luxuries': 1, 'vulnerable': 1, 'lneadw26bftvzqt6juehasiefrjg1exidvqdnqvphoexode': 1, 'killing': 1, 'everthumbs': 1, 'mindcould': 1, 'toll': 1, 'danced': 1, 'spammers': 1, '1990': 1, 'likecomment': 1, 'pleasethank': 1, 'theme': 1, 'prehistoric': 1, 'lord': 1, 'jam': 1, '219': 1, 'switch': 1, 'fulfilling': 1, 'charity': 1, 'front': 1, 'analyst': 1, 'tde': 1, 'abuse': 1, 'yellow': 1, 'jap': 1, 'diagnosed': 1, 'rised': 1, 'golden': 1, 'transformed': 1, 'beneath': 1, 'adapt': 1, 'acaer': 1, 'faves': 1, 'lives': 1, 'vistazo': 1, 'rekt': 1, 'aye': 1, 'estonia': 1, 'acidic': 1, 'reduce': 1, 'pushes': 1, '3melhor': 1, 'venezuela': 1, 'muchshakira': 1, 'belly': 1, 'kobyoshi02': 1, 'superbowl': 1, 'wifi4g': 1, '139': 1, 'btw': 1, 'significantly': 1, 'fruity': 1, 'clue': 1, 'rosary': 1, 'deaf': 1, 'consumers': 1, 'homes': 1, 'fairy': 1, 'applied': 1, 'cancer': 1, 'sitting': 1, 'stuffslappers': 1, 'youtubecentral': 1, 'noise': 1, 'trigger': 1, 'moments': 1, 'havent': 1, 'launchpad': 1, 'saythis': 1, 'locobot': 1, 'matter': 1, 'entire': 1, 'dakoda': 1, 'harts': 1, 'frequent': 1, 'dafuq': 1, 'wavelength': 1, 'humor': 1, 'abonner': 1, 'uphill': 1, 'comeing': 1, 'wages': 1, 'liers': 1, 'plant': 1, 'sexual': 1, 'talents': 1, 'zesty': 1, 'thru': 1, 'oldspice': 1, 'ahead': 1, 'red': 1, 'yoffa': 1, 'songgod': 1, 'shirt': 1, 'reveling': 1, 'ricky': 1, 'enlargement': 1, 'windshield': 1, 'theyre': 1, 'quickest': 1, 'worried': 1, 'outs': 1, 'zealous': 1, 'lucky': 1, 'actors': 1, 'youtubeeminem': 1, 'mri': 1, 'loveparty': 1, 'duzafizz': 1, 'breath': 1, 'dylan': 1, 'selling': 1, 'scrubsrmontageparodiesand': 1, 'visits': 1, 'joinits': 1, 'aslamu': 1, 'ans': 1, 'tonighttoday': 1, 'depreciateds': 1, 'kik': 1, 'rockin': 1, '1b': 1, 'julie': 1, '3keep': 1, 'views566000': 1, 'cross': 1, 'aways': 1, 'details': 1, 'telling': 1, 'hasmeaningful': 1, 'year365': 1, 'send': 1, 'bf4': 1, 'near': 1, 'tears': 1, 'vegetables': 1, 'requite': 1, 'inc': 1, 'trumpetcallofgodonline': 1, 'shady': 1, 'bbut': 1, 'heroin': 1, 'krean': 1, 'definitily': 1, 'fausto': 1, 'commenter': 1, 'allinone': 1, 'wats': 1, 'serious': 1, 'reed': 1, 'entered': 1, 'odowd': 1, 'price320': 1, 'sertave': 1, 'insurance': 1, 'subscribeeeeeeeeee': 1, 'noi': 1, 'porno': 1, 'sparks': 1, 'rape': 1, 'f': 1, 'ver': 1, 'assume': 1, 'keyword': 1, 'wholehearted': 1, 'government': 1, 'results': 1, 'wwwyouniqueproductscomjoannagordon': 1, 'credit': 1, 'synthesizes': 1, 'lovee': 1, 'drone': 1, 'illustrate': 1, 'keen': 1, 'roasted': 1, 'subscriberscome': 1, 'computer': 1, 'plzz': 1, 'instantly': 1, 'paused': 1, 'pmw': 1, '10000000': 1, 'mere': 1, 'emas': 1, 'itdoing': 1, 'earned': 1, 'therefore': 1, 'edlikeshare': 1, 'wastin': 1, 'kamal': 1, 'fefefefefegelein': 1, 'segue': 1, 'garnered': 1, 'wwwyoutube': 1, 'sweat': 1, 'anand': 1, 'integrated': 1, 'weekendmix': 1, 'invisible': 1, 'giveaway': 1, 'therealchrisking1': 1, 'software': 1, 'bangladesh': 1, 'timei': 1, 'mail': 1, 'sleeveless': 1, 'angel': 1, 'songfeel': 1, 'hioffpo': 1, 'notch': 1, 'nerdy': 1, 'writer': 1, 'robox': 1, 'substantially': 1, 'fabricates': 1, 'complaining': 1, 'sextoy': 1, 'buggti': 1, 'ethosien': 1, 'shall': 1, 'busyglide': 1, 'mans': 1, 'vaio': 1, 'swooflia': 1, 'butts': 1, 'air': 1, 'issue': 1, 'slr': 1, 'dresses': 1, 'period': 1, 'nigger': 1, 'headbutt': 1, 'stereotyped': 1, 'neon': 1, 'tygas': 1, 'halp': 1, 'emotions': 1, 'exciting': 1, 'dreamhelp': 1, 'buchmair': 1, 'ik': 1, 'stephanie': 1, 'hottest': 1, 'smoke': 1, 'blue': 1, 'abbas20130926t221545476000fuck': 1, 'pranks': 1, 'smack': 1, 'saved': 1, 'critiquing': 1, 'health': 1, '11000': 1, 'producers': 1, 'cheat': 1, 'sheldon': 1, 'shufflin': 1, 'mm': 1, 'hdtv': 1, 'customers': 1, 'pleasant': 1, 'arent': 1, 'looooved': 1, 'visuelgamingznl': 1, 'ryhme': 1, 'purpy': 1, 'russia': 1, 'randomly': 1, 'large': 1, 'thirsty': 1, 'authenticviewscom': 1, 'consolidating': 1, 'youtubecomuser36loseweight': 1, '3trust': 1, 'gus': 1, 'fair': 1, 'songafter': 1, 'potter': 1, '16gb': 1, 'cazzy': 1, 'subscribirse': 1, 'songbut': 1, 'makeing': 1, 'room': 1, '1hmvtxdelete': 1, 'songsearch': 1, 'footballsoccer': 1, 'penny': 1, 'olds': 1, 'adoult': 1, 'juyk': 1, 'prepare': 1, 'anywon': 1, 'coolwhy': 1, 'jacket': 1, 'value': 1, 'organizations': 1, 'kidsmediausa': 1, 'whipe': 1, '11th': 1, 'luckymusiqlive': 1, '860000000': 1, 'saving': 1, 'subscrib': 1, '800000000': 1, 'goodlooking': 1, 'drives': 1, 'recommend': 1, 'aware': 1, 'sassy': 1, 'canvas': 1, 'tayara': 1, 'chiptunes': 1, 'peep': 1, 'bitly1bsefqe': 1, 'wisdom': 1, 'cardsxbox': 1, 'channelsubscribe': 1, 'niko20130926t220043613000hey': 1, 'gorg': 1, 'auburn': 1, 'gamestop': 1, 'absorbing': 1, 'intervene': 1, 'cleanse': 1, 'tunez': 1, 'niketan': 1, 'june2715': 1, 'generated': 1, 'itsooooo': 1, 'seem': 1, 'toogit': 1, 'lift': 1, 'evidence': 1, 'loosing': 1, 'acquire': 1, 'hav': 1, 'bing': 1, 'hopefully': 1, 'names': 1, 'disappoint': 1, 'abominable': 1, 'annoyed': 1, 'likesubscribe': 1, 'nick': 1, 'trigo': 1, 'hassle': 1, 'goal100': 1, 'pussy': 1, 'intelligence': 1, 'nummber': 1, 'youtubese': 1, 'trade': 1, 'yaaaaaa': 1, 'flimsy': 1, 'express': 1, 'delicious': 1, 'meets': 1, 'blank': 1, 'weak': 1, 'donating': 1, '2012': 1, 'starting': 1, 'brake': 1, 'fr': 1, 'helped': 1, 'mile': 1, 'groups': 1, 'adore': 1, 'showcase': 1, 'playerhis': 1, 'final': 1, 'realy': 1, 'boobs': 1, 'partyman318': 1, 'ej': 1, '868': 1, 'awesum': 1, 'crowd': 1, 'comstrategygameandrijamatf': 1, 'younique': 1, 'melbourne': 1, 'earthquake': 1, 'd90': 1, 'smh': 1, 'fort': 1, 'anyway': 1, 'sometime': 1, 'thisand': 1, 'conciliate': 1, 'uplifting': 1, 'tiget': 1, 'winners': 1, 'inside': 1, 'chose': 1, 'grass': 1, 'dances': 1, 'hotter': 1, 'smiley': 1, 'awesomeness': 1, 'outfit': 1, 'british': 1, 'giveaways': 1, 'skylarworks': 1, 'torunament': 1, 'stereotype': 1, 'mil': 1, 'fake': 1, 'marketer': 1, 'boxium': 1, 'vidz': 1, '2126521750': 1, 'spooked': 1, 'waratel': 1, 'aviciis': 1, 'hackers': 1, 'shaking': 1, 'update': 1, 'estiloproduction': 1, 'driving': 1, 'problems': 1, 'euw': 1, '30th': 1, 'hoping': 1, 'montagesninja': 1, 'otherwise': 1, 'seat': 1, 'nike': 1, 'ty': 1, 'inspiring': 1, 'synch': 1, 'entertainer': 1, 'videosdownloading': 1, 'motherlandthankyou': 1, 'hicheck': 1, 'investmentjust': 1, 'aftermath': 1, 'effort': 1, 'winning': 1, 'amazement': 1, 'caution': 1, 'kodaline': 1, 'basethanks': 1, 'perform': 1, 'youtubefacebook': 1, 'overplayed': 1, 'summon': 1, '4s': 1, 'believeri': 1, 'sin': 1, 'costfree': 1, 'glamour': 1, 'devils': 1, '2i': 1, 'listeningstill': 1, '4500': 1, 'belle': 1, 'surviving': 1, 'favorobrigado': 1, 'sheep': 1, 'hid': 1, 'appoints': 1, 'gusttavo': 1, 'treu': 1, 'leah': 1, 'edit': 1, 'gypsy': 1, 'musicwe': 1, 'thergloveblogspotin201308blogpost10html': 1, 'john': 1, 'ouffffffffffffffffff': 1, 'describes': 1, 'putty': 1, 'warring': 1, 'blow': 1, 'formula': 1, 'size': 1, 'applause': 1, 'feet': 1, 'bil': 1, 'couch': 1, 'dysfunctional': 1, 'pagee': 1, 'sleeve': 1, 'wahoo': 1, 'wierd': 1, 'led': 1, 'eat': 1, 'steam': 1, 'shotgun': 1, 'jenny': 1, 'crash': 1, 'exclusive': 1, 'shakiras': 1, 'shoot': 1, 'congrasulation': 1, 'powerful': 1, '1015': 1, 'gwar': 1, 'image': 1, 'convinced': 1, 'screwing': 1, 'anxious': 1, 'gameplay': 1, 'international': 1, 'billioncoming': 1, 'featured': 1, 'rhymes': 1, 'daughters': 1, 'counts': 1, 'mary': 1, 'raps': 1, 'laughing': 1, 'fireball': 1, 'criminal': 1, 'admire': 1, 'millioon': 1, 'goose': 1, 'rehabilitate': 1, 'richest': 1, 'manager': 1, 'channnnnnelll': 1, 'dat': 1, 'positive': 1, '2126492636': 1, 'exist': 1, 'hog': 1, 'wager': 1, 'wellif': 1, 'shirts': 1, 'relevant': 1, 'setting': 1, 'afraid': 1, 'column': 1, 'enlist': 1, 'couple': 1, 'ho': 1, 'dddddddrop': 1, 'rapgod': 1, 'retain': 1, 'dundundunnn': 1, 'camp': 1, 'upgrade': 1, 'tattoo': 1, 'goosebumps': 1, 'skits': 1, 'covered': 1, 'mogotrevo': 1, 'mexico': 1, 'yust': 1, 'about661': 1, '629': 1, 'chesture': 1, 'cubik': 1, 'fashionable': 1, 'price385': 1, 'usl': 1, '5c': 1, 'forgetful': 1, 'except': 1, 'roblox': 1, 'mta': 1, 'de': 1, 'horse': 1, 'symptomatic': 1, 'championand': 1, 'empirelike': 1, 'freakin': 1, 'worst': 1, '4000dollars': 1, 'art': 1, 'itz': 1, 'ancestors': 1, 'youtubefb': 1, 'auto': 1, 'cheilith': 1, 'shouldd': 1, 'tshirtof': 1, 'discover': 1, 'insult': 1, 'literally': 1, 'nicely': 1, 'jaylan': 1, 'roulette': 1, '2009': 1, 'paypal': 1, 'hopes': 1, 'songssupper': 1, 'secure': 1, 'twins': 1, 'mp3s': 1, 'uranus': 1, 'promotes': 1, 'mummy': 1, 'memorable': 1, 'blushing': 1, 'charley': 1, 'afflicted': 1, 'tupacase': 1, 'jemini': 1, 'eve': 1, 'thot': 1, 'tits': 1, 'counsel': 1, 'advice': 1, 'reasonchristianity': 1, 'intelligent': 1, 'mainstream': 1, 'illfated': 1, 'inviting': 1, 'airplane': 1, 'extinct': 1, 'nervous': 1, 'hacking': 1, 'sponswer': 1, 'marketglory': 1, 'juice': 1, 'titles': 1, 'famine': 1, '490000': 1, 'unelind': 1, 'spain': 1, 'ignorant': 1, 'operating': 1, 'knocks': 1, 'shooting': 1, 'eliminate': 1, 'dieroar': 1, 'audition': 1, 'lykum': 1, 'breaken': 1, 'spammed': 1, 'eh': 1, 'yt': 1, 'basketball': 1, 'thered': 1, 'od': 1, 'tend': 1, 'challenge': 1, 'virgin': 1, 'concerts': 1, 'etc': 1, 'bomb': 1, 'ending': 1, 'mothers': 1, 'wickedness': 1, 'coverswe': 1, 'adhoc': 1, 'sophisticated': 1, 'chick': 1, 'youtubelooking': 1, 'rules': 1, 'distribution': 1, 'rappersinger': 1, 'mediocre': 1, 'sturdy': 1, '90000000000000000000000000000000000000000000000000000000000000000000000000000000000000000000000000000000000000000000000000000000000000000000000000000000000000000000000000000000000000000000000000000000000000000000000000000000000000000000000000000000000000000000000000000000000000000000000000000000000000000000000000000000000000000000000000000000000000000': 1, 'youtubebut': 1, '128gb': 1, '1it': 1, 'drirathiel': 1, '6500': 1, 'method': 1, 'suscriba': 1, 'mmlp2': 1, 'playtime': 1, 'songeveryday': 1, 'wellcomemdblogfacom': 1, 'womanly': 1, 'monkeys': 1, 'twitch': 1, 'youtubeit': 1, 'set': 1, 'millisecond': 1, 'giant': 1, 'stfu': 1, 'justins': 1, 'thankfully': 1, 'giftcard': 1, 'success': 1, 'taaeecom': 1, 'madly': 1, 'ling': 1, 'slip': 1, 'plizz': 1, 'beaties': 1, 'laughable': 1, 'stronglittlepsy': 1, 'moneyenjoy': 1, '77': 1, 'reunion': 1, 'transmit': 1, 'guss': 1, 'accomplished': 1, 'itd': 1, 'collections': 1, 'wwhore': 1, 'looked': 1, 'cheers': 1, 'files': 1, 'ppl': 1, 'claiming': 1, 'judges': 1, 'depressed': 1, 'mate': 1, 'pleassssssssssssssss': 1, 'respect': 1, 'seeing': 1, 'painting': 1, 'successcheers': 1, 'musicbut': 1, 'present': 1, 'anywhere': 1, 'hole': 1, 'looooooooooooooooooooovvvvvvvvveeeeeeeeeeee': 1, 'letting': 1, 'picked': 1, 'prophets': 1, 'possibly': 1, 'ghostpoet100': 1, 'repay': 1, 'rhianna': 1, '25th': 1, 'lands': 1, 'subcribe': 1, 'fell': 1, 'arbitrate': 1, 'shitjust': 1, 'reaction': 1, 'vanishes': 1, 'pcs': 1, '97in': 1, 'wk': 1, 'natural': 1, 'ems': 1, '1billiom': 1, 'changeable': 1, 'title': 1, 'evertim': 1, 'fuffapster': 1, 'turn': 1, 'war': 1, 'koean': 1, 'offical': 1, 'messages': 1, 'teacher': 1, 'loud': 1, 'youtubecodytolleson': 1, 'viva': 1, 'bearkglzjqup0': 1, 'replies': 1, 'wait': 1, 'animations': 1, 'missouri': 1, 'plzzzzzzz': 1, 'tech': 1, 'texas': 1, 'warspcmasteracetrollshow': 1, 'rising': 1, 'magically': 1, 'thankss': 1, 'domestic': 1, 'buzz': 1, 'brooooo': 1, '6th': 1, 'daughter': 1, 'story': 1, 'virucide': 1, 'caroline': 1, '500k': 1, 'abuses': 1, 'sooooooooooooooo': 1, 'conscious': 1, 'price515': 1, 'foolish': 1, 'sean': 1, 'frame': 1, 'nail': 1, 'suddenly': 1, 'explicit': 1, 'sadly': 1, 'demo': 1, 'robo': 1, 'unfortunatly': 1, 'test': 1, 'craft': 1, 'echa': 1, 'inches': 1, 'succesfull': 1, 'drama': 1, 'field': 1, 'dickwad': 1, 'housee': 1, 'vipsplease': 1, 'som': 1, 'several': 1, 'yr': 1, 'borderlands': 1, 'september': 1, 'aswell': 1, 'parry': 1, 'juss': 1, 'comforter': 1, 'angry': 1, 'ana': 1, 'opening': 1, 'dunno': 1, 'tinyurldotcomslashmxh2y77': 1, 'blessing': 1, 'sang': 1, 'accessories': 1, 'road': 1, 'g': 1, 'ablaze': 1, '04': 1, 'harder': 1, 'offline': 1, 'someones': 1, 'anime': 1, 'hurts': 1, 'movies': 1, 'colorful': 1, 'k': 1, 'crestboot': 1, '340411': 1, 'terrorism': 1, 'chooses': 1, 'coby': 1, 'hyuna': 1, 'guarantee': 1, 'i5': 1, 'beginning': 1, 'wet': 1, '1030': 1, 'hhnl': 1, '7000000000': 1, 'disliked': 1, 'foto': 1, 'soooooooooooooooooooooooooooooooooooooooo': 1, 'lneadw26bfunoarag71awgu6tjo6azdkfiuntz1hymuhammad': 1, 'riri': 1, 'cereal': 1, 'doubt': 1, 'qiameth': 1, 'esyest': 1, 'birtgday': 1, 'amiable': 1, '14000000': 1, 'pileanyone': 1, 'realkevinheart': 1, 'annoys': 1, 'sooooooooooooong': 1, 'mai': 1, 'freestyle': 1, 'guide': 1, 'edge': 1, 'viewing': 1, 'awesoooome': 1, '002': 1, 'fack': 1, 'mcashim': 1, '3d': 1, 'sleeping': 1, 'cried': 1, 'chriscz': 1, 'helpful': 1, 'doctor': 1, 'spoken': 1, '3rd': 1, 'prioritize': 1, 'certification': 1, 'tank': 1, 'therealterrell': 1, 'exposes': 1, 'enimen': 1, 'kyle': 1, '40': 1, 'grade': 1, 'fu': 1, 'loon': 1, 'render': 1, 'growtopia': 1, '2b': 1, 'overlol': 1, 'inbox': 1, 'mileysecretvideocouk': 1, 'selfie': 1, 'admitting': 1, 'everyones': 1, 'pages': 1, 'pun': 1, 'score': 1, 'rookie': 1, 'coverup': 1, 'shrek': 1, 'example': 1, 'gardens': 1, 'performe': 1, 'katie': 1, 'steel': 1, 'foot': 1, 'classsic': 1, 'djj': 1, 'college': 1, 'understands': 1, 'perhaps': 1, 'germany': 1, 'chillstep': 1, 'expose': 1, 'giver': 1, 'dddd': 1, 'wonderful': 1, 'none': 1, 'chills': 1, 'price510': 1, 'cheats': 1, 'base': 1, 'strawberry': 1, 'pleaaaase': 1, 'cheer': 1, 'actual': 1, 'effects': 1, 'misty': 1, 'smartie': 1, 'trends': 1, 'comparisons': 1, 'tightttti': 1, 'countries': 1, 'jean': 1, 'demonstrating': 1, 'katheryns': 1, 'swing': 1, 'however': 1, 'definitley': 1, 'conceived': 1, 'handsome': 1, 'dancesuperbbb': 1, 'plese': 1, 'dancer': 1, 'vet': 1, 'nicer': 1, 'bars': 1, 'whiz': 1, 'grateful': 1, '2127322484': 1, 'insted': 1, '111': 1, 'ended': 1, 'expect': 1, '12year': 1, 'mercurys': 1, 'betterthan': 1, 'law': 1, 'sandernicolaysen2pleas': 1, 'disappointed': 1, 'leisure': 1, 'roaaaaarrrrrr': 1, 'remove': 1, 'lem': 1, 'plot': 1, 'submits': 1, 'mahones': 1, 'boring': 1, 'boost': 1, 'signup': 1, 'openly': 1, 'mahogany': 1, 'humanbut': 1, 'flute': 1, 'youtubeopponents': 1, 'beast': 1, 'lima': 1, 'adult': 1, 'lookalike': 1, 'luther': 1, 'relationship': 1, 'folly': 1, 'burst': 1, 'sisters': 1, 'supporters': 1, 'eminem3': 1, '108k': 1, 'rapperplease': 1, 'arguementsother': 1, 'supposed': 1, 'somebody': 1, 'january': 1, 'lyricism': 1, 'nezo': 1, 'bella': 1, 'lazy': 1, 'earns': 1, 'confidence': 1, 'rapped': 1, 'off0': 1, 'entertaining': 1, 'dreamers': 1, 'turnoff': 1, 'ba': 1, 'nonasian': 1, 'wow5': 1, 'songhas': 1, 'satisfying': 1, 'shuffled': 1, '1m': 1, 'recipe': 1, 'pe': 1, 'advertising': 1, '300': 1, 'personally': 1, 'conference': 1, 'journey': 1, 'butt': 1, 'scared': 1, 'werent': 1, 'citizen': 1, 'worry': 1, 'proud': 1, 'propa': 1, 'fill': 1, 'short': 1, 'projects': 1, 'modern': 1, 'hairstylist': 1, 'chaste': 1, 'canibus': 1, 'ferirama': 1, 'warmth': 1, 'briefs': 1, 'leandrus': 1, '346': 1, 'jims': 1, 'khalifa': 1, 'inviolate': 1, 'wwwteespringcomsmiley12': 1, 'eyebrows': 1, 'ooooo': 1, 'weekly': 1, 'hips': 1, 'sold': 1, 'incandescent': 1, 'repass': 1, 'gardner': 1, 'crush': 1, 'updated': 1, 'stick': 1, 'mario': 1, 'voyage': 1, 'tendency': 1, 'cheetos': 1, 'dancepsy': 1, 'clothing': 1, 'hallowseither': 1, 'downloads': 1, 'erection': 1, 'playing': 1, 'blond': 1, 'ultrabooks': 1, 'spirit': 1, 'shy': 1, 'genocide': 1, 'dosing': 1, 'olielle': 1, 'moroccan': 1, 'cabelo': 1, 'excuse': 1, 'diving': 1, 'absolute': 1, '157': 1, 'noms': 1, 'insanity': 1, 'confirmed': 1, 'lion': 1, 'nikon': 1, 'moved': 1, 'body': 1, 'undefiled': 1, 'thou': 1, 'fucken': 1, 'sweet': 1, 'woke': 1, 'duh': 1, 'operation': 1, 'activates': 1, 'level': 1, 'neeru105': 1, 'macho': 1, 'report': 1, 'religious': 1, 'cent': 1, 'nothingplease': 1, 'destinyforever': 1, 'hook': 1, 'marian': 1, 'abusedmistreated': 1, 'impress': 1, 'comeback20130926t222300710000600m': 1, 'achieved': 1, 'euro': 1, 'shikas': 1, 'jaesuk': 1, 'freddy': 1, 'witnesss': 1, 'improvehelp': 1, 'grynn': 1, 'firms': 1, 'duty': 1, 'spit': 1, 'substantial': 1, '2924': 1, 'intention': 1, 'colors': 1, 'police': 1, 'vidios': 1, 'normal': 1, 'favor': 1, 'ah': 1, 'slappin': 1, 'midnight': 1, 'pet': 1, 'dongs': 1, 'lmfaovevo': 1, 'crdits': 1, 'copy': 1, 'itttttttt': 1, 'gain': 1, 'writing': 1, 'courtthanks': 1, 'pie': 1, 'micheal': 1, 'dna': 1, 'divine': 1, 'austin': 1, 'tango': 1, 'computerbased': 1, 'figured': 1, '2015i': 1, 'catch': 1, '851247920': 1, 'medication': 1, 'gook': 1, 'lead': 1, 'expression': 1, 'plausible': 1, 'emphasis': 1, 'viewsdark': 1, 'laura': 1, 'beatboxing': 1, 'fricking': 1, 'rymeluv': 1, 'rappersongwriter': 1, 'comentars': 1, 'westerners': 1, 'mirror': 1, 'umph': 1, 'listencheck': 1, 'loads': 1, '279898': 1, 'freind': 1, 'jello': 1, '205': 1, 'macabre': 1, 'tazz': 1, 'unbiased': 1, 'republic': 1, 'eeeveryone': 1, 'avoid': 1, 'course': 1, 'mosh': 1, 'favorgracias': 1, 'trafficking': 1, 'pigment': 1, 'dhg': 1, 'fright': 1, 'songstill': 1, 'cash': 1, 'faze': 1, 'bunch': 1, 'mountain': 1, 'linz': 1, 'releasing': 1, 'lmao': 1, 'professor': 1, 'poeple': 1, 'nalpure': 1, '28': 1, 'characterized': 1, 'difficult': 1, 'doh': 1, 'africa2': 1, 'terrorist': 1, 'tomorrowjoking': 1, 'stretch': 1, 'succeeds': 1, 'insperasen': 1, 'halloween': 1, 'enjoyable': 1, 'using': 1, 'hmmhow': 1, 'clubskip': 1, 'barspart': 1, 'thereim': 1, 'iiiiiiiiiii': 1, 'instagraml': 1, 'londons': 1, 'crop': 1, 'fish': 1, 'ring': 1, 'symbolic': 1, 'videoif': 1, 'streamer': 1, 'hunger': 1, 'louis': 1, 'vip': 1, 'rhythm': 1, 'rants': 1, 'photograph': 1, 'generation': 1, 'itt': 1, 'eva': 1, 'obviously': 1, 'curti': 1, 'food': 1, 'terrance': 1, 'probable': 1, 'aka': 1, 'spaces': 1, 'confessors': 1, 'hart': 1, 'felt': 1, 'uppity': 1, 'break': 1, 'land': 1, 'babe': 1, 'besloor': 1, 'noticed': 1, 'hands': 1, 'scintillating': 1, 'nelson': 1, 'airlines': 1, 'rid': 1, 'perverse': 1, 'composer': 1, 'bother': 1, 'polish': 1, 'ginius': 1, 'sprayon': 1, 'fbtwitterg': 1, 'ear': 1, 'numbering': 1, 'users': 1, 'skyburst': 1, 'wanderfol': 1, 'racists': 1, 'lisening': 1, 'actor': 1, 'earthcomplaintspewdiepie': 1, 'imperfect': 1, 'tricep': 1, 'starlitnightsky': 1, 'kidz': 1, 'grow': 1, 'husbands': 1, 'wiredo': 1, 'pleasewere': 1, 'tigerlike': 1, 'facilitate': 1, 'clap': 1, 'lmfaois': 1, 'ink': 1, 'maylaysia': 1, 'norrus': 1, 'pthis': 1, '109': 1, 'fucked': 1, 'writeperformrecordmixeditpost': 1, 'lovethewayyoulie': 1, 'slappers': 1, 'apparel': 1, 'youtubegotta': 1, 'challenges': 1, 'channelsounds': 1, 'belarus': 1, 'bet': 1, 'shellfirst301': 1, 'serov': 1, '39': 1, 'nite': 1, '3mejor': 1, 'aaaaaaa': 1, 'im2458444': 1, 'belrus20130926t222612832000nice': 1, 'swamp': 1, 'language': 1, 'letter': 1, 'crimes': 1, 'advertisiments': 1, 'charlieee': 1, 'tabs': 1, 'terrible': 1, 'lip': 1, 'horrific': 1, 'gangam': 1, 'due': 1, 'montages': 1, 'youtubelove': 1, 'lane': 1, 'haterz': 1, 'duo': 1, 'illness': 1, 'thus': 1, 'csgo': 1, 'paragraph': 1, 'sensejust': 1, 'rave': 1, 'pilot': 1, 'insanedo': 1, 'pplease': 1, 'denis': 1, 'gamezz': 1, 'totally': 1, 'expansion': 1, 'looooooooove': 1, 'yeat': 1, 'wtp': 1, 'homeless': 1, 'grace': 1, 'touch': 1, '447935454150': 1, 'commercial': 1, 'pride': 1, 'marius': 1, 'unlike': 1, '2005': 1, 'received': 1, 'chuck': 1, 'linked': 1, 'everydayimvaping': 1, '00': 1, 'experiments': 1, 'gta5': 1, 'youtuberi': 1, '800m': 1, 'chorus': 1, 'measure': 1, 'audit': 1, 'ftw': 1, 'salvation': 1, 'refused': 1, 'umichael': 1, 'financial': 1, 'creativity': 1, 'phenomena': 1, 'training': 1, 'remezcla': 1, 'subscribes': 1, '113': 1, 'purchase': 1, 'skizzle': 1, 'posted': 1, 'searchs': 1, 'coolest': 1, 'calls': 1, 'soooooooooooooooooooooooooooooooooooooooooooooooooo': 1, 'lyrically': 1, 'obtain': 1, '5277478': 1, 'dinero': 1, 'rich': 1, 'pal': 1, 'looplab': 1, '1855mm': 1, 'lik': 1, 'rt': 1, 'gabby': 1, 'netherland': 1, 'often': 1, 'apocalypse': 1, 'suicide': 1, 'creating': 1, 'minoo': 1, 'skill': 1, 'thanksmercigraciasdankeobrigadograzie': 1, 'recognizes': 1, 'spell': 1, 'prevent': 1, 'se': 1, 'pester': 1, 'eyesadvertisementslike': 1, 'jahitan': 1, 'wakad': 1, 'dressed': 1, 'acquiring': 1, 'musicvideo': 1, '1700000000': 1, 'oleald': 1, 'members': 1, 'luv': 1, 'retards': 1, 'fund': 1, 'crashed': 1, 'subscrible': 1, 'lunden': 1, 'healing': 1, 'produced': 1, 'divorce': 1, 'total': 1, 'middle': 1, 'videoi': 1, 'economic': 1, 'bisexual': 1, 'adsense': 1, 'kevin': 1, 'adding': 1, 'green': 1, 'task': 1, 'describe': 1, 'net': 1, 'srilanka': 1, 'jus': 1, 'improves': 1, '800': 1, 'gat': 1, 'yrs': 1, 'remind': 1, 'scitenoa': 1, 'scoping': 1, 'false': 1, 'naive': 1, 'monstrous': 1, '5800': 1, 'topic': 1, 'cyphers': 1, '2127315950': 1, 'bucks': 1, 'expo': 1, 'dislikesepic': 1, '421': 1, 'dizzy': 1, 'collaboration': 1, 'katyand': 1, 'actresses': 1, 'acceptance': 1, 'chanicka': 1, 'bookies': 1, 'supreme': 1, 'hii': 1, 'freinds': 1, 'whenever': 1, 'clicked': 1, 'reads': 1, 'feels': 1, 'underrated': 1, 'heck': 1, 'wheels': 1, 'solve': 1})\n"
     ]
    }
   ],
   "source": [
    "from collections import Counter\n",
    "token = []\n",
    "for idx,x in data.iterrows():\n",
    "    token = token + word_tokenize(x['CONTENT'])\n",
    "print(len(token))\n",
    "token = [\"_link_feature_\" if x.find('http')!=-1 else x for x in token]\n",
    "token = [\"_link_feature_\" if x.find('watch')!=-1 and len(x)>9 else x for x in token]\n",
    "c= Counter(token)\n",
    "print(c)"
   ]
  },
  {
   "cell_type": "code",
   "execution_count": null,
   "metadata": {
    "collapsed": true
   },
   "outputs": [],
   "source": []
  }
 ],
 "metadata": {
  "kernelspec": {
   "display_name": "Python 3",
   "language": "python",
   "name": "python3"
  },
  "language_info": {
   "codemirror_mode": {
    "name": "ipython",
    "version": 3
   },
   "file_extension": ".py",
   "mimetype": "text/x-python",
   "name": "python",
   "nbconvert_exporter": "python",
   "pygments_lexer": "ipython3",
   "version": "3.5.2"
  }
 },
 "nbformat": 4,
 "nbformat_minor": 2
}
