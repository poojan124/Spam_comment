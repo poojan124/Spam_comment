{
 "cells": [
  {
   "cell_type": "code",
   "execution_count": 1,
   "metadata": {
    "collapsed": false,
    "deletable": true,
    "editable": true
   },
   "outputs": [
    {
     "name": "stderr",
     "output_type": "stream",
     "text": [
      "c:\\python35\\lib\\site-packages\\sklearn\\cross_validation.py:44: DeprecationWarning: This module was deprecated in version 0.18 in favor of the model_selection module into which all the refactored classes and functions are moved. Also note that the interface of the new CV iterators are different from that of this module. This module will be removed in 0.20.\n",
      "  \"This module will be removed in 0.20.\", DeprecationWarning)\n"
     ]
    }
   ],
   "source": [
    "import pandas as pd\n",
    "import numpy as np\n",
    "from sklearn.cross_validation import train_test_split\n",
    "from bs4 import BeautifulSoup\n",
    "import warnings\n"
   ]
  },
  {
   "cell_type": "code",
   "execution_count": 2,
   "metadata": {
    "collapsed": false,
    "deletable": true,
    "editable": true
   },
   "outputs": [
    {
     "name": "stdout",
     "output_type": "stream",
     "text": [
      "(1956, 5)\n"
     ]
    },
    {
     "data": {
      "text/html": [
       "<div>\n",
       "<style>\n",
       "    .dataframe thead tr:only-child th {\n",
       "        text-align: right;\n",
       "    }\n",
       "\n",
       "    .dataframe thead th {\n",
       "        text-align: left;\n",
       "    }\n",
       "\n",
       "    .dataframe tbody tr th {\n",
       "        vertical-align: top;\n",
       "    }\n",
       "</style>\n",
       "<table border=\"1\" class=\"dataframe\">\n",
       "  <thead>\n",
       "    <tr style=\"text-align: right;\">\n",
       "      <th></th>\n",
       "      <th>COMMENT_ID</th>\n",
       "      <th>AUTHOR</th>\n",
       "      <th>DATE</th>\n",
       "      <th>CONTENT</th>\n",
       "      <th>CLASS</th>\n",
       "    </tr>\n",
       "  </thead>\n",
       "  <tbody>\n",
       "    <tr>\n",
       "      <th>0</th>\n",
       "      <td>LZQPQhLyRh80UYxNuaDWhIGQYNQ96IuCg-AYWqNPjpU</td>\n",
       "      <td>Julius NM</td>\n",
       "      <td>2013-11-07T06:20:48</td>\n",
       "      <td>Huh, anyway check out this you[tube] channel: ...</td>\n",
       "      <td>1</td>\n",
       "    </tr>\n",
       "    <tr>\n",
       "      <th>1</th>\n",
       "      <td>LZQPQhLyRh_C2cTtd9MvFRJedxydaVW-2sNg5Diuo4A</td>\n",
       "      <td>adam riyati</td>\n",
       "      <td>2013-11-07T12:37:15</td>\n",
       "      <td>Hey guys check out my new channel and our firs...</td>\n",
       "      <td>1</td>\n",
       "    </tr>\n",
       "    <tr>\n",
       "      <th>2</th>\n",
       "      <td>LZQPQhLyRh9MSZYnf8djyk0gEF9BHDPYrrK-qCczIY8</td>\n",
       "      <td>Evgeny Murashkin</td>\n",
       "      <td>2013-11-08T17:34:21</td>\n",
       "      <td>just for test I have to say murdev.com</td>\n",
       "      <td>1</td>\n",
       "    </tr>\n",
       "    <tr>\n",
       "      <th>3</th>\n",
       "      <td>z13jhp0bxqncu512g22wvzkasxmvvzjaz04</td>\n",
       "      <td>ElNino Melendez</td>\n",
       "      <td>2013-11-09T08:28:43</td>\n",
       "      <td>me shaking my sexy ass on my channel enjoy ^_^ ﻿</td>\n",
       "      <td>1</td>\n",
       "    </tr>\n",
       "    <tr>\n",
       "      <th>4</th>\n",
       "      <td>z13fwbwp1oujthgqj04chlngpvzmtt3r3dw</td>\n",
       "      <td>GsMega</td>\n",
       "      <td>2013-11-10T16:05:38</td>\n",
       "      <td>watch?v=vtaRGgvGtWQ   Check this out .﻿</td>\n",
       "      <td>1</td>\n",
       "    </tr>\n",
       "  </tbody>\n",
       "</table>\n",
       "</div>"
      ],
      "text/plain": [
       "                                    COMMENT_ID            AUTHOR  \\\n",
       "0  LZQPQhLyRh80UYxNuaDWhIGQYNQ96IuCg-AYWqNPjpU         Julius NM   \n",
       "1  LZQPQhLyRh_C2cTtd9MvFRJedxydaVW-2sNg5Diuo4A       adam riyati   \n",
       "2  LZQPQhLyRh9MSZYnf8djyk0gEF9BHDPYrrK-qCczIY8  Evgeny Murashkin   \n",
       "3          z13jhp0bxqncu512g22wvzkasxmvvzjaz04   ElNino Melendez   \n",
       "4          z13fwbwp1oujthgqj04chlngpvzmtt3r3dw            GsMega   \n",
       "\n",
       "                  DATE                                            CONTENT  \\\n",
       "0  2013-11-07T06:20:48  Huh, anyway check out this you[tube] channel: ...   \n",
       "1  2013-11-07T12:37:15  Hey guys check out my new channel and our firs...   \n",
       "2  2013-11-08T17:34:21             just for test I have to say murdev.com   \n",
       "3  2013-11-09T08:28:43   me shaking my sexy ass on my channel enjoy ^_^ ﻿   \n",
       "4  2013-11-10T16:05:38            watch?v=vtaRGgvGtWQ   Check this out .﻿   \n",
       "\n",
       "   CLASS  \n",
       "0      1  \n",
       "1      1  \n",
       "2      1  \n",
       "3      1  \n",
       "4      1  "
      ]
     },
     "execution_count": 2,
     "metadata": {},
     "output_type": "execute_result"
    }
   ],
   "source": [
    "files = ['Youtube01-Psy.csv','Youtube02-KatyPerry.csv','Youtube03-LMFAO.csv','Youtube04-Eminem.csv','Youtube05-Shakira.csv']\n",
    "frames = [pd.read_csv(f) for f in files]\n",
    "data = pd.concat(frames,axis=0,ignore_index=True)\n",
    "print(data.shape)\n",
    "data.head()"
   ]
  },
  {
   "cell_type": "code",
   "execution_count": 3,
   "metadata": {
    "collapsed": false,
    "deletable": true,
    "editable": true
   },
   "outputs": [
    {
     "name": "stdout",
     "output_type": "stream",
     "text": [
      "(1956, 2)\n"
     ]
    },
    {
     "data": {
      "text/html": [
       "<div>\n",
       "<style>\n",
       "    .dataframe thead tr:only-child th {\n",
       "        text-align: right;\n",
       "    }\n",
       "\n",
       "    .dataframe thead th {\n",
       "        text-align: left;\n",
       "    }\n",
       "\n",
       "    .dataframe tbody tr th {\n",
       "        vertical-align: top;\n",
       "    }\n",
       "</style>\n",
       "<table border=\"1\" class=\"dataframe\">\n",
       "  <thead>\n",
       "    <tr style=\"text-align: right;\">\n",
       "      <th></th>\n",
       "      <th>CONTENT</th>\n",
       "      <th>CLASS</th>\n",
       "    </tr>\n",
       "  </thead>\n",
       "  <tbody>\n",
       "    <tr>\n",
       "      <th>0</th>\n",
       "      <td>Huh, anyway check out this you[tube] channel: ...</td>\n",
       "      <td>1</td>\n",
       "    </tr>\n",
       "    <tr>\n",
       "      <th>1</th>\n",
       "      <td>Hey guys check out my new channel and our firs...</td>\n",
       "      <td>1</td>\n",
       "    </tr>\n",
       "    <tr>\n",
       "      <th>2</th>\n",
       "      <td>just for test I have to say murdev.com</td>\n",
       "      <td>1</td>\n",
       "    </tr>\n",
       "    <tr>\n",
       "      <th>3</th>\n",
       "      <td>me shaking my sexy ass on my channel enjoy ^_^ ﻿</td>\n",
       "      <td>1</td>\n",
       "    </tr>\n",
       "    <tr>\n",
       "      <th>4</th>\n",
       "      <td>watch?v=vtaRGgvGtWQ   Check this out .﻿</td>\n",
       "      <td>1</td>\n",
       "    </tr>\n",
       "    <tr>\n",
       "      <th>5</th>\n",
       "      <td>Hey, check out my new website!! This site is a...</td>\n",
       "      <td>1</td>\n",
       "    </tr>\n",
       "    <tr>\n",
       "      <th>6</th>\n",
       "      <td>Subscribe to my channel ﻿</td>\n",
       "      <td>1</td>\n",
       "    </tr>\n",
       "    <tr>\n",
       "      <th>7</th>\n",
       "      <td>i turned it on mute as soon is i came on i jus...</td>\n",
       "      <td>0</td>\n",
       "    </tr>\n",
       "    <tr>\n",
       "      <th>8</th>\n",
       "      <td>You should check my channel for Funny VIDEOS!!﻿</td>\n",
       "      <td>1</td>\n",
       "    </tr>\n",
       "    <tr>\n",
       "      <th>9</th>\n",
       "      <td>and u should.d check my channel and tell me wh...</td>\n",
       "      <td>1</td>\n",
       "    </tr>\n",
       "  </tbody>\n",
       "</table>\n",
       "</div>"
      ],
      "text/plain": [
       "                                             CONTENT  CLASS\n",
       "0  Huh, anyway check out this you[tube] channel: ...      1\n",
       "1  Hey guys check out my new channel and our firs...      1\n",
       "2             just for test I have to say murdev.com      1\n",
       "3   me shaking my sexy ass on my channel enjoy ^_^ ﻿      1\n",
       "4            watch?v=vtaRGgvGtWQ   Check this out .﻿      1\n",
       "5  Hey, check out my new website!! This site is a...      1\n",
       "6                          Subscribe to my channel ﻿      1\n",
       "7  i turned it on mute as soon is i came on i jus...      0\n",
       "8    You should check my channel for Funny VIDEOS!!﻿      1\n",
       "9  and u should.d check my channel and tell me wh...      1"
      ]
     },
     "execution_count": 3,
     "metadata": {},
     "output_type": "execute_result"
    }
   ],
   "source": [
    "data = data.drop(['COMMENT_ID','AUTHOR','DATE'],axis=1)\n",
    "print(data.shape)\n",
    "data.head(n=10)"
   ]
  },
  {
   "cell_type": "code",
   "execution_count": 4,
   "metadata": {
    "collapsed": false,
    "deletable": true,
    "editable": true,
    "scrolled": true
   },
   "outputs": [],
   "source": [
    "warnings.filterwarnings(\"ignore\", category=UserWarning, module='bs4')\n",
    "data['CONTENT'] = data['CONTENT'].apply(lambda x: BeautifulSoup(x,'html.parser').get_text())"
   ]
  },
  {
   "cell_type": "code",
   "execution_count": 5,
   "metadata": {
    "collapsed": false,
    "deletable": true,
    "editable": true
   },
   "outputs": [
    {
     "name": "stdout",
     "output_type": "stream",
     "text": [
      "(1956, 2)\n",
      "569\n",
      "-->1\n",
      "-->Hey guys, I was working last night on this project, it's a music streamer  like spotify, but it allows you to download the files to listen to when  you're offline. Opening it as a free beta, feel free to try it out :) download: https://mega.co.nz/#!ehVjzKyA!5bGKg2iWPHZOHWAEUesrWnegqG_lABcO7Rw9WFX8hAo﻿\n",
      "\n",
      "702\n",
      "-->1\n",
      "-->Hey guys, I'm a human.But I don't want to be a human, I want to be a sexy fucking giraffe.I already have the money for the surgery to elongate my spinal core, the surgery to change my skin pigment, and everything else! Like this post so others can root me on in my dream!!!!Im fucking with you, I make music, check out my first song! #giraffebruuh﻿\n",
      "\n"
     ]
    }
   ],
   "source": [
    "print(data.shape)\n",
    "for idx,x in data.iterrows():\n",
    "    if x['CONTENT'].find('Hey guys,')!=-1:\n",
    "        print(str(idx),end='\\n')\n",
    "        print(\"-->\" + str(x['CLASS']),end=\"\\n\")\n",
    "        print(\"-->\" + x['CONTENT'],end=\"\\n\\n\")"
   ]
  },
  {
   "cell_type": "code",
   "execution_count": 6,
   "metadata": {
    "collapsed": false,
    "deletable": true,
    "editable": true
   },
   "outputs": [
    {
     "data": {
      "text/html": [
       "<div>\n",
       "<style>\n",
       "    .dataframe thead tr:only-child th {\n",
       "        text-align: right;\n",
       "    }\n",
       "\n",
       "    .dataframe thead th {\n",
       "        text-align: left;\n",
       "    }\n",
       "\n",
       "    .dataframe tbody tr th {\n",
       "        vertical-align: top;\n",
       "    }\n",
       "</style>\n",
       "<table border=\"1\" class=\"dataframe\">\n",
       "  <thead>\n",
       "    <tr style=\"text-align: right;\">\n",
       "      <th></th>\n",
       "      <th>CONTENT</th>\n",
       "      <th>CLASS</th>\n",
       "    </tr>\n",
       "  </thead>\n",
       "  <tbody>\n",
       "    <tr>\n",
       "      <th>0</th>\n",
       "      <td>Huh anyway check out this youtube channel koby...</td>\n",
       "      <td>1</td>\n",
       "    </tr>\n",
       "    <tr>\n",
       "      <th>1</th>\n",
       "      <td>Hey guys check out my new channel and our firs...</td>\n",
       "      <td>1</td>\n",
       "    </tr>\n",
       "    <tr>\n",
       "      <th>2</th>\n",
       "      <td>just for test I have to say murdevcom</td>\n",
       "      <td>1</td>\n",
       "    </tr>\n",
       "    <tr>\n",
       "      <th>3</th>\n",
       "      <td>me shaking my sexy ass on my channel enjoy  ﻿</td>\n",
       "      <td>1</td>\n",
       "    </tr>\n",
       "    <tr>\n",
       "      <th>4</th>\n",
       "      <td>watchvvtaRGgvGtWQ   Check this out ﻿</td>\n",
       "      <td>1</td>\n",
       "    </tr>\n",
       "  </tbody>\n",
       "</table>\n",
       "</div>"
      ],
      "text/plain": [
       "                                             CONTENT  CLASS\n",
       "0  Huh anyway check out this youtube channel koby...      1\n",
       "1  Hey guys check out my new channel and our firs...      1\n",
       "2              just for test I have to say murdevcom      1\n",
       "3      me shaking my sexy ass on my channel enjoy  ﻿      1\n",
       "4               watchvvtaRGgvGtWQ   Check this out ﻿      1"
      ]
     },
     "execution_count": 6,
     "metadata": {},
     "output_type": "execute_result"
    }
   ],
   "source": [
    "import re,string\n",
    "data['CONTENT'] = data['CONTENT'].apply(lambda x: re.sub('[%s]' % re.escape(string.punctuation), '', x))\n",
    "data.head()"
   ]
  },
  {
   "cell_type": "code",
   "execution_count": 7,
   "metadata": {
    "collapsed": false,
    "deletable": true,
    "editable": true
   },
   "outputs": [
    {
     "data": {
      "text/html": [
       "<div>\n",
       "<style>\n",
       "    .dataframe thead tr:only-child th {\n",
       "        text-align: right;\n",
       "    }\n",
       "\n",
       "    .dataframe thead th {\n",
       "        text-align: left;\n",
       "    }\n",
       "\n",
       "    .dataframe tbody tr th {\n",
       "        vertical-align: top;\n",
       "    }\n",
       "</style>\n",
       "<table border=\"1\" class=\"dataframe\">\n",
       "  <thead>\n",
       "    <tr style=\"text-align: right;\">\n",
       "      <th></th>\n",
       "      <th>CONTENT</th>\n",
       "    </tr>\n",
       "    <tr>\n",
       "      <th>CLASS</th>\n",
       "      <th></th>\n",
       "    </tr>\n",
       "  </thead>\n",
       "  <tbody>\n",
       "    <tr>\n",
       "      <th>0</th>\n",
       "      <td>951</td>\n",
       "    </tr>\n",
       "    <tr>\n",
       "      <th>1</th>\n",
       "      <td>1005</td>\n",
       "    </tr>\n",
       "  </tbody>\n",
       "</table>\n",
       "</div>"
      ],
      "text/plain": [
       "       CONTENT\n",
       "CLASS         \n",
       "0          951\n",
       "1         1005"
      ]
     },
     "execution_count": 7,
     "metadata": {},
     "output_type": "execute_result"
    }
   ],
   "source": [
    "data.groupby('CLASS').count()"
   ]
  },
  {
   "cell_type": "code",
   "execution_count": 8,
   "metadata": {
    "collapsed": false,
    "deletable": true,
    "editable": true
   },
   "outputs": [],
   "source": [
    "from nltk.corpus import stopwords\n",
    "from nltk.tokenize import word_tokenize\n",
    "\n",
    "words = set(stopwords.words('english'))\n",
    "def stop_rem(s):\n",
    "    new_s = ''\n",
    "    word_list = word_tokenize(s)\n",
    "    for w in word_list:\n",
    "        if w.lower() not in words:\n",
    "            new_s = new_s + w.lower() + ' '\n",
    "    return new_s\n",
    "data['CONTENT'] = data['CONTENT'].apply(lambda x: stop_rem(x))"
   ]
  },
  {
   "cell_type": "code",
   "execution_count": 9,
   "metadata": {
    "collapsed": false,
    "deletable": true,
    "editable": true
   },
   "outputs": [
    {
     "data": {
      "text/html": [
       "<div>\n",
       "<style>\n",
       "    .dataframe thead tr:only-child th {\n",
       "        text-align: right;\n",
       "    }\n",
       "\n",
       "    .dataframe thead th {\n",
       "        text-align: left;\n",
       "    }\n",
       "\n",
       "    .dataframe tbody tr th {\n",
       "        vertical-align: top;\n",
       "    }\n",
       "</style>\n",
       "<table border=\"1\" class=\"dataframe\">\n",
       "  <thead>\n",
       "    <tr style=\"text-align: right;\">\n",
       "      <th></th>\n",
       "      <th>CONTENT</th>\n",
       "      <th>CLASS</th>\n",
       "    </tr>\n",
       "  </thead>\n",
       "  <tbody>\n",
       "    <tr>\n",
       "      <th>0</th>\n",
       "      <td>huh anyway check youtube channel kobyoshi02</td>\n",
       "      <td>1</td>\n",
       "    </tr>\n",
       "    <tr>\n",
       "      <th>1</th>\n",
       "      <td>hey guys check new channel first vid us monkey...</td>\n",
       "      <td>1</td>\n",
       "    </tr>\n",
       "    <tr>\n",
       "      <th>2</th>\n",
       "      <td>test say murdevcom</td>\n",
       "      <td>1</td>\n",
       "    </tr>\n",
       "    <tr>\n",
       "      <th>3</th>\n",
       "      <td>shaking sexy ass channel enjoy ﻿</td>\n",
       "      <td>1</td>\n",
       "    </tr>\n",
       "    <tr>\n",
       "      <th>4</th>\n",
       "      <td>watchvvtarggvgtwq check ﻿</td>\n",
       "      <td>1</td>\n",
       "    </tr>\n",
       "  </tbody>\n",
       "</table>\n",
       "</div>"
      ],
      "text/plain": [
       "                                             CONTENT  CLASS\n",
       "0       huh anyway check youtube channel kobyoshi02       1\n",
       "1  hey guys check new channel first vid us monkey...      1\n",
       "2                                test say murdevcom       1\n",
       "3                  shaking sexy ass channel enjoy ﻿       1\n",
       "4                         watchvvtarggvgtwq check ﻿       1"
      ]
     },
     "execution_count": 9,
     "metadata": {},
     "output_type": "execute_result"
    }
   ],
   "source": [
    "data.head()"
   ]
  },
  {
   "cell_type": "code",
   "execution_count": 18,
   "metadata": {
    "collapsed": false
   },
   "outputs": [
    {
     "name": "stdout",
     "output_type": "stream",
     "text": [
      "17319\n",
      "Counter({'check': 559, 'video': 294, '\\ufeff': 247, 'like': 234, 'song': 231, 'please': 231, 'subscribe': 209, 'love': 189, 'channel': 173, 'im': 157, 'music': 144, 'youtube\\ufeff': 133, 'new': 122, 'guys': 114, 'get': 97, 'dont': 92, 'make': 87, 'money': 86, 'hey': 86, 'people': 84, 'views': 84, 'youtube': 82, 'best': 78, 'katy': 75, 'comment': 73, 'know': 71, 'would': 67, 'videos': 66, 'see': 65, 'good': 64, 'thank': 63, 'u': 62, 'really': 60, '2': 58, 'one': 58, 'thanks': 57, 'go': 57, 'us': 55, 'could': 53, 'old': 53, 'time': 53, 'help': 52, 'much': 52, 'everyone': 51, 'world': 50, 'called': 49, 'eminem': 49, 'visit': 49, 'want': 48, 'song\\ufeff': 47, 'thumbs': 47, 'billion': 46, 'give': 45, 'perry': 45, 'free': 43, 'songs': 43, 'still': 41, 'mixtape': 41, 'today': 40, 'watch': 40, 'share': 40, 'way': 39, 'chance': 39, 'playlist': 38, 'take': 38, 'website': 37, '1': 37, 'working': 36, 'moneygqcom': 36, 'rapper': 36, 'home': 36, 'making': 36, 'online': 35, 'year': 34, 'back': 34, 'watching': 34, 'shakira': 33, 'zonepacom': 33, 'first': 33, 'nice': 33, 'come': 33, 'also': 32, 'na': 32, 'think': 32, 'awesome': 32, 'covers': 32, 'start': 31, 'got': 31, 'hi': 31, 'month': 31, 'years': 31, 'subscribers': 31, 'look': 30, 'pray': 30, 'follow': 30, 'rihanna': 29, 'life': 29, 'appreciate': 29, '3': 29, 'per': 28, 'dream': 28, 'it\\ufeff': 27, '3000': 27, 'getting': 27, 'rap': 27, 'hear': 27, 'real': 26, 'click': 26, 'extraordinary': 26, 'read': 26, 'comments': 25, 'even': 25, 'great': 25, 'beautiful': 24, 'need': 24, 'made': 24, 'd\\ufeff': 24, 'ill': 24, 'listen': 24, 'million': 24, 'started': 24, 'ever': 24, 'cool': 24, 'day': 23, 'waka': 23, 'many': 22, 'hello': 22, 'party': 21, '2015': 21, 'every': 21, 'views\\ufeff': 21, 'sorry': 21, 'live': 20, 'dance': 20, 'plz': 20, 'channel\\ufeff': 20, 'hate': 20, 'girl': 20, 'wow': 20, 'remix': 20, 'right': 20, 'everyday': 20, 'wont': 20, 'reading': 19, 'funny': 19, 'support': 19, 'heard': 19, '3\\ufeff': 19, 'facebook': 19, 'going': 19, 'wan': 19, '5': 19, 'anyone': 19, 'guy': 18, 'mean': 18, 'roar': 18, 'shit': 18, 'page': 18, 'sub': 18, 'never': 18, 'spam': 18, 'work': 17, 'paid': 17, 'vote': 17, 'lot': 17, 'style': 17, 'you\\ufeff': 17, 'fans': 17, 'hope': 17, 'ive': 17, 'gangnam': 17, 'fucking': 16, 'hard': 16, 'believe': 16, 'god': 16, 'leave': 16, 'cant': 16, 'mother': 16, 'subscribe\\ufeff': 16, 'psy': 16, 'part': 16, 'cover': 16, '100': 16, 'hit': 16, 'singer': 16, 'nothing': 15, '4': 15, 'rock': 15, 'hot': 15, 'omg': 15, 'reach': 15, 'youre': 15, 'better': 14, 'regret': 14, 'lol': 14, 'simple': 14, 'view': 14, 'megan': 14, 'stop': 14, 'link': 14, 'tell': 14, 'maybe': 14, 'likes': 14, 'name': 14, '2015\\ufeff': 14, 'probably': 14, 'type': 14, 'amazing': 13, 'person': 13, 'gets': 13, 'queen': 13, 'girls': 13, 'theres': 13, 'gon': 13, 'young': 13, 'makes': 13, 'big': 13, 'rand': 13, 'little': 13, '15': 13, 'trying': 13, 'successful': 13, 'xd\\ufeff': 12, 'twitter': 12, 'found': 12, 'almost': 12, 'google': 12, 'thing': 12, 'moment': 12, 'enjoy': 12, 'dope': 12, 'put': 12, 'seconds': 12, 'boy': 12, 'fuck': 12, 'lyrics': 12, '7': 12, 'sexy': 12, 'miss': 12, 'others': 12, 'lie': 12, 'isnt': 12, 'remember': 12, 'voice': 12, 'ago': 11, 'join': 11, 'me\\ufeff': 11, 'tiger': 11, 'attention': 11, 'friends': 11, 'video\\ufeff': 11, 'shes': 11, 'shakira\\ufeff': 11, 'gift': 11, 'came': 11, 'ever\\ufeff': 11, 'download': 11, 'thats': 11, 'crazy': 11, 'soon': 11, 'advertise': 11, 'understand': 11, 'true': 11, '♥': 11, 'popular': 11, 'next': 11, 'improve': 11, 'please\\ufeff': 11, 'keep': 10, 'vincent': 10, 'lol\\ufeff': 10, 'musician': 10, 'comes': 10, 'win': 10, 'perfect': 10, 'site': 10, 'birthday': 10, 'someone': 10, 'play': 10, 'lets': 10, 'coming': 10, 'lots': 10, 'com': 10, 'wanted': 10, 'top': 10, 'already': 10, 'always': 10, '4netjobscom': 10, 'post': 10, 'artist': 10, 'original': 10, 'actually': 10, 'earth': 9, '4000': 9, 'bad': 9, 'mixtapecheck': 9, 'press': 9, 'man': 9, 'done': 9, 'women': 9, 'l': 9, 'favorite': 9, 'don’t': 9, 'good\\ufeff': 9, 'holy': 9, 'pour': 9, 'feel': 9, 'much\\ufeff': 9, 'buy': 9, 'lmfao': 9, 'sing': 9, 'football': 9, 'something': 9, 'promise': 9, 'latest': 9, 'charlie': 9, 'doesnt': 9, 'firepacom': 9, 'b': 9, 'say': 9, 'social': 9, 'africa': 9, 'miley': 9, 'phenomenallyricshere': 9, 'yall': 9, 'pretty': 8, 'cyrus': 8, 'i’m': 8, '10': 8, 'viewed': 8, 'subscription': 8, 'around': 8, 'half': 8, 'skills': 8, 'find': 8, 'search': 8, 'record': 8, 'lake': 8, 'whole': 8, 'awesome\\ufeff': 8, 'must': 8, 'things': 8, 'fox': 8, 'may': 8, 'track': 8, 'become': 8, 'well': 8, 'n': 8, 'stupid': 8, 'thumb': 8, 'cup': 8, 'decent': 8, 'mind': 8, 'happy': 8, 'earn': 8, 'appreciated': 8, 'loves': 8, 'looks': 8, 'away': 8, 'fast': 8, 'like\\ufeff': 8, 'left': 8, 'youll': 8, 'watched': 8, 'subs': 8, 'fan': 8, '25': 8, 'media': 8, '17': 7, 'kind': 7, 'bless': 7, 'boys': 7, 'itunes': 7, 'cute': 7, 'paul': 7, 'game': 7, 'forward': 7, 'minutes': 7, 'pop': 7, 'fb': 7, 'step': 7, 'without': 7, 'dreaming': 7, 'didnt': 7, 'perry\\ufeff': 7, 'might': 7, 'school': 7, 'months': 7, 'second': 7, 'book': 7, 'hes': 7, 'fighting': 7, 'days': 7, 'white': 7, 'least': 7, 'famous': 7, 'cool\\ufeff': 7, 'super': 7, 'far': 7, 'button': 7, 'else': 7, 'yo': 7, 'piano': 7, 'easily': 7, 'listening': 7, '6': 7, 'takes': 7, 'advertisements': 7, '200': 7, 'last': 7, 'cards': 7, 'vines': 6, 'vids': 6, 'world\\ufeff': 6, 'daily': 6, 'let': 6, 'industry': 6, 'opinion': 6, 'water': 6, 'hair': 6, 'stuff': 6, 'past': 6, 'men': 6, 'instagram': 6, '2013': 6, 'soccer': 6, 'following': 6, 'completely': 6, 'ft': 6, 'p\\ufeff': 6, '5000': 6, 'peace': 6, 'loved': 6, '♥\\ufeff': 6, 'millions': 6, 'wish': 6, 'special': 6, 'absolutely': 6, 'range': 6, 'dante': 6, '2014': 6, 'goal': 6, 'mom': 6, 'everything': 6, 'billion\\ufeff': 6, 'sites': 6, 'time\\ufeff': 6, 'small': 6, 'donate': 6, 'bieber': 6, 'fight': 6, 'this\\ufeff': 6, 'ass': 6, 'adam': 6, 'baby': 6, 'fox\\ufeff': 6, 'saw': 6, 'out\\ufeff': 6, 'drop': 6, 'app': 6, 'sign': 6, 'constitution': 6, 'try': 6, 'httpwwwermailpldolaczv3veygin': 6, 'shuffling': 6, 'house': 6, 'constructive': 6, 'lost\\ufeff': 6, 'checking': 6, 'took': 6, 'em': 6, 'back\\ufeff': 6, 'sure': 6, 'experience': 6, 'sad': 6, 'face': 6, 'official': 6, 'monthly': 6, '강남스타일': 6, 'imagine': 6, '8': 6, 'friend': 6, 'riled': 6, 'account': 5, 'korean': 5, 'place': 5, 'jobs': 5, 'album': 5, 'ur': 5, 'weird': 5, 'producer': 5, 'whos': 5, 'fun': 5, 'kid': 5, 'youd': 5, 'fame': 5, 'immediately': 5, 'dollars': 5, 'wide': 5, 'sounds': 5, 'forget': 5, 'mess': 5, 'card': 5, 'laugh': 5, 'high': 5, 'feedback': 5, 'la': 5, 'hour': 5, 'nice\\ufeff': 5, 'stand': 5, 'knows': 5, 'case': 5, 'love\\ufeff': 5, 'times': 5, 'e': 5, 'dick': 5, 'shit\\ufeff': 5, 'family': 5, 'black': 5, 'begin': 5, 'upto': 5, 'word': 5, 'band': 5, 'pass': 5, 'message': 5, 'register': 5, 'bit': 5, 'beats': 5, 'used': 5, 'write': 5, '4th': 5, 'saying': 5, 'thanks\\ufeff': 5, 'waka\\ufeff': 5, 'nation': 5, '16': 5, 'version': 5, 'uk': 5, 'thousands': 5, 'spamming': 5, 'nearly': 5, 'single': 5, 'income…only': 5, 'since': 5, 'means': 5, 'shuffle': 5, 'quite': 5, 'i’ve': 5, 'youtubers': 5, '35': 5, 'youtuber': 5, 'reason': 5, 'jungle': 5, 'robot': 5, 'currently': 5, 'news': 5, 'mv': 5, 'katty': 5, 'plus': 5, 'mes': 5, 'shuffle\\ufeff': 5, 'said': 5, 'comfort': 5, 'prove': 5, 'criticism': 5, 'posts': 5, 'yeah': 5, 'singing': 5, 'easy': 5, 'tube': 5, 'named': 5, 'hiring': 5, 'end': 5, '50': 5, 'suscribe': 5, 'eminem\\ufeff': 5, 'prior': 5, 'music\\ufeff': 5, 'pay': 5, 'da': 5, 'haha': 5, 'canal': 5, 'christ': 5, 'facebooktwitter': 5, 'close': 5, 'job': 5, 'vid': 5, 'justin': 4, 'mi': 4, 'party\\ufeff': 4, 'it’s': 4, 'memory': 4, 'instrumental': 4, 'space': 4, 'uploading': 4, 'secret': 4, 'picture': 4, 'subscribed': 4, 'living': 4, 'liked': 4, 'r': 4, 'favourite': 4, 'code': 4, '19': 4, 'hell': 4, 'internet': 4, 'hits': 4, 'iphone': 4, 'female': 4, 'old\\ufeff': 4, 'wasting': 4, 'idiots': 4, 'gaming': 4, 'king': 4, 'id': 4, 'english': 4, 'enough': 4, 'head': 4, 'vanstone': 4, '20': 4, 'change': 4, '14': 4, 'network': 4, 'spread': 4, 'amazon': 4, 'taylor': 4, 'son': 4, 'damn': 4, 'dress': 4, 'fear': 4, 'exposure': 4, 'agree': 4, 'yesterday': 4, 'lmfao\\ufeff': 4, 'anthem': 4, 'songs\\ufeff': 4, 'mine': 4, 'kids': 4, '500': 4, 'amount': 4, 'ask': 4, 'jesus': 4, 'welcome': 4, 'songwriter': 4, 'loving': 4, 'sound': 4, 'town': 4, 'christmas': 4, 'columbus': 4, 'spare': 4, 'passed': 4, 'minecraft': 4, '❤️': 4, 'income': 4, 'bonus': 4, 'seriously': 4, '0': 4, 'favour': 4, 'piece': 4, 'wants': 4, 'choice': 4, 'helping': 4, 'hahahahah': 4, 'add': 4, 'coffee': 4, 'wouldnt': 4, 'h': 4, 'seen': 4, 'whats': 4, 'two': 4, 'lyrical': 4, 'gay': 4, 'country': 4, 'lost': 4, 'potential': 4, '1000000000': 4, 'pleas': 4, 'dreams': 4, 'works': 4, 'animal': 4, 'clip': 4, 'oh': 4, 'surgery': 4, 'epic': 4, 'champion': 4, 'company': 4, 'alone': 4, 'apple': 4, 'sharing': 4, 'cause': 4, 'upload': 4, 'web': 4, 'planet': 4, 'needed': 4, 'lie\\ufeff': 4, 'self': 4, 'african': 4, '2billion': 4, 'tried': 4, 'master': 4, 'told': 4, 'dislike': 4, 'pls': 4, '1\\ufeff': 4, 'gorgeous': 4, 'makeup': 4, 'looking': 4, 'rapping': 4, 'reviews': 4, 'different': 4, 'videos\\ufeff': 4, 'shake': 4, 'httpyoutubecevxzvsjlk8\\ufeff': 4, 'apps': 4, 'minute': 4, 'talent': 4, 'use': 4, 'photo': 4, 'sneakiestg': 4, 'bookmakers': 3, 'acting': 3, 'melody': 3, 'meh': 3, 'innocent': 3, 'smart': 3, 'sooooo': 3, 'wow\\ufeff': 3, 'adfly': 3, 'camera': 3, '87': 3, '▬▬▬▬▬▬▬▬▬▬ஜ۩۞۩ஜ▬▬▬▬▬▬▬▬': 3, 'belgium': 3, 'paranormal': 3, 'spending': 3, 'dj': 3, 'reminds': 3, 'sick': 3, 'whitney': 3, 'swear': 3, 'bitch': 3, 'et': 3, 'age': 3, 'guysi': 3, 'wake': 3, 'clothes': 3, 'catchy': 3, 'freedom': 3, 'hours': 3, 'brand': 3, 'deserve': 3, 'enter': 3, 'surveys': 3, 'hood': 3, 'beat': 3, 'email': 3, 'evil': 3, 'speech': 3, 'privacy': 3, 'up\\ufeff': 3, 'passionate': 3, 'ago\\ufeff': 3, 'alive': 3, 'stars': 3, 'tv': 3, 'talk': 3, 'korea': 3, 'finally': 3, 'student': 3, '9': 3, 'piss': 3, 'talented': 3, 'glad': 3, 'movement': 3, 'model': 3, 'juno': 3, 'gave': 3, 'feed': 3, 'bennett': 3, 'liking': 3, 'hand': 3, 'human': 3, 'care': 3, 'content': 3, 'cmon': 3, 'wallet': 3, 'happen': 3, 'turned': 3, 'newest': 3, 'born': 3, 'bring': 3, 'speaks': 3, 'brings': 3, 'honest': 3, 'yet': 3, 'soo': 3, 'comments\\ufeff': 3, 'elephant': 3, 'httpyoutube9bzkp7q19f0\\ufeff': 3, 'call': 3, 'act': 3, 'stuck': 3, 'dumb': 3, 'games': 3, 'memories\\ufeff': 3, 'oppa': 3, 'night': 3, 'history': 3, 'business': 3, 'protect': 3, 'fashion': 3, 'un': 3, 'words': 3, 'gives': 3, 'bout': 3, 'jackson': 3, 'hilarious': 3, 'to\\ufeff': 3, 'edm': 3, 'chanel': 3, 'sucks': 3, 'realized': 3, 'suck': 3, 'truethank': 3, 'bad\\ufeff': 3, 'kinda': 3, 'team': 3, '11': 3, 'closer': 3, 'american': 3, 'dancing': 3, 'fifa': 3, 'animals': 3, 'learned': 3, 'insane': 3, 'ways': 3, 'everybody': 3, 'waste': 3, 'ones': 3, 'anymore': 3, 'shares': 3, 'active': 3, 'min': 3, 'learn': 3, 'annoying': 3, 'huge': 3, 'katys': 3, 'extra': 3, 'equipment': 3, 'w': 3, 'sister': 3, 'truth': 3, 'including': 3, 'feeling': 3, 'lexis': 3, 'do\\ufeff': 3, 'verses': 3, 'beauty': 3, 'honestly': 3, 'shame': 3, 'illuminati': 3, 'dad': 3, 'ladies': 3, 'better\\ufeff': 3, 'rocks': 3, 'singers': 3, 'now\\ufeff': 3, 'pro': 3, 'skip': 3, '32gb': 3, 'lyrics\\ufeff': 3, 'loss': 3, 'matters': 3, 'project': 3, 'chillpal': 3, 'guess': 3, 'stay': 3, 'bass': 3, 'swagfriends': 3, '365': 3, 'later': 3, 'mix': 3, 'katycats': 3, 'smile': 3, 'meet': 3, 'tomorrow': 3, 'another': 3, 'style\\ufeff': 3, 'password': 3, 'c': 3, 'lauren': 3, '60': 3, 'simply': 3, 'off\\ufeff': 3, 'quality': 3, 'omg\\ufeff': 3, 'replay': 3, 'store': 3, 'finish': 3, 'senator': 3, 'wave': 3, 'subscribing': 3, 'day\\ufeff': 3, '666': 3, 'xxx\\ufeff': 3, 'uploaded': 3, 'sit': 3, '8bit': 3, 'lyric': 3, 'ociramma': 3, 'together': 3, 'bored': 3, 'die': 3, 'highly': 3, '600': 3, 'long': 3, 'order': 3, 'eminems': 3, 'dubstep': 3, 'toilet': 3, 'show': 3, 'population': 3, 'beautiful\\ufeff': 3, 'animals\\ufeff': 3, 'spent': 3, 'checked': 3, 'savior': 3, 'woman': 3, 'swift': 3, '1000000': 3, 'number': 3, 'meaning': 3, 'okay': 3, 'deazy99': 3, 'morning': 3, 'possible': 3, 'guitar': 3, 'power': 3, 'fire': 3, 'xd': 3, 'taking': 3, 'complete': 3, 'limit': 3, 'dedicated': 3, 'tumor': 3, 'anything': 3, 'truly': 3, 'wasnt': 3, 'secrets': 3, 'houronly': 3, 'reason\\ufeff': 3, 'one\\ufeff': 3, 'open': 3, 'thought': 3, 'goals': 3, 'mississippi': 3, 'kld3y': 3, '30': 3, 'unique': 3, 'anybody': 3, 'tax': 3, 'v': 3, 'random': 2, 'speaking': 2, 'gone': 2, 'less': 2, 'namepicture': 2, 'alot': 2, 'commenting': 2, 'virus': 2, 'sty': 2, 'dribbleproshot': 2, 'profile': 2, 'ipad': 2, 'fave': 2, 'group': 2, 'scale': 2, 'behind': 2, 'amazing\\ufeff': 2, 'straight': 2, 'boyfriend': 2, 'harbor': 2, 'written': 2, 'french': 2, 'ouf': 2, 'onedont': 2, 'adele': 2, 'missing': 2, 'sell': 2, 'fbyou': 2, 'ema': 2, 'should\\ufeff': 2, 'continue': 2, 'quid': 2, 'hyperurlcok6a5xt\\ufeff': 2, 'worthless': 2, 'mute': 2, 'whatever': 2, 'thanx': 2, 'heart': 2, 'discount': 2, 'pictures': 2, 'commit': 2, 'racist': 2, 'virgins': 2, 'lova': 2, 'lovers': 2, 'rock\\ufeff': 2, '105': 2, 'price390': 2, 'sky': 2, 'south': 2, 'eating': 2, 'reflective': 2, 'brain': 2, 'future': 2, 'sucking': 2, 'risk': 2, 'chinese': 2, 'listenersupported': 2, '1000': 2, 'box': 2, 'fuckin': 2, 'pisses': 2, 'quiet\\ufeff': 2, 'jelly': 2, '5s': 2, 'saturday': 2, 'america\\ufeff': 2, 'island': 2, 'wrecking': 2, 'fablife': 2, 'week': 2, 'reiltas': 2, 'types': 2, 'splashes': 2, 'tvcmcadavidweebly': 2, 'desire': 2, 'willing': 2, 'lively': 2, 'relate': 2, 'astauand': 2, 'community': 2, 'spourmo': 2, 'push': 2, 'bigger': 2, 'released': 2, 'advance': 2, 'httpswwwtsucoslema13': 2, 'xoxo': 2, 'zombie': 2, 'mv\\ufeff': 2, '23': 2, 'wagers': 2, 'contact': 2, 'parody': 2, 'lame': 2, 'multiple': 2, 'drums': 2, 'auditioning': 2, 'ad': 2, 'leads': 2, 'nsa': 2, 'singer\\ufeff': 2, 'invest': 2, 'mtv': 2, 'child': 2, 'giving': 2, 'daneja': 2, 'httpyoutubecevxzvsjlk8': 2, 'brother': 2, 'victorious': 2, 'tracks': 2, 'exact': 2, '2nd': 2, 'october': 2, 'research': 2, 'sec': 2, 'mee': 2, 'entertainment': 2, 'congress': 2, 'soon\\ufeff': 2, 'visiting': 2, 'tips': 2, '2011': 2, 'finding': 2, 'pink': 2, 'dude': 2, 'peoples': 2, 'metal': 2, 'ytma': 2, 'idol': 2, 'rap\\ufeff': 2, 'shot': 2, 'show\\ufeff': 2, 'god\\ufeff': 2, 'hollywood': 2, 'penis': 2, 'passion': 2, 'raw': 2, 'her\\ufeff': 2, 'monkey': 2, 'supermariologan': 2, 'everybody\\ufeff': 2, 'hay': 2, 'teenage': 2, 'fiddle': 2, 'signed': 2, 'wtf': 2, 'deep': 2, 'brazil': 2, 'yeah\\ufeff': 2, 'tops': 2, 'core': 2, 'broken': 2, 'freaking': 2, 'singlewave': 2, 'earth\\ufeff': 2, 'event': 2, 'founded': 2, 'watchv5tu9gn1l310': 2, 'information': 2, 'response': 2, 'encouraging': 2, 'useless': 2, 'tryna': 2, 'moderock': 2, '18': 2, 'ignore': 2, 'musiclyrics': 2, 'bringing': 2, 'greatest': 2, '♥♥♥♥': 2, 'happening\\ufeff': 2, 'rihana': 2, 'trop': 2, 'awsome\\ufeff': 2, 'hoppa': 2, 'spanish': 2, 'publishing': 2, 'blows': 2, 'hack': 2, 'perrys': 2, 'ahhh': 2, 'feminist': 2, 'joking': 2, 'ebay': 2, 'fantastic': 2, 'hyuck': 2, 'sad\\ufeff': 2, 'huh': 2, 'vídeo': 2, 'americans': 2, '25000': 2, 'weve': 2, 'subs\\ufeff': 2, 'fantastic\\ufeff': 2, 'people\\ufeff': 2, 'disguise': 2, 'performance': 2, 'is\\ufeff': 2, 'garbage': 2, 'contest': 2, 'brought': 2, 'summer': 2, 'fav\\ufeff': 2, 'syndrome': 2, 'believing': 2, 'httproverebaycomrover1710534811925501icepff31pub5575096797toolid10001campid5337555197customidbogdangrigoreipnpsmainicepvectorid229508kwid902099mtid824kwlgcheck': 2, 'hahah': 2, 'right\\ufeff': 2, 'fyi': 2, 'michael': 2, 'nobody': 2, 'claster': 2, 'galaxy': 2, 'humanity': 2, 'lana': 2, 'por': 2, 'has\\ufeff': 2, 'wrong': 2, 'versace': 2, 'ex': 2, 'farrell': 2, 'dot': 2, 'full': 2, 'fly': 2, '17yr': 2, 'nokia': 2, 'rihanna\\ufeff': 2, 'public': 2, 'eyes\\ufeff': 2, 'praying': 2, 'promote': 2, 'gotten': 2, 'exactly': 2, 'abomination': 2, 'firework': 2, 'remixes': 2, 'resort': 2, 'beating': 2, '2004': 2, 'answer': 2, 'soundsofsunday': 2, 'elevator': 2, '46': 2, 'shakifans': 2, 'here\\ufeff': 2, 'car': 2, 'trailer': 2, 'friend\\ufeff': 2, 'wazzasoft': 2, 'stil': 2, 'axiomatic': 2, 'line': 2, 'gun': 2, 'keeps': 2, 'baby\\ufeff': 2, 'tshirts': 2, 'wife': 2, 'clean': 2, 'styletextdecorationnoneborder0padding0margin0': 2, 'rappers': 2, 'mabey': 2, 'great\\ufeff': 2, 'ebayaimg': 2, 'watchin': 2, 'gta': 2, 'wood': 2, 'href': 2, 'knowledge': 2, 'shufflin\\ufeff': 2, 'reply': 2, 'muslims': 2, 'death': 2, '2014\\ufeff': 2, 'bands': 2, 'seems': 2, 'anymore\\ufeff': 2, 'count': 2, 'crap': 2, 'movie\\ufeff': 2, 'ya': 2, 'within': 2, 'britishs': 2, 'j': 2, 'viewers': 2, 'haters': 2, 'dudes': 2, 'cuz': 2, 'patriot': 2, 'ok': 2, 'shared': 2, 'targetself': 2, 'xx\\ufeff': 2, 'heaven': 2, 'knew': 2, 'salt': 2, 'niko': 2, 'beutiful': 2, 'httpsplaygooglecomstoreappsdetailsidcomrapidfacebookmagicdroid\\ufeff': 2, 'channels': 2, 'ball': 2, 'lil': 2, 'y\\ufeff': 2, 'worldwide': 2, 'il': 2, 'uncle': 2, 'dragons': 2, 'killtheclockhd': 2, 'kill': 2, 'alcoholic': 2, 'cares': 2, 'instead': 2, 'poor': 2, 'access': 2, 'survival': 2, 'recording': 2, 'expensive': 2, 'cry': 2, 'dislikes': 2, 'keyboards': 2, 'fuego': 2, 'fuck\\ufeff': 2, 'thx\\ufeff': 2, 'acoustic': 2, 'subscribers\\ufeff': 2, 'p': 2, 'sooo': 2, 'ching': 2, 'comprehend': 2, 'shitty': 2, 'hop': 2, 'worth': 2, 'opportunity': 2, 'talking': 2, 'shout': 2, 'share\\ufeff': 2, 'yo\\ufeff': 2, 'arive': 2, 'viral': 2, 'forgot': 2, 'beware': 2, 'minecraft\\ufeff': 2, '😢\\ufeff': 2, 'definitely': 2, 'wellcome': 2, 'bilion': 2, 'countless': 2, 'warning': 2, 'nails': 2, 'oreo': 2, 'player': 2, 'animation': 2, 'ploosnar': 2, 'hacked': 2, 'sex': 2, 'monster': 2, 'senate': 2, 'swag': 2, 'amazed': 2, 'guys\\ufeff': 2, '200k': 2, 'featuring': 2, 'mates': 2, 'curse': 2, 'facebookpasshack2013blogspotcom': 2, 'hoppler': 2, '21': 2, 'trust': 2, 'male': 2, 'designs': 2, 'posting': 2, 'foward': 2, 'competition': 2, 'subscriber': 2, 'youtubea\\ufeff': 2, 'northland': 2, 'rage': 2, 'hip': 2, 'vous': 2, 'able': 2, 'spirits': 2, 'wear': 2, 'remeber': 2, 'society': 2, 'four': 2, 'ambition': 2, 'youtubesi': 2, 'transformation': 2, 'katy\\ufeff': 2, 'goes': 2, 'floor': 2, 'killed': 2, 'pepelexa': 2, 'movie': 2, 'december': 2, 'dear': 2, 'kitten': 2, '3m': 2, 'sleep': 2, 'android': 2, 'skin': 2, 'cook': 2, 'name\\ufeff': 2, 'psn': 2, 'build': 2, 'says': 2, 'delightful': 2, 'tsu': 2, 'drugs': 2, 'ice': 2, 'abusive': 2, 'brothers': 2, 'filibuster': 2, 'memories': 2, 'went': 2, 'audio': 2, 'andrew': 2, 'sins': 2, 'technique': 2, 'notorious': 2, 'cypher': 2, 'rapid': 2, 'macbook': 2, 'viewer': 2, 'wrote': 2, 'round': 2, 'protest': 2, 'betfair': 2, 'discrimination': 2, 'rocks\\ufeff': 2, 'renewal': 2, '5million': 2, 'roll': 2, 'sucks\\ufeff': 2, 'jim': 2, 'animator': 2, 'concert': 2, 'celebrity': 2, 'drunk': 2, 'notice': 2, 'inspire': 2, 'smoking': 2, 'behold': 2, 'creator': 2, 'train': 2, 'whose': 2, 'martin': 2, 'gained': 2, 'info': 2, 'keithlinscotts': 2, 'wonder': 2, 'dis': 2, 'companions': 2, 'sony': 2, 'largest': 2, 's4': 2, 'spying': 2, 'ideas': 2, 'guy\\ufeff': 2, 'rate': 2, 'money\\ufeff': 2, 'known': 2, 'kpopcitynet': 2, 'del': 2, 'collection': 2, 'hiphop': 2, 'forever': 2, 'plane': 2, 'suck\\ufeff': 2, 'feandra': 2, 'verse': 2, 'trash': 2, 'postponing': 2, 'nonsense': 2, 'bottom': 2, '13': 2, 'kitty': 2, 'muzik': 2, 'three': 2, 'ig': 2, 'usually': 2, 'codes': 2, 'mileycelebnewscouk': 2, 'years\\ufeff': 2, 'hating': 2, 'deals': 2, 'decio': 2, 'johnny': 2, 'that\\ufeff': 2, 'greatly': 2, 'ready': 2, 'sasaroo': 2, 'happen\\ufeff': 2, 'smh\\ufeff': 2, 'section': 2, 'src': 2, 'chorenn': 2, 'peaceful': 2, '2010': 2, 'amendment': 2, 'senators': 2, 'lovely': 2, 'arrowgance': 2, 'upcoming': 2, 'leeched': 2, '1337': 2, 'running': 2, 'rey': 2, 'interested': 2, 'blast': 2, 'copied': 2, 'rights': 2, 'certain': 2, 'shuffles': 2, 'ps4': 2, 'tan': 2, 'buys': 2, 'oldchattk': 2, 'x': 2, '1manband': 2, 'partying': 2, 'suffering': 2, 'wind': 2, 'decided': 2, 'hairstyles': 2, '▌▌▌▌▌▌▌▌▌▌▌▌▌▌▌▌▌▌▌▌▌▌▌▌▌▌▌▌▌▌▌▌▌▌▌▌▌▌▌▌▌▌▌▌▌▌▌▌▌▌▌▌▌▌▌▌': 2, 'especially': 2, 'criminals': 2, 'utter': 2, 'difference': 2, 'tonight': 2, 'five': 2, 'incredible': 2, 'silly': 2, 'salon': 2, 'macklemore': 2, 'survive': 2, 'independent': 2, 'ends': 2, 'growing': 2, 'drake': 2, 'wasn’t': 1, 'dealing': 1, 'watchvdtqcftr1fac': 1, 'poeple': 1, 'bs\\ufeff': 1, 'salvation': 1, 'entertaining': 1, 'mileysecretvideocouk': 1, 'whipe': 1, 'bitly1bsefqe': 1, 'jawan': 1, 'burned': 1, 'titled': 1, 'comwatchvtq046fuau00\\ufeff': 1, 'capitalized': 1, '1884034783': 1, 'them\\ufeff': 1, 'pointers': 1, 'difficult': 1, 'topic': 1, 'canibus': 1, 'misty': 1, 'irritating': 1, 'itsooooo': 1, 'ganga': 1, '2017': 1, 'httpswwwfacebookcomgroups100877300245414\\ufeff': 1, 'songhas': 1, 'moon': 1, 'me…but': 1, 'muchshakira': 1, 'abbas20130926t221545476000fuck': 1, 'totally': 1, 'tightttti': 1, '16gb': 1, 'umichael': 1, 'noise': 1, 'gamezz': 1, 'anywon': 1, 'musicwe': 1, 'subcribe': 1, 'channel🚨🚨🚨🚨🚨🚨🚨🚨🚨🚨🚨🚨🚨🚨🚨🚨gracias💋🚨🚨🚨🚨🚨🚨🚨🚨🚨🚨🚨\\ufeff': 1, 'autotuned\\ufeff': 1, 'bbut': 1, 'outfit': 1, 'russia': 1, 'cece': 1, 'suscribite': 1, 'frequent': 1, 'management': 1, 'submits': 1, 'chiptunes': 1, 'authority': 1, 'want\\ufeff': 1, 'youtubecodytolleson': 1, 'derives': 1, 'seeing': 1, 'wahoo': 1, 'symbolic': 1, 'gordon': 1, 'certification': 1, 'superbowl': 1, 'csgo': 1, 'httpimage2youru480511340491': 1, 'showcase': 1, 'somebody': 1, 'onece': 1, 'bulgaria\\ufeff': 1, 'nude': 1, 'jam\\ufeff': 1, 'disabled': 1, 'drum': 1, 'dragonsand': 1, 'annoyed': 1, 'fool': 1, 'gen': 1, 'songstill': 1, 'wager': 1, 'vegetables': 1, 'httpadfly': 1, 'naperone': 1, 'yea\\ufeff': 1, 'tricep': 1, 'period': 1, 'emphasis': 1, 'chills': 1, 'direction': 1, 'eh\\ufeff': 1, 'portugal': 1, 'viewsdark': 1, 'curly\\ufeff': 1, 'fbtwitterg': 1, '1k': 1, 'melbourne': 1, 'shakiria\\ufeff': 1, 'canvas': 1, 'yoffa': 1, 'goose': 1, 'bf4': 1, 'fright': 1, 'crestboot': 1, 'religious': 1, 'doh': 1, 'disliked': 1, 'shirts': 1, 'collaboration': 1, 'x\\ufeff': 1, 'shy': 1, 'led': 1, 'httpssoundcloudcomartady': 1, 'fashionable': 1, 'prioritize': 1, 'serov': 1, 'insanely': 1, '░░░░░▀█▄░░░░': 1, 'respond': 1, '800000000': 1, 'gooooood\\ufeff': 1, 'loool': 1, 'touch': 1, 'notes': 1, 'jesses': 1, 'conveying': 1, 'lives': 1, 'nite': 1, 'statistics': 1, 'channelthanks\\ufeff': 1, 'filming': 1, 'asked': 1, 'ｄａｍｎ': 1, 'saved': 1, 'girly': 1, 'older': 1, 'exposes': 1, 'cutie': 1, 'slimy': 1, 'uncovered': 1, 'evidence': 1, '😼👍😏': 1, 'httpenprothomalocomsportnews53331zimbabweateamdueindhakawednesday': 1, 'audit': 1, 'curled': 1, 'wank\\ufeff': 1, 'omniscient': 1, 'suit': 1, 'lazy': 1, 'quickest': 1, 'sweet': 1, '2124821694': 1, 'count\\ufeff': 1, 'wiews': 1, 'operating': 1, 'asia': 1, 'mighty': 1, 'sure\\ufeff': 1, 'cheat': 1, 'domestic': 1, 'rised': 1, 'comic': 1, 'war': 1, 'sassy': 1, 'files': 1, 'httpthepiratebaysetorrent10626835theexpendables32014dvdscrxviddingo': 1, 'httpssoundcloudcomsoundhaseedmhousemix2\\ufeff': 1, 'spammers': 1, '00': 1, 'daughters': 1, 'vevo': 1, 'acquire': 1, 'jus': 1, 'before\\ufeff': 1, 'hyuna': 1, 'olds': 1, 'screw': 1, 'task': 1, 'ittttttttttttt\\ufeff': 1, 'tendency': 1, 'featured': 1, 'itttttttt': 1, 'test': 1, 'funnytortspics': 1, 'jaesuk': 1, 'fact': 1, 'hardcore\\ufeff': 1, 'loveparty': 1, '11000': 1, 'lhudygirlamaya': 1, 'bite': 1, 'vena': 1, 'across': 1, 'beast': 1, 'venezuela': 1, 'homies': 1, 'thisany': 1, 'httpswwwfacebookcompagesc389cc3b8lceb5almaceb7bceb5t302703146601369': 1, 'httpsmfacebookcomstoryphpstoryfbid764484966942313id754989901225153refstream': 1, 'true\\ufeff': 1, 'httpwwwrtbfbetvemissiondetailthevoicebelgiquetouteslesauditionsauditiondetailemissionid3873id342': 1, 'blue': 1, 'sam': 1, 'bitlymakemoneywithoutadroid': 1, 'remind': 1, 'lights\\ufeff': 1, 'ps': 1, 'comedy': 1, 'sweat': 1, 'aye': 1, 'using': 1, 'experiments': 1, 'idiotic': 1, 'apostles': 1, 'httpshhortcomarjt2ufxhxc\\ufeff': 1, 'heck': 1, 'spreading\\ufeff': 1, 'besloor': 1, 'nuts\\ufeff': 1, 'musicwell': 1, '12': 1, 'tayara': 1, 'sturdy': 1, 'westerners': 1, 'alex': 1, 'pleaase': 1, 'itdoing': 1, 'thoughts\\ufeff': 1, 'generation': 1, 'fucking\\ufeff': 1, 'johackle': 1, 'congrats': 1, 'playing': 1, 'agree\\ufeff': 1, 'lucks\\ufeff': 1, 'httpsplusgooglecom112720997191206369631post\\ufeff': 1, 'strawberry': 1, 'smile\\ufeff': 1, 'httpwwwwetsealcommodelsearch15modelsearch15html\\ufeff': 1, 'plzz': 1, 'stereotype': 1, 'fredom': 1, 'worried': 1, 'movies': 1, 'composer': 1, 'youtubebut': 1, 'roared': 1, 'esteem': 1, 'tits\\ufeff': 1, 'arm\\ufeff': 1, 'beatboxing': 1, 'chorus': 1, 'windshield': 1, 'luck\\ufeff': 1, 'cheats': 1, 'together\\ufeff': 1, 'unspooked': 1, '90000000000000000000000000000000000000000000000000000000000000000000000000000000000000000000000000000000000000000000000000000000000000000000000000000000000000000000000000000000000000000000000000000000000000000000000000000000000000000000000000000000000000000000000000000000000000000000000000000000000000000000000000000000000000000000000000000000000000000': 1, 'wilsubscribe': 1, 'recentley': 1, 'raps': 1, 'nalpure': 1, 'koean': 1, 'sheldon': 1, 'df': 1, 'measure': 1, 'except': 1, 'juss': 1, 'egoistic': 1, 'pester': 1, 'daughter': 1, 'somewhere': 1, 'ah': 1, 'youtuberi': 1, 'saying\\ufeff': 1, 'single\\ufeff': 1, 'shakira❤❤❤❤\\ufeff': 1, 'charlieee': 1, 'witnesss': 1, 'excuse': 1, '░░░░░░▀█▄░░░': 1, 'ver': 1, 'sandernicolaysen2pleas': 1, 'lunden': 1, 'sisters': 1, 'chanel\\ufeff': 1, 'explicit': 1, 'succumbs': 1, 'language': 1, 'available': 1, '753': 1, 'httpspayhipcombotib': 1, 'cheers': 1, 'diagnosed': 1, 'favor': 1, 'prophetz\\ufeff': 1, 'tqvm\\ufeff': 1, 'subscrible': 1, 'votre': 1, 'videoi': 1, 'lands': 1, 'poster': 1, 'watchvxytcq5nzmua': 1, 'earning': 1, 'updated': 1, 'tunez': 1, 'celebration': 1, 'mê': 1, 'justien': 1, 'fullest': 1, 'kik': 1, 'pagee': 1, 'latinoamerica\\ufeff': 1, 'avoid': 1, 'mahogany': 1, 'letter': 1, 'treating': 1, 'fireball': 1, 'confessors': 1, 'noscript\\ufeff': 1, 'tuto': 1, 'therefore': 1, 'youtubedaaaaaaaaaaannng': 1, 'sinpad': 1, 'pushes': 1, 'saving': 1, 'idols': 1, 'awesoooome': 1, 'streamer': 1, 'iiiiiiiiiii': 1, 'you´re': 1, 'chaste': 1, 'httpswwwfacebookcomnyghdramafest2014photosa3336081201569731073741830327568907427561333607726823679type3theater': 1, 'httpsmegaconzehvjzkya5bgkg2iwphzohwaeuesrwnegqglabco7rw9wfx8hao\\ufeff': 1, 'miusic\\ufeff': 1, 'bigboss286\\ufeff': 1, 'righteousness': 1, 'toll': 1, 'detective': 1, 'httpimage2youru480511340523': 1, 'hottest': 1, 'notch': 1, 'gamestop': 1, 'amiable': 1, 'rocksshakiravevo\\ufeff': 1, 'feelz\\ufeff': 1, 'vanoss\\ufeff': 1, 'en\\ufeff': 1, 'spookinati░░░▌░▄▄▄▐▌▀▀▀▄░▐░░░▄▄░█░▀▀': 1, 'theme': 1, 'disappointed': 1, 'usl': 1, 'brutally': 1, 'alright': 1, 'subscribee': 1, 'subscriber\\ufeff': 1, 'airlines': 1, 'possibly': 1, 'bil': 1, 'cameraman\\ufeff': 1, 'httpswwwindiegogocomprojectsgimmedemmoneyz4robloxx8851222home\\ufeff': 1, 'definitley': 1, 'stereotyped': 1, 'dddd': 1, 'httpwwwavaazorgpopetitionyoutubecorporationfoxbroadcastingcompanyanularosstrikesnocanalnostalgiacxpzpgb': 1, 'vistazo': 1, 'perhaps': 1, 'mate': 1, 'pilot': 1, 'earthquake': 1, 'downs\\ufeff': 1, 'bitly14gkvdo': 1, 'towered': 1, 'watchvno9povz9oiqlistuultucdihsdei01by1ow7wuq\\ufeff': 1, '157': 1, 'birthday\\ufeff': 1, 'shady': 1, 'admit': 1, 'ferirama': 1, 'moves\\ufeff': 1, 'users': 1, 'earned': 1, 'audition': 1, 'daily\\ufeff': 1, 'refused': 1, '┗━━┓┃┃┏━┓┃┃┗━┛┃╋┃┃┃┃╋┗┓┏┛': 1, 'dick\\ufeff': 1, 'numberless': 1, 'spaces': 1, 'thailand♧\\ufeff': 1, 'ghost': 1, 'peach': 1, 'lucky': 1, 'cease': 1, 'launchpad': 1, 'justice': 1, 'sup': 1, 'break': 1, 'vi': 1, 'inside': 1, 'httpteespringcomtreechristmas\\ufeff': 1, 'montages': 1, 'sertave': 1, 'lulerain': 1, 'wwhore': 1, 'youtubecomuser36loseweight': 1, 'ever💜💜😢\\ufeff': 1, 'loads': 1, 'justins': 1, 'ol': 1, 'rewards': 1, 'clue': 1, 'yea': 1, 'cabelo': 1, 'looplab': 1, 'strategizes': 1, 'ear': 1, 'flaming': 1, 'dat': 1, 'lanta\\ufeff': 1, 'xxbb5tczhm39hvzd\\ufeff': 1, 'favorgracias': 1, 'instantly': 1, 'realtionship': 1, 'mine\\ufeff': 1, 'credit': 1, 'obtain': 1, 'conquerors': 1, 'professionally': 1, 'worries': 1, 'lv': 1, 'danced': 1, 'dated': 1, 'important': 1, 'songs😀😀😀😀😀😀😀❤️❤️❤️❤️❤️❤️❤️❤️💎💎💎💎💎💄💄💄💄💋💋💋💋\\ufeff': 1, 'sometime': 1, 'eggmode': 1, 'near': 1, 'x3333333333\\ufeff': 1, 'montagesninja': 1, '2124923004': 1, 'anime': 1, 'creating': 1, 'pivot': 1, 'skypekik': 1, 'trojmiastoplvenabustaxio59253html\\ufeff': 1, 'paypal': 1, 'yes': 1, 'surpassing': 1, 'criminal': 1, 'texas': 1, 'smh': 1, 'matter': 1, 'laura': 1, 'comstrategygameandrijamatf': 1, 'duzafizz': 1, 'niggas\\ufeff': 1, 'likkee\\ufeff': 1, 'hiya😊': 1, 'questions': 1, 'palastine\\ufeff': 1, 'morgage\\ufeff': 1, 'expecting': 1, 'fanboys\\ufeff': 1, 'uphill': 1, 'neeru105': 1, 'perform': 1, 'keen': 1, 'historical': 1, 'nelson': 1, 'depreciateds': 1, 'azerbaijan\\ufeff': 1, 'bars': 1, 'cute\\ufeff': 1, 'abuses': 1, 'drives': 1, 'selecting': 1, 'downloads': 1, 'aware': 1, 'strong': 1, 'edit': 1, 'advertisiments': 1, 'complaining': 1, 'bing': 1, 'shorogyt': 1, 'bengal': 1, 'thus': 1, 'rapperplease': 1, 'moments': 1, 'concerts': 1, 'betterthan': 1, 'sang': 1, 'noxu': 1, 'yust': 1, 'chick': 1, 'ohand': 1, 'yrs': 1, 'dreamers': 1, 'africans': 1, 'huh\\ufeff': 1, 'festival': 1, 'chap': 1, 'httpwwwbubblewscomaccount389088sheilcen\\ufeff': 1, '600▲60▲6▲\\ufeff': 1, 'career': 1, 'imma': 1, 'recaps': 1, 'normal': 1, '279898': 1, 'way\\ufeff': 1, 'dead2me': 1, 'lneadw26bfst76vhkjl8pxaey6vmnlvmriudtsfk6vyali': 1, 'httpimage2youru480511340500': 1, 'demonstrating': 1, 'noms': 1, 'fangirlsminecraft': 1, 'warmth': 1, 'lift': 1, 'equals': 1, 'cheer': 1, 'httpwwwtwitchtvjaroadc': 1, 'oncueapparel\\ufeff': 1, 'boxium': 1, 'vouchers': 1, 'filling': 1, '139': 1, 'shall': 1, 'remezcla': 1, 'wtp': 1, 'btw': 1, 'trigger': 1, 'skizzle': 1, 'fools\\ufeff': 1, 'progressive': 1, 'sore': 1, 'httpssoundcloudcomroccsteadywaveemojiprodbynippylongbottomcyberpunk\\ufeff': 1, 'hassle': 1, 'hotter': 1, 'offıcal': 1, '3rd': 1, 'yg': 1, 'sextoy': 1, '40': 1, 'bangladesh': 1, 'worked': 1, 'httpstwittercomthewaxedhatco\\ufeff': 1, 'sensejust': 1, 'hacking': 1, '39': 1, 'inspirational': 1, 'millisecond': 1, 'treu': 1, 'collections': 1, 'pc': 1, 'dundundunnn': 1, 'thanksmercigraciasdankeobrigadograzie': 1, 'gmailcom': 1, 'mind\\ufeff': 1, 'ok\\ufeff': 1, 'ｃｏｍｍｅｎｔ': 1, 'httpswwwtsucoemersonzanol\\ufeff': 1, 'katyperryvevo': 1, 'recovery': 1, 'cope': 1, 'guaschi': 1, 'personally': 1, 'leisure': 1, 'micheal': 1, 'imperfect': 1, 'shikas': 1, 'httphackfbaccountlivecomref5242575\\ufeff': 1, 'jdp': 1, 'steel': 1, 'outs': 1, 'dream…': 1, 'tutorials': 1, 'youtubeי⛺🏤⛺⛺\\ufeff': 1, 'sinar': 1, 'httponmtvcomut15kx\\ufeff': 1, 'billioncoming': 1, 'freyacumqueen\\ufeff': 1, '800': 1, 'bones': 1, 'goonrock\\ufeff': 1, 'unlike': 1, 'gangman': 1, 'httpwwwtwitchtvsevadus\\ufeff': 1, 'goodlooking': 1, 'cents': 1, 'similar\\ufeff': 1, 'fr': 1, 'httpsyoutubekq6zr6kcpj8': 1, 'eve': 1, 'frndzzl': 1, 'inspiring': 1, 'plzz\\ufeff': 1, 'wurkkkkkkkkkkkkkkkkkkkkkkkkkkkkkkkkkkkkkkkkkkkkkkkkkkkkkkkkkkkkkkkkkkkkkkkkkkkkkkkkkkkkkkkkkkkkkkkkkkkkk\\ufeff': 1, 'whistleblower': 1, 'viewsand': 1, 'marian': 1, 'losing': 1, 'flimsy': 1, 'numbering': 1, '5277478': 1, 'rugby': 1, 'asia\\ufeff': 1, 'searchs': 1, 'rhythm': 1, 'dang': 1, 'awesom\\ufeff': 1, 'everyones': 1, 'tde': 1, 'expectations': 1, 'dislikesepic': 1, 'steven': 1, 'earthcomplaintspewdiepie': 1, '🚨🚨🚨🚨🚨🚨🚨🚨🚨🚨🚨🚨🚨🚨🚨🚨now': 1, 'linked': 1, 'leader': 1, 'auto': 1, 'lasting': 1, 'catch': 1, 'meat': 1, 'shotgun': 1, 'stfu': 1, 'calls': 1, 'conscious': 1, '1billiom': 1, 'i5': 1, 'dongs': 1, 'epic\\ufeff': 1, 'fake': 1, 'plese': 1, 'homeless': 1, 'perpetrated': 1, 'scitenoa': 1, 'celebrate': 1, 'dna': 1, 'duel\\ufeff': 1, 'foxbecause': 1, 'chuck': 1, 'mri': 1, 'the1fantasy': 1, 'oldspice': 1, 'got\\ufeff': 1, 'woman\\ufeff': 1, 'wifi4g': 1, 'investmentjust': 1, 'worry': 1, 'spinal': 1, '1700000000': 1, 'pie': 1, 'httpsmfacebookcomdreaddisrefmnotif¬iftfbpagefaninviteactorid1442646731': 1, 'successcheers': 1, 'scoping': 1, 'kyle': 1, 'watchvarkglzjqup0': 1, 'grace': 1, 'mil': 1, 'intention': 1, 'nicely': 1, 'gangam': 1, 'theyre': 1, 'videoif': 1, 'trolling': 1, 'yr': 1, 'rookie': 1, 'price510': 1, 'go\\ufeff': 1, 'uppity': 1, 'httpwwwyoutubecomuserjlimvuth': 1, 'shouldd': 1, 'duty': 1, 'bet': 1, 'mission': 1, 'pages': 1, 'banging': 1, '3000000': 1, 'valuable': 1, 'chaîne': 1, 'subscriberscome': 1, 'jello\\ufeff': 1, 'posted': 1, '870000000': 1, '50k': 1, 'httpsappsfacebookcommypollsutsitcompetition2014fromuserlinkrefidouxg5e': 1, 'hasmeaningful': 1, 'roulette': 1, 'k\\ufeff': 1, 'hwang': 1, 'sponswer': 1, 'inviolate': 1, 'claiming': 1, 'gf\\ufeff': 1, 'tried\\ufeff': 1, 'loli': 1, 'happy\\ufeff': 1, 'formula': 1, 'journeywatch': 1, 'httpwwwebaycomitm131338190916sspagenamestrkmeselxittrksidp3984m1555l2649': 1, 'photograph': 1, 'abusedmistreated': 1, 'effort': 1, 'mta': 1, 'you❤✨\\ufeff': 1, '41': 1, 'ahead': 1, 'offline': 1, 'iniestas': 1, 'advance\\ufeff': 1, 'hoping': 1, 'present': 1, 'hug\\ufeff': 1, 'admitting': 1, 'growtopia': 1, 'extremely': 1, 'comment\\ufeff': 1, 'annoying\\ufeff': 1, '1hmvtxdelete': 1, 'score': 1, 'à': 1, 'beginning': 1, 'comeback20130926t222300710000600m': 1, 'rollin': 1, 'chubbz': 1, 'image': 1, 'randomly': 1, 'ring': 1, 'things\\ufeff': 1, 'alternate': 1, 'murder': 1, 'helpless': 1, 'scare': 1, 'story': 1, 'adoult': 1, 'luxuriant': 1, 'ouffffffffffffffffff': 1, 'httpbelievemefilmcomhlrh2hqbuvb\\ufeff': 1, 'god’s': 1, 'insanity': 1, 'chanell': 1, 'youtubeit': 1, 'dinero': 1, 'inbox': 1, 'thumsb': 1, 'low': 1, 'mee\\ufeff': 1, 'invisible': 1, 'ablaze': 1, 'approve': 1, 'organizations': 1, 'httpwwwtwitchtvtareko100': 1, 'destinyforever': 1, 'stupid\\ufeff': 1, 'moves': 1, 'current': 1, 'yetbut': 1, '1990': 1, 'countries': 1, '❤❤❤❤❤❤❤': 1, 'belrus20130926t222612832000nice': 1, 'offical': 1, 'boost': 1, 'httpbinboxio1firo123\\ufeff': 1, 'fears': 1, 'set': 1, 'grade': 1, 'eminmem': 1, 'responsible': 1, 'youtubegotta': 1, 'arent': 1, 'damnnnnnnnn': 1, 'prophets': 1, 'improvehelp': 1, 'aslamu': 1, 'problem': 1, 'artist\\ufeff': 1, 'slip': 1, '1min': 1, 'fefefefefegelein': 1, 'efforts': 1, 'httpwwwgoogleadservicescompageadaclksalaicsyoeb1wxvpcfl7d27abgpydgbjdpm6ih6mhu05wbgjxbv8sbeaegkn7ljvcf7byhf8byiofgicahkabskg31wpiaqkpahkmc0hbpmqambyapbbkoekwfp0kullxqi1mg6o43hvzeefmqrg4tu5llbufsz8gn0hbkjhbxm83w1ts33dxhwpdx1kazsj8o7siecvjjmbnswyijecqvhxlbdzstubofaloyinwm0roocpps2auat6zguickm0li83duwmabzqvene8trfazorltbb037vzyvxi4hbnq2nvh19mrbge0sibgggbgkab7jeycgnum1cid5ggsm9ma3ti40fs6mvpicssigaod641ofc7seh1popjyrbs7x6heenqclientcapub8252267209931889adurlhttpblog2paralero201410challengepentruafiliatiaplicalanoileprogramedeafilieresifiibusinessboomerulluniinm2mb2bga0qouc7q48v3qiaaabpugaaacsqar0vgoqwqxjmpuyvkosf3kq1bvkf9ze4jhnc3ovckkxcbafzzpajibxwbvvq4jrdgz8q3rinlwgabybxlfw7ma6dk0rjg14zkryizwqdi7hxgge9tndd9abfltfkbmbffcjixnthwbwkj6n2onlh2d9eveagphoewxogbnu5ibgtrkgnacq1oibgmzgafnsc0lsariqj8hqr8t12dwv7biy4k6i3y4yublotde4xvklnveadzzf1lxryqke6wsur3edljwgk8flqqaldiwaznuysgqjnrdy6vucklplzonyisdkc9ebx0dbhjzdw0lbsjbi40gxm0d0p5krhv8xinqli53wqbahs8zx4mjhw5vwrkpxfoeks': 1, 'static': 1, 'republic': 1, 'ty': 1, 'it´s': 1, 'httpshhortcomar0laviqu2b\\ufeff': 1, 'tv\\ufeff': 1, 'winning': 1, 'gabby': 1, 'ladies\\ufeff': 1, 'millions\\ufeff': 1, 'face\\ufeff': 1, 'animations': 1, 'katycat': 1, 'tabs': 1, '▬▬▬▬▬▬▬▬▬▬ஜ۩۞۩ஜ▬▬▬▬▬▬▬▬\\ufeff': 1, '😗\\ufeff': 1, 'mary': 1, 'minaj': 1, 'tech': 1, '┃┏━┓┃┃┃╋┃┃┃┏━┓┃┗┓┏┓┃┃┗┓┏┛┃': 1, 'well\\ufeff': 1, 'watchvteloa6rio8o\\ufeff': 1, 'songeveryday': 1, 'support\\ufeff': 1, '┃┗━━┓┃┗━┛┃┃┃╋┃┃╋┃┃┃┃┗┓┗┛┏': 1, '682': 1, 'appoints': 1, 'helped': 1, 'clip\\ufeff': 1, 'characterized': 1, '£1': 1, 'aviciis': 1, 'surviving': 1, 'invito': 1, 'citizen': 1, 'fit': 1, 'httpukeonlinecomeolimagesentiresite2012430reg1024katymkupmh053012jpg': 1, 'illfated': 1, 'link\\ufeff': 1, 'worldcup\\ufeff': 1, 'inc': 1, 'modgone': 1, 'httphackfbaccountlivecomref4604617\\ufeff': 1, 'cooooooooooooolllllllllll\\ufeff': 1, 'username': 1, 'httpswwwfacebookcomlists161620527267482\\ufeff': 1, 'telephone\\ufeff': 1, 'trade': 1, '27': 1, 'coolwhy': 1, 'compared': 1, 'several': 1, 'disappointed\\ufeff': 1, 'dancesuperbbb': 1, 'weak': 1, 'httpswwwpaidvertscomreftomuciux99': 1, 'mountain': 1, 'httpwooboxcom33gxrfbrt0u5': 1, 'alert\\ufeff': 1, 'httpsmfacebookcomprofilephpid1461302180794905\\ufeff': 1, 'bearkglzjqup0': 1, 'flat\\ufeff': 1, 'boaconic': 1, '2012bitches\\ufeff': 1, 'makeing': 1, 'install': 1, 'chesture': 1, 'fausto': 1, 'harry': 1, 'httpwwwgofundmecomgvr7xg\\ufeff': 1, 'rt': 1, 'luther': 1, 'chanell\\ufeff': 1, 'chose': 1, 'youhttpswwwfacebookcomgreenleader\\ufeff': 1, 'golden': 1, 'gameplay': 1, '2126521750': 1, 'gangnamstyle': 1, 'roasted': 1, '😱👏keep': 1, 'awards': 1, 'spoderman': 1, 'therealchrisking1': 1, '2010\\ufeff': 1, '4e\\ufeff': 1, 'pleasealso': 1, 'confusing': 1, 'thergloveblogspotin201308blogpost10html': 1, 'elongate': 1, 'breath': 1, 'kodaline': 1, 'hire\\ufeff': 1, 'expo': 1, 'kamal': 1, 'counts\\ufeff': 1, 'repair': 1, 'flixter': 1, 'vibes': 1, '😍😍😍😍♧from': 1, 'lookalike': 1, '2004\\ufeff': 1, 'pause': 1, '2016\\ufeff': 1, 'supathe': 1, 'liers': 1, 'mm\\ufeff': 1, '5800': 1, 'wiry': 1, 'flute': 1, 'divine': 1, 'terrible': 1, 'about661': 1, 'thereim': 1, 'boa': 1, '5c': 1, 'september': 1, 'jellyfish': 1, 'projects': 1, 'lifes': 1, 'caroline': 1, 'vidios\\ufeff': 1, 'sexual': 1, 'practically': 1, 'thered': 1, 'borderlands': 1, 'writer': 1, 'titles': 1, 'visits': 1, 'womanly': 1, 'porno': 1, 'hav': 1, 'axeljonssons\\ufeff': 1, 'amy': 1, 'stopis': 1, 'classsic': 1, 'locobot': 1, '113': 1, 'millonget': 1, 'httpswwwfacebookcomdemiilovatofasrefhl': 1, 'sin': 1, 'releasing': 1, 'joining': 1, 'weekly': 1, 'mario': 1, 'bucket': 1, 'httpwwwtwitchtvdaconnormc\\ufeff': 1, 'send': 1, 'american\\ufeff': 1, 'part\\ufeff': 1, 'tries\\ufeff': 1, 'play\\ufeff': 1, 'channnnnnelll': 1, 'shaking': 1, 'harts': 1, 'qiameth': 1, 'timei': 1, 'reads': 1, 'inviting': 1, 'looooved': 1, 'httpswwwtsucoaseris': 1, 'gook': 1, 'conciliate': 1, 'scrubsrmontageparodiesand': 1, 'fgw': 1, 'disorder': 1, 'customers': 1, 'beats\\ufeff': 1, 'thisthe': 1, 'httpwwwgooglerourlsatrctjqesrcssourcewebcd1ved0cb8qfjaaurlhttp3a2f2fenwikipediaorg2fwiki2flistofmostviewedyoutubevideoseioq3yu9dwc8l4yqoyo4goawusgafqjcngkmidplal6kuvkoekvgdtt2jvlqsig2onqzzad3q3cmnbe9nml4gabvmbv73231344dbgqcadrja': 1, 'tits': 1, 'evertim': 1, 'midnight': 1, 'moroccan': 1, 'happenedi': 1, 'httpswwwfacebookcomtofikmiedzynbphotosa1496273723978022107374182814962418639812081498561870415874type1theater': 1, 'httpswwwfacebookcomschoolgeniusnitsphotosmscejw9kvkoxdamqm808h5z4snjqpthqbeum69aqup1ihfphgk5zllsvdqv0zuf0mblnujufth4yokfrxyts2zvrrp6qgtw67yl551hf7vlczzrg8vgctlpsd9ongewhj8gibus3lzmvyiq2twsfzz9whn7jusvhufpglqrzczl05fnphagevb3x8ydmc6xjtcjnmhovfxwcjzyvwobihrngx2ocjng2pg1evhxzyjdo3hry6f57sprnd2xvbzszz8bpsa390875584405933391725794320912type1theater': 1, 'pleassssssssssssssss': 1, 'course\\ufeff': 1, '😂😂😂\\ufeff': 1, 'hi5\\ufeff': 1, 'youtube🌈🌈🌈\\ufeff': 1, 'dayd\\ufeff': 1, 'importantly': 1, 'shakira333♡♡♡♡♡♡♡♡♡♡♡《33☆☆☆\\ufeff': 1, 'refers': 1, 'economic': 1, 'httpimage2youru480511340503': 1, 'stole': 1, 'all\\ufeff': 1, 'inspiration': 1, 'air': 1, 'france': 1, 'update': 1, 'of\\ufeff': 1, 'eliminate': 1, 'government': 1, 'expect': 1, 'cent': 1, 'peep': 1, 'it💜\\ufeff': 1, 'underrated': 1, 'switch': 1, 'body': 1, 'problems': 1, 'picked': 1, 'retrieve': 1, 'horrible': 1, 'monstrous': 1, 'entirechina\\ufeff': 1, 'tigerlike': 1, 'entertainers': 1, 'pop\\ufeff': 1, 'wowwwwwwwwwwwwwwwwwwwwwwwwwwwwww\\ufeff': 1, 'entertainer': 1, 'haterz': 1, 'tears': 1, 'death\\ufeff': 1, 'angel': 1, 'couple': 1, 'f': 1, 'youtubefb': 1, 'rich': 1, 'httpswwwreverbnationcomslicknick313songs\\ufeff': 1, '•••••¥¥£££\\ufeff': 1, 'cancer': 1, 'fb\\ufeff': 1, 'psy’s': 1, '55200mm': 1, 'parede': 1, 'confirmed\\ufeff': 1, 'dickwad': 1, 'discover': 1, 'forty': 1, 'member': 1, 'courtthanks': 1, 'ayyy': 1, 'more\\ufeff': 1, 'wwwyouniqueproductscom\\ufeff': 1, 'stephanie': 1, 'nut': 1, '💗💗💗💗\\ufeff': 1, 'httpsplaygooglecomstoreappsdetailsidcombutalabsphotoeditor\\ufeff': 1, 'natural': 1, 'defuse': 1, 'paša20130926t222817047000croatia': 1, 'favorobrigado': 1, 'httpssoundcloudcomjackalandjameswrapupthenight\\ufeff': 1, 'lights': 1, 'illegal': 1, 'somehow': 1, 'lada😂\\ufeff': 1, 'nail': 1, 'advice': 1, 'denis': 1, 'skill': 1, '“united': 1, 'everydayimvaping': 1, 'swamp': 1, 'crop': 1, 'lover': 1, 'shock': 1, 'actresses': 1, 'httpswwwfacebookcomexagdlphotosa9368685796602841073741943111719098841907937732262907249type1theater': 1, 'doctor': 1, 'meghan': 1, 'httpwwwgofundmecomhelpmypitbull': 1, 'trafficking': 1, '25th': 1, 'learning': 1, 'sometimes': 1, 'musicif': 1, 'omgim': 1, 'situationbut': 1, 'aftermath': 1, '◄◄••\\xad••': 1, 'yeat': 1, 'smoke': 1, 'watchv2b4wywphi8c': 1, 'couch': 1, 'providers': 1, 'describes': 1, 'goo…': 1, 'httpwwwbingcomexplorerewardspublreferafriendcrearawrrid0f9fa8aa243a5c2fc349ede05ea397ca': 1, 'youtubeopponents': 1, 'humanbut': 1, 'fucked': 1, 'oleald': 1, 'neighbor': 1, 'substantially': 1, 'mexico': 1, 'screwing': 1, 'googlbxrosr': 1, 'theories': 1, 'httpimage2youru480511340488\\ufeff': 1, 'muchd': 1, 'trayvon': 1, 'dances': 1, 'window': 1, 'quadrillion': 1, 'warring': 1, '31st': 1, 'near\\ufeff': 1, 'httpswwwfacebookcomprofilephpid100007085325116\\ufeff': 1, 'plzzzzzzzzzzzzzzzzzzzzzzzzzzzzzzz\\ufeff': 1, 'activates': 1, 'success': 1, 'murdevcom': 1, '👀\\ufeff': 1, 'giveaways': 1, 'spoken': 1, 'barspart': 1, 'nick': 1, 'você': 1, '♥♥♥♥♥love': 1, 'spooked': 1, 'likesubscribe': 1, '6500': 1, 'accomplished': 1, 'instagraml': 1, 'jr\\ufeff': 1, 'anand': 1, 'tells': 1, '20082010': 1, 'bumps': 1, 'hii': 1, 'brinkman': 1, 'opening': 1, 'flies\\ufeff': 1, 'cardsbut': 1, 'purry': 1, 'target': 1, 'foot': 1, 'maroon': 1, 'mmph': 1, 'championand': 1, 'giraffei': 1, 'transformed': 1, 'thingie\\ufeff': 1, 'conference': 1, '♥♫': 1, 'sooooooooooooong': 1, '90000\\ufeff': 1, 'fit\\ufeff': 1, 'taaeecom': 1, 'crush': 1, 'increible': 1, 'mockingbird': 1, 'httpswwwtsucokodysman': 1, 'pure': 1, 'idaho': 1, 'slappers': 1, 'lmfaois': 1, 'dreamhelp': 1, 'fabricates': 1, 'illness': 1, 'sm': 1, 'details': 1, 'retards': 1, 'knocks': 1, 'httpsmfreemyappscomshareurl5af506e1\\ufeff': 1, 'eye': 1, 'killuminati94\\ufeff': 1, 'someones': 1, 'k': 1, 'dominate': 1, 'adhoc': 1, 'dafuq': 1, 'empowering': 1, 'plifal': 1, 'writing': 1, 'macabre': 1, 'httpswwwfacebookcommarcossousa4frefts\\ufeff': 1, 'sun': 1, 'scientific': 1, 'weight': 1, 'gorg': 1, 'facilitate': 1, 'powerful': 1, 'grynn': 1, 'fund': 1, 'wet': 1, 'funny\\ufeff': 1, 'toogit': 1, 'selling': 1, 'lovee': 1, 'vidz': 1, 'producers': 1, 'black\\ufeff': 1, '90s': 1, 'httpwwwtwitchtvzxlightsoutxz\\ufeff': 1, 'wheels': 1, 'win\\ufeff': 1, 'glasses\\ufeff': 1, 'netherland': 1, 'swoquix': 1, 'butts': 1, 'mothers': 1, 'itt': 1, '1855mm': 1, 'operation': 1, 'harder': 1, 'expression': 1, 'year365': 1, 'gold': 1, 'plaîtmerci': 1, 'wakad': 1, 'everthumbs': 1, 'dancepsy': 1, 'jaylan': 1, 'httpwwwgofundmecomf7ekgw\\ufeff': 1, 'datpiffcommixtapesdetailphpid633807\\ufeff': 1, 'boring': 1, 'pet': 1, 'vet': 1, 'ancestors': 1, 'explains': 1, 'httpimage2youru480511340502': 1, 'looked': 1, 'louis': 1, 'teacher': 1, 'burst': 1, 'garnered': 1, 'spelled': 1, 'sleeve': 1, 'advertising': 1, 'meu': 1, 'describe': 1, 'hearing': 1, 'charley': 1, 'damn\\ufeff': 1, 'httpswwwfacebookcomfudairyqueenpnrefstory\\ufeff': 1, 'nowplaying': 1, 'generate': 1, 'hook': 1, 'aloidia': 1, 'sones': 1, 'dylan': 1, 'substantial': 1, 'openly': 1, 'subscribed\\ufeff': 1, 'wickedness': 1, 'khalifa': 1, '77': 1, 'paused': 1, 'feels': 1, 'supporters': 1, 'awesomeshe': 1, 'v\\ufeff': 1, 'blank': 1, 'they’ve': 1, 'bass\\ufeff': 1, 'redeemer': 1, 'searching': 1, 'thisand': 1, 'increase': 1, 'httpimage2youru480511340519': 1, '1bi': 1, 'total': 1, 'dhg': 1, 'dysfunctional': 1, '😀😘\\ufeff': 1, 'clear': 1, 'httpimage2youru480511340524': 1, 'norrus': 1, 'wonderful\\ufeff': 1, 'assume': 1, 'accounts1111\\ufeff': 1, 'euro': 1, 'greetings': 1, 'httpstwittercomf0llowshoutouts': 1, 'head\\ufeff': 1, 'china\\ufeff': 1, 'inspired': 1, 'geeze\\ufeff': 1, 'throw': 1, 'itd': 1, 'reaction': 1, 'ginius': 1, 'insted': 1, 'faves': 1, 'mummy': 1, 'enabled': 1, 'freakin': 1, 'katheryns': 1, 'plzzz': 1, 'mans': 1, 'hatersfor': 1, 'vip': 1, 'flight': 1, 'balls\\ufeff': 1, '💜\\ufeff': 1, 'boobs': 1, '250': 1, 'etc': 1, 'police': 1, 'pouring': 1, 'youtubem\\ufeff': 1, 'tony': 1, 'tiget': 1, 'hips': 1, 'headbutt': 1, 'insanedo': 1, 'youtu': 1, 'rockin': 1, 'londons': 1, 'wait': 1, 'bunch': 1, 'whenever': 1, 'fictional': 1, 'yt': 1, 'violence': 1, 'watchvvtarggvgtwq': 1, 'dieroar': 1, 'gorlingoltz': 1, 'fucken': 1, 'reminiscent': 1, 'autotune\\ufeff': 1, 'comentars': 1, 'diys': 1, 'fragile': 1, 'cubik': 1, 'nvmthe': 1, 'hopme': 1, 'videosso': 1, 'value': 1, 'hid': 1, 'stretch': 1, 'dunno': 1, 'achieved': 1, 'turn': 1, 'enlace': 1, 'lion\\ufeff': 1, 'spotted\\ufeff': 1, 'mayby': 1, 'anyway\\ufeff': 1, 'hole': 1, 'httpswwwindiegogocomprojectscleaningthepan2': 1, 'pen': 1, 'busyglide': 1, 'kingston': 1, 'expose': 1, 'green': 1, 'aspiring': 1, 'brake': 1, 'delicate': 1, 'allinone': 1, 'plays\\ufeff': 1, '108k': 1, 'bleach\\ufeff': 1, 'going\\ufeff': 1, 'disposable': 1, '❤️\\ufeff': 1, 'glozzom': 1, 'bennett\\ufeff': 1, 'httpswwwtsucoworldwidelife\\ufeff': 1, 'mammoth': 1, 'freind': 1, 'annoys': 1, 'humor': 1, 'videoes': 1, 'performe': 1, 'satisfying': 1, 'nummber': 1, 'wanderfol': 1, 'httpssoundcloudcompopaegiswrennalmondeyes\\ufeff': 1, 'seat': 1, 'dressed': 1, 'clap': 1, 'fricking': 1, 'lima': 1, 'wafence': 1, 'chooses': 1, 'clubskip': 1, 'rising': 1, 'wonderful': 1, 'succesfull': 1, 'colorful': 1, 'youtubeالإعلاناتلل\\ufeff': 1, 'httptsucomarkusmairhofer\\ufeff': 1, 'wwwsmartfmnllivestreamhtml\\ufeff': 1, 'eyes': 1, 'aiiima': 1, 'httpflipagramcomfluka1qmrhf\\ufeff': 1, 'folly': 1, 'connected': 1, '❤\\ufeff': 1, 'auburn': 1, 'brazilian\\ufeff': 1, 'duh': 1, 'everyday\\ufeff': 1, 'gabriel': 1, 'painting': 1, 'magically': 1, 'httpshhortcomaroocnjqu2b\\ufeff': 1, 'roblox': 1, 'asking': 1, 'law': 1, 'hands': 1, 'enjoy\\ufeff': 1, 'viewing': 1, '😻✌💓😻👏\\ufeff': 1, 'shaki': 1, 'songfeel': 1, 'youtubese': 1, 'purry\\ufeff': 1, 'nezo': 1, 'insurance': 1, 'virgin': 1, 'senses': 1, 'brooooo': 1, '6th': 1, 'couldnt': 1, 'training': 1, 'buggti': 1, 'dancer': 1, 'effect': 1, 'stop\\ufeff': 1, 'bitcoins': 1, 'produced': 1, 'suddenly': 1, 'nikki': 1, '2127322484': 1, 'messages': 1, 'httpshhortcomarg8ix5ctkd\\ufeff': 1, 'plzzzzzzz': 1, 'dislikesssssssssssssssssssssssssssssssss\\ufeff': 1, 'lovet\\ufeff': 1, '3melhor': 1, 'john': 1, 'judges': 1, 'helps': 1, 'httptvmtvemacomartistskatyperryi38xh1\\ufeff': 1, 'educated': 1, 'horn\\ufeff': 1, '2126492636': 1, 'moly\\ufeff': 1, 'rhinnah\\ufeff': 1, 'medication': 1, '░▄▄▄▄▄▀▀░░░░▄▄▄██▀▀▀▀░░░█▀▄▄▄█░▀▀': 1, 'significantly': 1, 'abusue': 1, 'httpswwwfacebookcompagesmathsterwp1495323920744243refhl\\ufeff': 1, 'green\\ufeff': 1, 'killing': 1, 'challenge': 1, '░░░▄██▄░░░░░': 1, 'wk': 1, 'riri': 1, 'slappin': 1, 'aaaaaaa': 1, 'inches': 1, 'best♣♥\\ufeff': 1, 'help\\ufeff': 1, 'critisism': 1, 'wellcomemdblogfacom': 1, 'facts': 1, 'cringeworhty\\ufeff': 1, 'httpwwwbubblewscomnews9277547peaceandbrotherhood\\ufeff': 1, 'gim': 1, 'horrific': 1, 'nirvanatrust': 1, 'httpwwwchangeorgpetitionsthenationalfootballleagueallowgwartoperformthe2015superbowlhalftimeshowshare': 1, 'g': 1, 'remove': 1, 'africa2': 1, 'celebrated': 1, 'coming\\ufeff': 1, 'xoxoleah': 1, '340411': 1, 'channelsounds': 1, 'enterthen': 1, 'likecomment': 1, 'wwwmarketglorycomstrategygamelordviperas\\ufeff': 1, 'famine': 1, 'improves': 1, 'basically\\ufeff': 1, 'abuse': 1, 'eight': 1, 'computer': 1, 'sheep': 1, 'anywhere': 1, 'roughly': 1, 'addicting': 1, 'gta5': 1, 'aswell': 1, 'numbers': 1, '219': 1, 'kevin': 1, 'browser': 1, 'can’t': 1, 'wonder\\ufeff': 1, '911': 1, 'httpwwwfunnyordiecomvideosd15fb87973truedefectives\\ufeff': 1, 'figured': 1, 'httpwwwlinkbuckscomacn2g\\ufeff': 1, '·': 1, '109': 1, 'qerrassa': 1, 'i̇': 1, 'bots': 1, 'writingrecordingmixingperforming': 1, 'patrik': 1, 'crimes': 1, 'gwar': 1, 'wrong\\ufeff': 1, 'nikon': 1, 'wavefire': 1, 'nature': 1, '❤❤❤❤❤❤❤❤❤❤❤❤❤❤❤❤❤❤❤❤❤❤❤❤❤❤❤❤❤❤❤❤❤❤❤❤❤❤': 1, 'transmit': 1, 'umph': 1, 'beibs': 1, 'surveyshttpwwwprizerebelcomindexphpr1446084\\ufeff': 1, 'retain': 1, 'again\\ufeff': 1, 'bucks': 1, 'team\\ufeff': 1, 'ding': 1, 'passioni': 1, 'repass': 1, 'sinned': 1, 'youtubecomwatchv2asfn9shghkfeatureyoutube': 1, 'yellow': 1, 'crdits': 1, 'january': 1, 'colour': 1, 'youtubejjiwajwkajajqjaubkm\\ufeff': 1, 'basethanks': 1, 'secure': 1, 'unlocked': 1, 'dakoda': 1, 'trusted': 1, 'ima': 1, 'generated': 1, 'brother\\ufeff': 1, 'spit': 1, 'wiredo': 1, 'happiness': 1, 'sold': 1, 'eat': 1, 'camp': 1, 'drink': 1, 'cash': 1, '60inch': 1, 'mosh': 1, 'kobyoshi02': 1, 'httpsbinboxiodnckmqt4q1jb1\\ufeff': 1, 'costfree': 1, 'nossnevs\\ufeff': 1, 'goot\\ufeff': 1, 'adult': 1, 'exceptions\\ufeff': 1, 'robo': 1, 'letting': 1, 'tygas': 1, 'disliked😯\\ufeff': 1, 'conhece': 1, 'though\\ufeff': 1, 'bigelow': 1, 'netherlands\\ufeff': 1, 'pal': 1, 'anxious': 1, 'watchvnxk32i0hkds': 1, 'subscrib': 1, 'far\\ufeff': 1, 'de': 1, 'copy': 1, 'same\\ufeff': 1, 'watchvaimbwbfqbzg': 1, 'terrible\\ufeff': 1, 'likethis': 1, 'httpspremiumeasypromosappcomvoteme19924616375350\\ufeff': 1, 'couldve': 1, 'bother': 1, 'youtubeqq\\ufeff': 1, '1m': 1, 'crabby': 1, 'motherlandthankyou': 1, '700000000': 1, 'videosdownloading': 1, 'breaken': 1, 'thirsty': 1, 'thankful': 1, 'hero😍😎\\ufeff': 1, 'thot': 1, 'stronglittlepsy': 1, 'fish': 1, 'prod': 1, 'pakistan\\ufeff': 1, 'apocalypse': 1, 'httpswwwfacebookcompageshiphopexpress704682339621282': 1, 'rosary': 1, 'cock': 1, 'strength': 1, '4000dollars': 1, 'dollar': 1, 'solve': 1, 'off0': 1, 'doe': 1, 'crowd': 1, 'fee': 1, 'hioffpo': 1, 'addfollow': 1, 'itht': 1, 'smiley': 1, 'httpvimeocom106865403\\ufeff': 1, 'hicheck': 1, 'loyal': 1, 'actor': 1, 'hurt': 1, 'gs': 1, 'zealous': 1, 'review': 1, 'pe': 1, 'luv': 1, 'peace✌\\ufeff': 1, 'radio': 1, '20\\ufeff': 1, 'higher': 1, 'httpwwwteespringcomtigermeathoodie\\ufeff': 1, 'com\\ufeff': 1, 'httpswwwsurveymonkeycomscvhmklt\\ufeff': 1, 'vaio': 1, 'plant': 1, 'parry': 1, 'pthis': 1, 'tha': 1, 'uranus': 1, 'actors': 1, 'edge': 1, 'affiliated': 1, '☆☆☆☆☆\\ufeff': 1, 'ems': 1, '7000000000': 1, 'joinits': 1, '♫i': 1, 'briefs': 1, 'estiloproduction': 1, 'zip': 1, 'niketan': 1, 'sean': 1, 'lneadw26bftvzqt6juehasiefrjg1exidvqdnqvphoexode': 1, 'unfortunatly': 1, 'probable': 1, 'selection': 1, 'magnificent': 1, 'constrictor': 1, 'increidebl\\ufeff': 1, 'ooooo': 1, '┏━━━┓┏┓╋┏┓┏━━━┓┏━━━┓┏┓╋╋┏┓': 1, 'cruz': 1, 'irl': 1, 'socool！！\\ufeff': 1, 'curti': 1, 'twitch': 1, 'wwwswagbuckscomrefernonturtle02\\ufeff': 1, 'demo': 1, 'partydrunk': 1, 'jahitan': 1, 'itz': 1, 'mio': 1, 'bomb': 1, 'abonner': 1, 'fulfilling': 1, 'dreamim': 1, 'scintillating': 1, 'wwwteespringcomsmiley12': 1, '♡\\ufeff': 1, 'looooooooooooooooooooovvvvvvvvveeeeeeeeeeee': 1, 'pitbull': 1, 'od': 1, 'httpwwwmediafirecomdownloadyvovhafsv5qzzqovideorar': 1, 'mediocre': 1, 'admirable': 1, 'suscríbase': 1, 'aid': 1, 'httpwwwswagbuckscompregisterrb13017194\\ufeff': 1, 'roaaaaarrrrrr': 1, 'terrorist': 1, 'httpimage2youru480511340520': 1, 'worst': 1, '♫': 1, '❤️❤️❤️\\ufeff': 1, 'apparently': 1, 'slr': 1, 'httpimage2youru480511340493': 1, 'guide': 1, 'youtubehjalp\\ufeff': 1, 'awful': 1, 'in\\ufeff': 1, 'history\\ufeff': 1, '700': 1, 'weekendmix': 1, 'steps\\ufeff': 1, 'eh': 1, 'divorce': 1, 'requite': 1, '1b': 1, 'niko20130926t220043613000hey': 1, 'language\\ufeff': 1, 'httpwwwbubblewscomnews6401116vpssolutions\\ufeff': 1, 'collaborators': 1, 'transport': 1, 'httppsnbosscomref2tggp3pv6l': 1, 'boygirl': 1, 'idea': 1, 'languages\\ufeff': 1, 'boyi': 1, 'mirror': 1, 'point': 1, 'baba': 1, 'entire': 1, 'sleeveless': 1, 'uplifting': 1, 'pride': 1, 'usa': 1, 'serious': 1, 'road': 1, 'hog': 1, 'handsome': 1, 'httpwwwamazoncoukgpofferlistingb00ecvf93gsr82qid1415297812refolptabrefurbishedieutf8conditionrefurbishedqid1415297812sr82': 1, 'ignorant': 1, 'httpwwwwattpadcomstory26032883shecanloveyougood\\ufeff': 1, 'sophisticated': 1, 'loud': 1, 'ｔｈｉｓ': 1, 'httpswwwfacebookcomphotophpfbid313454548839369seta2072302127951371073741825100005244783212type1theater': 1, 'females\\ufeff': 1, 'times\\ufeff': 1, 'lamest': 1, 'sparks': 1, 'youtubelove': 1, 'cheilith': 1, 'sucscribe': 1, '500m': 1, 'iam': 1, 'ba': 1, 'pileanyone': 1, 'sneeze': 1, 'fathers': 1, 'twin': 1, '8\\ufeff': 1, '😂': 1, 'suicide': 1, '9nlmemakemoneywithoutinvestment1': 1, 'wobblers': 1, 'httpssoundcloudcomnereboycallofthelostproducebyatlastatlasrapperjkork': 1, 'journey': 1, 'goodbye\\ufeff': 1, 'billon': 1, 'themselves\\ufeff': 1, 'grave': 1, 'hackers': 1, 'ta': 1, 'ｆａｎｃy': 1, 'spousal': 1, 'tsū': 1, 'httpwwwgofundmecomjormis': 1, 'commercial': 1, 'vidios': 1, 'songvideo': 1, 'floooooooooooooooooooop\\ufeff': 1, 'httpwwwguardaloorgbestoffunnycatsgattipazziedivertenti20135287100000415527985': 1, 'wow5': 1, 'though': 1, 'becomes': 1, 'bewatching': 1, 'unstoppable\\ufeff': 1, 'playtime': 1, 'lisening': 1, 'adding': 1, 'smartie': 1, 'drone': 1, 'vidéo': 1, 'youtubecentral': 1, 'whore\\ufeff': 1, 'shoot': 1, 'rymeluv': 1, 'genocide': 1, 'chacking': 1, 'httpswwwfacebookcomphotophpfbid543627485763966l0d878a889c\\ufeff': 1, 'disclose': 1, 'katie': 1, 'hart': 1, 'ｉｓ': 1, 'grass': 1, '969210': 1, '▀█▌░░░▄░▀█▀░▀': 1, 'httpwww4sharedcomwebpreviewpdfcjfoftxeba\\ufeff': 1, 'vipsplease': 1, 'httpwwwgofundmecomangelsnwingz\\ufeff': 1, 'httpimage2youru480511340504': 1, 'maylaysia': 1, 'xx': 1, '857482940': 1, '1015': 1, 'housee': 1, 'blow': 1, 'behavior': 1, 'much♥♥♥♥': 1, 'fuffapster': 1, 'crash\\ufeff': 1, 'buzz': 1, 'thankfully': 1, 'that’s': 1, 'cudi': 1, 'httpimage2youru480511340518': 1, 'srilanka': 1, 'mmlp2': 1, 'oil': 1, 'rappersongwriter': 1, 'toy': 1, 'plizz': 1, '79\\ufeff': 1, '205': 1, 'paper': 1, 'feature': 1, 'juyk': 1, 'tiger\\ufeff': 1, 'httpubuntuonecom40beuutvu2zkxk4utgpz8k\\ufeff': 1, 'insperasen': 1, 'rapped': 1, 'you’re': 1, 'pleasethank': 1, 'inscreva': 1, 'butt': 1, 'httpwww10vakinhacombrvaquinhaeaspxe313327': 1, 'youtubeeminem': 1, 'consumers': 1, 'cheetos': 1, 'bady': 1, 'phones': 1, 'craft': 1, 'giver': 1, 'serving': 1, 'red': 1, 'subscribes': 1, 'httpwwwamazoncomknightdawncurseddanielnebookdpb00mppqhrirefsr17sdigitaltext3bieutf83bqid14081226843bsr173bkeywordsknighttagwattpad20': 1, 'sadly': 1, 'commenter': 1, 'radio\\ufeff': 1, 'pants\\ufeff': 1, 'pcs': 1, 'field': 1, 'httpwwwbarnesandnoblecomsbdpcsrftokeni9tixe8cnkcosoqkemgjlu5uwv6nsxsosortddsize90csrftoken89iyec7nrwp5nytno5u7amhvmflutggldref5094keywordbdpstoreebook': 1, 'marian\\ufeff': 1, 'prehistoric': 1, 'httpwwwreverbnationcommsmarilynmiles\\ufeff': 1, 'im2458444': 1, 'fruits': 1, 'httpwwwebaycomitm171183229277sspagenamestrkmeselxittrksidp3984m1555l2649': 1, 'billsand': 1, 'sense': 1, 'plot': 1, 'pranks': 1, 'enjoyable': 1, 'gusttavo': 1, 'smaller': 1, 'rants': 1, '500k': 1, 'yaaaaaa': 1, '4500': 1, 'httpimage2youru480511340489': 1, 'opinion\\ufeff': 1, 'forgetful': 1, 'nike': 1, 'wited': 1, 'empirelike': 1, 'httpswwwfacebookcomeecconposts733949243353321commentid734237113324534offset0totalcomments74': 1, 'wwwyouniqueproductscomjoannagordon': 1, 'supreme': 1, 'not\\ufeff': 1, 'fairrrrrrr\\ufeff': 1, 'feelin': 1, 'effects': 1, 'deaf': 1, 'pleasant': 1, 'spammed': 1, 'makeup\\ufeff': 1, 'rip': 1, 'keyword': 1, 'positive': 1, 'lose': 1, 'ppl': 1, 'havent': 1, 'lovatype': 1, 'purpy': 1, 'anaconda\\ufeff': 1, 'conceived': 1, 'halp': 1, 'asinine': 1, 'promo': 1, 'luxuries': 1, 'method': 1, 'penny': 1, 'ej': 1, 'hairstylist': 1, '28': 1, 'wavelength': 1, 'report': 1, 'musique\\ufeff': 1, 'httpswwwfacebookcomphotophpv4483179854075setvb1727483389type2theater': 1, 'djj': 1, 'addition': 1, '30th': 1, 'julie': 1, 'rule': 1, 'pigment': 1, 'd90': 1, 'shrek': 1, '2012': 1, 'fort': 1, 'reasons': 1, '447935454150': 1, 'virucide': 1, 'rid': 1, 'blog': 1, '2b': 1, '128gb': 1, 'gofundmecomgrwmps\\ufeff': 1, 'jacket': 1, 'httpwwwnetworkedblogscomp11cpwbrefpanorama\\ufeff': 1, 'soooooooooooooooooooooooooooooooooooooooo': 1, 'utility\\ufeff': 1, '❤❤❤❤❤❤❤\\ufeff': 1, 'hhnl': 1, 'mizuxe': 1, 'incandescent': 1, 'views566000': 1, 'expansion': 1, 'admire': 1, 'delete': 1, 'bookies': 1, 'channelbecause': 1, 'toximble': 1, 'estonia': 1, 'edlikeshare': 1, 'marius': 1, 'false': 1, 'pleasure\\ufeff': 1, 'sirius': 1, 'vnecks': 1, 'flowim': 1, 'llikee\\ufeff': 1, 'esyest': 1, 'leah': 1, 'wwwyoutube': 1, 'class': 1, 'mindcould': 1, 'example': 1, 'middle': 1, 'eyebrows': 1, 'leopard': 1, 'guss': 1, 'likeee\\ufeff': 1, 'ink': 1, 'rules': 1, 'husbands': 1, 'lies\\ufeff': 1, 'httpswwwfacebookcompagesbrewcrew2014134470083389909': 1, 'httpsviralangelscomuserd4aaacwk\\ufeff': 1, 'swing': 1, 'listencheck': 1, 'monkeys': 1, 'life\\ufeff': 1, 'noi': 1, 'shellfirst301': 1, 'comparison\\ufeff': 1, 'agreeable': 1, 'httpsplusgooglecom111982027348137311818postsg2jvinpuemo\\ufeff': 1, 'wooooo\\ufeff': 1, 'fruity': 1, 'torunament': 1, 'al\\ufeff': 1, 'hallowseither': 1, 'giraffebruuh\\ufeff': 1, 'lucas': 1, 'rhymes': 1, 'ourself': 1, 'think\\ufeff': 1, '860000000': 1, 'folks\\ufeff': 1, 'tattoo': 1, 'visor': 1, 'rehabilitate': 1, '••••►►my': 1, 'kluivert': 1, 'nicei⛺♥♥♥♥\\ufeff': 1, '666002018': 1, 'gain': 1, '97in': 1, 'caution': 1, 'httpimage2youru480511340494': 1, 'httpimage2youru480511340517': 1, 'hair\\ufeff': 1, 'guruofmovie\\ufeff': 1, 'i´m': 1, 'millioon': 1, 'bang': 1, '7k': 1, 'nonasian': 1, 'trumpetcallofgodonline': 1, 'babe': 1, 'accidental': 1, 'httpwwwbillboardcomarticlescolumnspopshop6174122fanarmyfaceoffround3': 1, 'mgtow': 1, 'aways': 1, '3keep': 1, 'youtubefacebook': 1, 'macho': 1, 'enormously': 1, 'supposed': 1, 'cross': 1, 'eeeveryone': 1, 'winners': 1, 'dopethats': 1, 'track\\ufeff': 1, 'plan': 1, 'httpsmfreemyappscomshareurl10b35481\\ufeff': 1, 'summon': 1, '5s\\ufeff': 1, '3mejor': 1, 'httpswwwfacebookcommyfunnyriddles\\ufeff': 1, 'issue': 1, 'subscribirse': 1, 'httpminhatecacombrmaurosp2013filmesseriesdesenhosanimesmp3etc\\ufeff': 1, 'pic': 1, 'racists': 1, 'youtube👿👳👳👳👳👳\\ufeff': 1, 'earns': 1, 'doubt': 1, 'belly': 1, '3d': 1, '🏠': 1, 'story\\ufeff': 1, 'httpwwwgofundmecomdressprettyonce': 1, 'impossible': 1, 'petitionhttpwwwthepetitionsitecom387433550stopanimaltraffickingcidheaderclick\\ufeff': 1, 'bisexual': 1, 'literally': 1, 'june2715': 1, 'vet\\ufeff': 1, 'promotes': 1, 'thishttpadfly': 1, 'swim': 1, 'healing': 1, 'humankind\\ufeff': 1, '5th': 1, 'seem': 1, '👍\\ufeff': 1, 'firms': 1, '800m': 1, 'wil': 1, 'dudes\\ufeff': 1, 'mcashim': 1, 'juice': 1, 'obviously': 1, '1billion': 1, 'angel\\ufeff': 1, 'xoxo\\ufeff': 1, 'bless\\ufeff': 1, 'jam': 1, 'httpwwwebaycomitm251638183951sspagenamestrkmeselxittrksidp3984m1555l2649': 1, 'extinct': 1, 'httpswwwindiegogocomprojectsiwanttogotocollege19x9082175\\ufeff': 1, 'memorable': 1, 'httphackfbaccountlivecomref4436607': 1, 'songssupper': 1, 'ethosien': 1, 'neon': 1, 'clicked': 1, 'raise': 1, 'guess\\ufeff': 1, 'deserves': 1, 'fire\\ufeff': 1, 'longer': 1, 'one0': 1, 'mtvema': 1, 'httpswwwtsucotomeks': 1, 'course': 1, 'hooker\\ufeff': 1, 'looooooooove': 1, '❤️❤️❤️❤️❤️❤️❤️❤️😍😍😍😍😍😍😍😘😘😘😘😘😘😘😘\\ufeff': 1, 'ybuwyn': 1, 'httpgiphycomgifsbirthdayflowershappygw3jy2uqiaxkaqxsfullscreen': 1, 'httpswwwpaidvertscomrefmarius1533\\ufeff': 1, 'loon': 1, 'wisdom': 1, 'message\\ufeff': 1, 'shooting': 1, 'acaer': 1, 'hahaa': 1, '🐯🐯🐯\\ufeff': 1, 'jbs': 1, 'httpowly2zme8f\\ufeff': 1, 'rocklolwho': 1, 'industry\\ufeff': 1, 'repay': 1, 'blue\\ufeff': 1, '┃┗━┛┃┃┃╋┃┃┃┏━┓┃┏┛┗┛┃╋╋┃┃': 1, '2127315950': 1, 'jap': 1, 'liked\\ufeff': 1, 'pleaaaase': 1, 'lad': 1, 'excellent': 1, 'dosing': 1, 'httpinstagramcomcyrineghorbel\\ufeff': 1, 'listen✌️😊': 1, 'giveaway': 1, 'ilovethissong\\ufeff': 1, 'crown': 1, 'honesty': 1, 'viewshttpswwwyoutubecomwatchvprpeedmmmq0\\ufeff': 1, '🙌\\ufeff': 1, 'acidic': 1, 'impress': 1, 'putty': 1, 'httpswwwfacebookcomantrobofficial\\ufeff': 1, 'none': 1, 'say\\ufeff': 1, 'wait\\ufeff': 1, 'chanicka': 1, 'subscribesoon': 1, 'achieve': 1, 'chriscz': 1, 'diving': 1, 'rapidly\\ufeff': 1, 'quick': 1, 'millionsof': 1, 'driving': 1, 'krean': 1, '┗━━━┛┗┛╋┗┛┗┛╋┗┛┗━━━┛╋╋┗┛': 1, 'ling': 1, 'shmelev': 1, 'saythis': 1, 'lykum': 1, 'skylarworks': 1, 'httpwwwermailpldolaczv3veygin\\ufeff': 1, 'allows': 1, 'belarus': 1, 'crank': 1, 'mm': 1, '111': 1, 'applied': 1, 'freinds': 1, 'applause': 1, 'tapes': 1, 'youtubethis': 1, 'frame': 1, 'eager': 1, 'shop': 1, 'fack': 1, 'exclusive': 1, 'httpwwwgofundmecomrjanimalcare\\ufeff': 1, 'forever\\ufeff': 1, 'eva': 1, 'woods\\ufeff': 1, 'lool': 1, 'colors': 1, 'devils': 1, 'crash': 1, 'presequel': 1, '490000': 1, 'coby': 1, 'alfred': 1, 'prevent': 1, 'nguyen': 1, 'afraid': 1, 'ryhme': 1, 'airplane': 1, 'ballad': 1, '14000000': 1, 'echa': 1, 'mum': 1, 'chillstep': 1, 'accessories': 1, 'waratel': 1, 'walmart': 1, '…aint': 1, 'size': 1, 'yay': 1, 'vma': 1, '11th': 1, 'dakota': 1, 'memorized': 1, 'shares\\ufeff': 1, 'synch': 1, 'beneath': 1, 'integrated': 1, 'awesum': 1, 'promos': 1, 'httpswwwchangeorgpfacebooktwitteryoutubedonotcensorjulienblanc': 1, 'song🎶🎵🎧\\ufeff': 1, '421': 1, 'lumineers\\ufeff': 1, 'pander26skype': 1, 'httpwwwmyleadergatecommoretraffic\\ufeff': 1, 'discusss': 1, 'due': 1, 'wierd': 1, 'hahaha\\ufeff': 1, 'ultrabooks': 1, 'channelsubscribe': 1, 'jail': 1, 'brah\\ufeff': 1, 'pmw': 1, 'comparisons': 1, 'koreans': 1, 'birtgday': 1, 'trends': 1, 'actual': 1, 'skyburst': 1, 'arguementsother': 1, 'happens\\ufeff': 1, 'profits\\ufeff': 1, 'httpswwwfacebookcompageskomediburdagel775510675841486\\ufeff': 1, 'counts': 1, 'cereal': 1, 'members': 1, 'recipe': 1, 'synthesizes': 1, 'editor': 1, 'slut': 1, 'faded': 1, 'alvar': 1, 'reed': 1, '0058': 1, 'hmmhow': 1, 'intelligent': 1, 'berzerk': 1, 'votekatyperry': 1, 'mere': 1, 'fu': 1, 'made\\ufeff': 1, 'spot': 1, 'afflicted': 1, 'fell': 1, 'lik': 1, 'lion': 1, 'reinforce': 1, 'rhianna': 1, 'next\\ufeff': 1, 'untanlted': 1, 'hits\\ufeff': 1, 'kpop': 1, 'oportunity\\ufeff': 1, 'hopefully': 1, 'greatthis': 1, 'viva': 1, 'bella': 1, 'hurts': 1, 'lem': 1, 'dizzy': 1, 'felt': 1, 'halloween': 1, 'thatd': 1, 'thru': 1, 'blond': 1, 'wright': 1, 'shuffled': 1, 'ovbiously': 1, 'mic\\ufeff': 1, 'homes': 1, 'college': 1, 'cried': 1, 'price515': 1, 'apparel': 1, 'moneyenjoy': 1, 'helpful': 1, 'ha': 1, 'gat': 1, 'shitjust': 1, '300': 1, 'leandrus': 1, 'british': 1, 'squeezes': 1, 'ana': 1, 'tonighttoday': 1, 'httpwwwgcmforexcompartnersawaspxtaskjoint2affiliateid9107\\ufeff': 1, 'replies': 1, 'httpssoundcloudcomjsuptfilsdusonfuckinghostile\\ufeff': 1, 'super\\ufeff': 1, 'phone\\ufeff': 1, 'goal100': 1, 'cleanse': 1, 'writeperformrecordmixeditpost': 1, 'erection': 1, 'hopes': 1, '❥love❥': 1, '♥i': 1, 'justing': 1, 'grow': 1, 'noodile': 1, 'asian': 1, 'tonight\\ufeff': 1, 'co': 1, 'arrogant': 1, 'creativity': 1, 'base': 1, 'playerto': 1, 'i\\ufeff': 1, 'shuffllllllllllllllllllllllinnnnn\\ufeff': 1, 'definitily': 1, '2011\\ufeff': 1, 'httpsvimeocom107297364\\ufeff': 1, 'tupacase': 1, 'realy': 1, 'minoo': 1, 'pplease': 1, 'see…': 1, '░░░░░░░░░░░░▄▐░░░░░░': 1, 'wats': 1, 'youtube🍴🍴🏄🏄🏄🍴🏄🏄🏄🏄🏊🏊🏊🏊🍴🍴🍴🍴🍴🏂🏂🏂🏂🏂🏆🍸🍸🍸🍸🏆🍻🍗🍵🍟🍟🍟🍟🍴🍕🍕🍕🍕🍕🍕🍕🍕🍕🍕🍕🍕☕️🎣🎣☕️🍕🍕🎣🎣🎣🎣🎣🎣🎣🎣🎣🎣☕️🎣🍕🍔🍔🎣🎣☕️🎣🍹🍹🏂🏂🍹🎿🏆\\ufeff': 1, 'ww': 1, 'price360': 1, 'been\\ufeff': 1, 'dddddddrop': 1, 'httpshhortcomarx6j4gbrne\\ufeff': 1, 'intelligence': 1, 'thankss': 1, 'anyway': 1, 'gardens': 1, 'views0': 1, 'duo': 1, 'receive\\ufeff': 1, 'ummm': 1, 'iv': 1, 'españa': 1, 'cge': 1, 'httpimage2youru480511340522': 1, 'coolest': 1, 'steam': 1, 'cirus\\ufeff': 1, 'hothot\\ufeff': 1, 'arbitrate': 1, 'render': 1, 'unit': 1, 'zesty': 1, 'cri': 1, 'herehttpswwwfacebookcomtlouxmusic\\ufeff': 1, 'thingyou': 1, 'bocilile': 1, 'madly': 1, '002': 1, 'recently': 1, 'suscriba': 1, 'musicim': 1, 'ended': 1, 'lacked': 1, 'msg': 1, 'afford': 1, 'basketball': 1, 'spain': 1, 'turnoff': 1, 'confirmed': 1, 'school\\ufeff': 1, 'level': 1, 'legit': 1, 'terrance': 1, 'joke': 1, 'consolidating': 1, '357': 1, 'httpwwwebaycomitm131275322914sspagenamestrkmeselxittrksidp3984m1555l2649': 1, 'coverup': 1, 'ans': 1, 'httpimage2youru480511340499': 1, 'ithat': 1, 'form': 1, 'heshe': 1, 'jean': 1, 'sooooooooooooooo': 1, 'angry': 1, 'laughable': 1, 'pun': 1, 'sayin\\ufeff': 1, 'httpshhortcomarhupweh5ab\\ufeff': 1, 'youtubepl\\ufeff': 1, 'musicvideo': 1, 'adsense': 1, 'milions': 1, 'generation\\ufeff': 1, 'nicer': 1, 'exist': 1, 'reunion': 1, 'lead': 1, 'naive': 1, 'youtubelooking': 1, '12year': 1, 'kollektivet': 1, '1hmvtx\\ufeff': 1, 'love😘❤💖\\ufeff': 1, 'celeb': 1, 'molly': 1, 'httpimage2youru480511340492': 1, 'lneadw26bfvkahxpkenm25fywkyxthsupri6juqsznug': 1, 'australia': 1, 'inaccurate': 1, 'crazy\\ufeff': 1, 'crashed': 1, 'ｈｔｔｐｗｗｗｅｂａｙｃｏｍｕｓｒｓｈｏｅｃｏｌｌｅｃｔｏｒ314': 1, 'jemini': 1, 'burder': 1, 'guarantee': 1, 'warspcmasteracetrollshow': 1, 'whiz': 1, 'hdtv': 1, 'katyand': 1, 'chainise': 1, 'foto': 1, '2i': 1, 'cs': 1, 'gardner': 1, 'pimpmyviews': 1, 'segue': 1, 'intel': 1, 'authenticviewscom': 1, 'robox': 1, 'feedback\\ufeff': 1, 'reasonchristianity': 1, 'express': 1, 'rapgod': 1, 'absolute': 1, 'starting': 1, 'ftw': 1, '€': 1, 'httpsmfreemyappscomshareurl505b0232\\ufeff': 1, 'eminen\\ufeff': 1, 'registr': 1, 'fantasy': 1, 'lord': 1, 'watchvw6gkmxny2m': 1, 'shakiras': 1, 'allways': 1, 'httpswwwfacebookcomgorlingoltzsupport\\ufeff': 1, 'entertains': 1, 'nothingplease': 1, 'purchase': 1, 'httpsyoutubeyfuy4gkr1c\\ufeff': 1, 'partyman318': 1, 'odowd': 1, 'distribution': 1, 'jims': 1, 'billions': 1, 'httpswwwfacebookcomnicushorbboy': 1, 'joanna': 1, 'clothing': 1, 'entered': 1, 'names': 1, 'chhanel': 1, 'beta': 1, 'cap': 1, 'dedication': 1, 'categories': 1, 'tension⤴︎⤴︎\\ufeff': 1, 'goood\\ufeff': 1, 'watchvyuttx04oyqq': 1, 'deathly': 1, 'computerbased': 1, 'aunt': 1, 'zero\\ufeff': 1, '1111111111111111111\\ufeff': 1, 'oo\\ufeff': 1, 'shaeel': 1, 'voyage': 1, 'convinced': 1, 'woke': 1, 'dancing\\ufeff': 1, 'drews': 1, 'swooflia': 1, 'httptankionlinecomfriendcd92db3f4': 1, 'depressed': 1, 'shirtplease': 1, 'gus': 1, 'gogopo': 1, 'bikini\\ufeff': 1, 'congrasulation': 1, '2015i': 1, 'subscribeeeeeeeeee': 1, '3meilleur': 1, 'sitting': 1, 'mile': 1, 'mobile': 1, 'someone\\ufeff': 1, 'adapt': 1, 'hw': 1, 'title': 1, 'either': 1, 'thou': 1, 'breaks': 1, 'dog': 1, 'we’': 1, 'follower': 1, 'shufflin': 1, 'laughing': 1, 'christians': 1, 'paragraph': 1, 'likeeeeeeeee\\ufeff': 1, 'mini': 1, 'hermann': 1, 'gaming\\ufeff': 1, '👐👐👐👐👐👐\\ufeff': 1, 'feet': 1, 'commentsoh': 1, 'enimen': 1, 'terrorism': 1, 'shkira\\ufeff': 1, 'food': 1, 'blonde\\ufeff': 1, 'acceptance': 1, 'igblastcom': 1, 'enlargement': 1, '3trust': 1, 'rather': 1, '33\\ufeff': 1, 'lmfaovevo': 1, 'final': 1, 'chubby': 1, 'respect': 1, 'potter': 1, 'luckymusiqlive': 1, '2924': 1, 'drirathiel': 1, 'cking': 1, 'fresh': 1, 'system': 1, 'incmediaorg': 1, 'upgrade': 1, 'buchmair': 1, '0687119038': 1, 'idiocy': 1, 'stuffslappers': 1, 'nepal\\ufeff': 1, 'recommend': 1, '4gb': 1, 'column': 1, 'commment': 1, 'chrck': 1, 'deciocabelo': 1, 'nigger': 1, 'nervous': 1, 'george': 1, 'sponsor\\ufeff': 1, 'boooobs\\ufeff': 1, 'httpwwwgofundmecomlittlebrother\\ufeff': 1, 'fill': 1, 'mindblowing': 1, 'tweet': 1, 'inside\\ufeff': 1, 'soldiers': 1, '…': 1, 'roaaarrr': 1, 'kashoo': 1, '😏👍😼\\ufeff': 1, 'barsto': 1, 'symptomatic': 1, 'claire\\ufeff': 1, 'youtubyou\\ufeff': 1, '2000000000': 1, 'songsearch': 1, 'drama': 1, 'samsung': 1, 'httpssoundcloudcomyerkielinmigranteyerkimybmoveyourbody\\ufeff': 1, 'spirit': 1, 'mins': 1, 'httpswwwfacebookcompagesfrasessecretas448800865296855refhl\\ufeff': 1, 'project\\ufeff': 1, 'everywhere\\ufeff': 1, '░░░░░░░▄▄▐▌▄▄░░░░░░░▀███▀█░▄░░░░░░▐▌▀▄▀▄▀▐▄░░░░░░▐▀░░░░░░▐▌░░░░░░█░░░░░░░░█░░░░░▐▌░░░░░░░░░█░░░░░█░░░░░░░░░░▐▌\\ufeff': 1, 'market\\ufeff': 1, 'polish': 1, 'attacks': 1, 'abominable': 1, 'linz': 1, 'gangsta': 1, 'realkevinheart': 1, 'httproverebaycomroverimp1710534811925501ff31pub5575096797toolid10001campid5337555197customidbogdangrigoremptcachebuster': 1, 'insult': 1, 'ilove': 1, 'sprayon': 1, 'songgod': 1, 'youtubelo\\ufeff': 1, 'richest': 1, 'democracy': 1, 'cyphers': 1, 'fashions': 1, 'superstar': 1, 'unequaled': 1, 'delicious': 1, 'land': 1, 'volume': 1, 'angels': 1, 'platform': 1, 'youtubechcfcvzfzfbvzdr\\ufeff': 1, 'that´s': 1, 'som': 1, 'horse': 1, 'protective': 1, 'professor': 1, 'meets': 1, '629': 1, 'falls': 1, 'samurman': 1, 'tazz': 1, 'fairy': 1, 'ambitious': 1, 'wholehearted': 1, 'officialpsy': 1, 'mahones': 1, 'warcraft': 1, '2009': 1, 'rappersinger': 1, 'constitution\\ufeff': 1, 'groups': 1, 'emotions': 1, 'girlfriend\\ufeff': 1, 'mercurys': 1, 'httpthepiratebaysetorrent10626048theexpendables32014dvdscrleakedcleanxvidmp3rarbg': 1, 'phenomena': 1, 'jello': 1, 'covers\\ufeff': 1, 'lyricism': 1, 'followers': 1, 'ik': 1, '❤️❤️❤️❤️\\ufeff': 1, 'eyesadvertisementslike': 1, 'tango': 1, 'twins': 1, 'challenges': 1, 'undesirable': 1, 'httpswwwindiegogocomprojectshelpstopmypovertycyberpanhandleingx8692160home': 1, 'aka': 1, 'weekend': 1, 'olielle': 1, 'price385': 1, 'kidsmediausa': 1, 'sleeping': 1, 'httpwwwermailpldolaczunnfy2i': 1, 'nerdy': 1, 'driveshaft\\ufeff': 1, 'focuses': 1, 'overlol': 1, 'covered': 1, 'narrow': 1, 'manager': 1, 'withing': 1, 'million\\ufeff': 1, 'reveling': 1, 'ehi': 1, 'see\\ufeff': 1, 'glamour': 1, 'httpswwwfacebookcomteelalala\\ufeff': 1, 'spraytan': 1, 'trigo': 1, 'lile': 1, 'httpimage2youru480511340521': 1, 'short': 1, 'diddle\\ufeff': 1, 'unelind': 1, 'rekt': 1, 'pleasewere': 1, 'yuliya': 1, 'httpinstagramcompsmzdivopxb\\ufeff': 1, 'roarrrr\\ufeff': 1, 'tinyurldotcomslashmxh2y77': 1, 'axy665\\ufeff': 1, 'vulnerable': 1, 'mice': 1, 'httpimage2youru480511340490': 1, 'arguementsconsole': 1, '♪♪♪': 1, 'httpsplaygooglecomstoreappsdetailsidcomyourelinkmakeuptransformation': 1, 'thundering': 1, '346': 1, 'bd3721315\\ufeff': 1, 'ghostpoet100': 1, 'lip': 1, 'yboiveth': 1, 'httproverebaycomroverimp1710534811925501ff31pub5575096797toolid10001campid5337555197customidbogdangrigoremptmathfloormathrandom999999999scriptnoscripta': 1, 'perverse': 1, 'décio': 1, 'else\\ufeff': 1, 'hunger': 1, '❤❤❤❤❤❤❤❤❤❤❤❤❤❤❤❤❤❤❤❤❤❤❤❤❤❤❤❤❤❤❤❤❤❤❤❤❤❤❤': 1, 'relationship': 1, 'cd': 1, 'herd': 1, 'spell': 1, 'playerhis': 1, 'populatoin': 1, 'tend': 1, '04': 1, 'missouri': 1, 'soooooooooooooooooooooooooooooooooooooooooooooooooo': 1, 'marketglory': 1, 'officiates': 1, 'rave': 1, 'filled': 1, 'skinny': 1, 'dissertation': 1, 'guasch': 1, 'wastin': 1, 'unbiased': 1, 'watchv6h0m5sayho': 1, 'gamezzmta\\ufeff': 1, 'mogotrevo': 1, 'intervene': 1, 'charity': 1, 'videoxx\\ufeff': 1, 'crescendoing': 1, '10000000': 1, 'propa': 1, 'comvote': 1, 'allot': 1, 'lyrically': 1, 'blessing': 1, 'dream\\ufeff': 1, 'gypsy': 1, '1it': 1, 'ricky': 1, 'eminem3': 1, 'exciting': 1, 'ever3\\ufeff': 1, 'superr\\ufeff': 1, 'streets': 1, 'noticed': 1, 'foolish': 1, 'dumb\\ufeff': 1, 'lneadw26bftotoufj0z3vfflfnaxykwzsivqhimxenotorious': 1, 'however': 1, 'signup': 1, 'overplayed': 1, 'underground': 1, 'jungle\\ufeff': 1, 'block': 1, 'jovaphile': 1, 'walk': 1, 'government\\ufeff': 1, 'freestyles': 1, 'prepare': 1, 'irish': 1, 'httpswwwfacebookcompagesd8aad8add985d98ad984d8a7d8acd985d984d8a7d984d8a7d985d988d8b3d98ad982d989music674732645945877': 1, 'mainstream': 1, 'motivate': 1, 'husky': 1, 'giant': 1, '😅\\ufeff': 1, 'dresses': 1, 'woozy': 1, 'footballsoccer': 1, 'coverswe': 1, 'style”': 1, 'inch': 1, 'httpygunitedcom20141108littlepsyfromthehasbraintumor6monthslefttolive': 1, 'depth\\ufeff': 1, 'trelod': 1, 'counsel': 1, 'http9gagcomgagaavpwj9': 1, 'martyrs': 1, 'children': 1, 'heartbreaking': 1, 'poprock': 1, 'modern': 1, 'useful': 1, 'drones': 1, 'seal': 1, 'cheating': 1, 'wat': 1, 'chance\\ufeff': 1, 'donating': 1, 'comforter': 1, '025': 1, 'germany': 1, 'giftcard': 1, 'lneadw26bfunoarag71awgu6tjo6azdkfiuntz1hymuhammad': 1, 'blushing': 1, 'awesomeness': 1, '♥♥♥♥♥♥\\ufeff': 1, 'httpsplaygooglecomstoreappsdetailsidvnibitapplockerhlen\\ufeff': 1, 'starlitnightsky': 1, '“': 1, 'apologies': 1, 'kidz': 1, 'invented': 1, 'root': 1, 'yet\\ufeff': 1, 'believeri': 1, 'undefiled': 1, 'songbut': 1, 'musicbut': 1, 'tshirtof': 1, 'rape': 1, '100100\\ufeff': 1, 'vaahidmustafic': 1, 'httpaudiojunglenetusereugenekalininportfoliorefeugenekalinin\\ufeff': 1, 'stick': 1, 'smack': 1, 'scriptdocumentwritea': 1, 'comeing': 1, 'shallow': 1, 'shirt': 1, 'exists\\ufeff': 1, 'sttuupid\\ufeff': 1, 'cold': 1, 'alive\\ufeff': 1, '2005': 1, 'health': 1, '4s': 1, 'crazycelebnewseupn': 1, 'relevant': 1, 'httpstwittercomgbphotographygb\\ufeff': 1, 'niceesabrosura': 1, 'understand\\ufeff': 1, '868': 1, 'youtu\\ufeff': 1, 'haki': 1, 'cazzy': 1, 'front': 1, 'net': 1, 'goosebumps': 1, 'subscribethanksjoyce\\ufeff': 1, 'be\\ufeff': 1, 'patriarchs': 1, 'selfie': 1, 'visuelgamingznl': 1, 'younique': 1, 'psykorean\\ufeff': 1, 'vanishes': 1, 'spongebob': 1, 'belle': 1, 'austin': 1, 'grateful': 1, 'se': 1, 'mai': 1, 'httpswwwpaidvertscomrefsihaam01': 1, 'skits': 1, 'artists\\ufeff': 1, 'statement': 1, 'songafter': 1, 'faze': 1, 'meaty': 1, 'listeningstill': 1, 'mah': 1, 'otherwise': 1, 'httpthepiratebaysetorrent6381501timothysykescollection\\ufeff': 1, 'today\\ufeff': 1, 'freestyle': 1, 'czfcxsn0jnq': 1, 'httpwwwaaasorgtechivoteview258742177367': 1, 'disappoint': 1, 'anderson': 1, 'songcongratulations\\ufeff': 1, 'software': 1, 'spotify': 1, 'chanson\\ufeff': 1, 'noise\\ufeff': 1, 'οh': 1, 'httpwwwsunfrogshirtscomsunglassworldhtml24398\\ufeff': 1, 'translate': 1, 'analyst': 1, 'emi̇nem': 1, 'httpwwwgofundmecombishopsgravemarker': 1, 'tank': 1, 'ending': 1, 'beaties': 1, 'lmao': 1, 'jenny': 1, 'wery': 1, 'marketer': 1, '😫😓😏😪😔😖😌😭😎😚😘😙😗😋😝😜😛😍😒😞😷😶😵😳😲😱😟😰😩😨😧😦😥😤😣😮😴😢😡😠😬😕😑😐😯😉😈😇😆😅😄😃😂😁😀😊☺': 1, 'moved': 1, 'price320': 1, 'international': 1, 'plausible': 1, 'funnier': 1, 'emas': 1, 'mscalifornia95\\ufeff': 1, 'loosing': 1, 'obsessed': 1, 'song😊😊😊😊😊😊😊😊😊😊😊😊😊😊😊😊😊😊😊😊😊😊😊😊😊😊😊😊😊😊😊😊😊😊😊😊😊😊😊😊😊😊😊😊😊😊\\ufeff': 1, 'httptsucoroberts9010\\ufeff': 1, 'wellif': 1, 'bastard\\ufeff': 1, 'billie': 1, 'best\\ufeff': 1, 'telling': 1, 'brave': 1, 'bighit': 1, 'motivating': 1, 'dede\\ufeff': 1, 'acquiring': 1, 'cardsxbox': 1, 'proud': 1, 'nuketown': 1, 'recognizes': 1, 'talents': 1, 'não': 1, 'critiquing': 1, '1fhenqx1twqm153v2ptayiejnealahzvem\\ufeff': 1, 'facebookpage': 1, 'room': 1, 'daniels': 1, 'succeeds': 1, 'confidence': 1, '851247920': 1, 'figure': 1, 'received': 1, 'winooze': 1, 'lovethewayyoulie': 1, 'reduce': 1, 'youtubehbbhhhgh\\ufeff': 1, 'apprecitate': 1, '❤❤❤': 1, 'scared': 1, '🚨🚨🚨🚨🚨🚨🚨🚨🚨🚨🚨🚨🚨🚨🚨🚨subscribe': 1, 'results': 1, 'lane': 1, 'untitled': 1, 'kinglothedancer\\ufeff': 1, 'adore': 1, 'euw': 1, 'amazement': 1, 'enlist': 1, 'httpswwwfacebookcompagesnaileynicool629410220489046refhl': 1, 'financial': 1, 'whatuknow': 1, 'art': 1, 'energy': 1, 'br\\ufeff': 1, 'httpswwwkickstartercomprojects733634264visortwin\\ufeff': 1, 'tomorrowjoking': 1, 'insidious': 1, 'httphackfbaccountlivecomref4477063\\ufeff': 1, 'were\\ufeff': 1, 'ep': 1, 'loops': 1, 'frigea': 1, 'jyp': 1, 'often': 1, 'heard\\ufeff': 1, 'therealterrell': 1, 'kidding\\ufeff': 1, 'los': 1, 'changeable': 1, 'illustrate': 1, 'absorbing': 1, 'saints': 1, 'heroin': 1, 'werent': 1, 'likeeee\\ufeff': 1, 'mail': 1, 'fair': 1, 'httphackfbaccountlivecomref4344749\\ufeff': 1, 'pussy': 1, '2x109': 1, 'ho': 1, '1030': 1, '→\\ufeff': 1, 'understands': 1, 'failready': 1, 'jack': 1, 'mp3s': 1, 'setting': 1, '❤🎵🎶🎼🎸\\ufeff': 1, 'ii': 1, 'wages': 1, 'bangers': 1, 'freddy': 1, '“gangnam': 1, 'httpswwwfacebookcomvideophpv10200253113705769setvb201470069872822type3permpage1': 1, 'you’ve': 1, 'yahoo': 1, 'large': 1, 'stream\\ufeff': 1, 'remixer': 1})\n"
     ]
    }
   ],
   "source": [
    "from collections import Counter\n",
    "token = []\n",
    "for idx,x in data.iterrows():\n",
    "    token = token + word_tokenize(x['CONTENT'])\n",
    "print(len(token))\n",
    "c= Counter(token)\n",
    "print(c)"
   ]
  }
 ],
 "metadata": {
  "kernelspec": {
   "display_name": "Python 3",
   "language": "python",
   "name": "python3"
  },
  "language_info": {
   "codemirror_mode": {
    "name": "ipython",
    "version": 3
   },
   "file_extension": ".py",
   "mimetype": "text/x-python",
   "name": "python",
   "nbconvert_exporter": "python",
   "pygments_lexer": "ipython3",
   "version": "3.5.2"
  }
 },
 "nbformat": 4,
 "nbformat_minor": 2
}
